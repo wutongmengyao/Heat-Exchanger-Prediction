{
 "cells": [
  {
   "cell_type": "code",
   "execution_count": 1,
   "id": "15d8a938-4102-477e-b901-ca9170d3b125",
   "metadata": {},
   "outputs": [],
   "source": [
    "import pandas as pd "
   ]
  },
  {
   "cell_type": "code",
   "execution_count": 2,
   "id": "e1b85929-6fe7-4970-adb5-3081d16c3d8b",
   "metadata": {},
   "outputs": [],
   "source": [
    "df=pd.read_excel('All collected data.xlsx')"
   ]
  },
  {
   "cell_type": "code",
   "execution_count": 3,
   "id": "7c991d1b-b0c1-4f27-934d-acb8cdcb5d67",
   "metadata": {},
   "outputs": [],
   "source": [
    "df=df.drop(columns=['Reference'])"
   ]
  },
  {
   "cell_type": "code",
   "execution_count": 4,
   "id": "6c8a6541-b682-482a-a8c6-d356e79feb49",
   "metadata": {},
   "outputs": [
    {
     "data": {
      "text/html": [
       "<div>\n",
       "<style scoped>\n",
       "    .dataframe tbody tr th:only-of-type {\n",
       "        vertical-align: middle;\n",
       "    }\n",
       "\n",
       "    .dataframe tbody tr th {\n",
       "        vertical-align: top;\n",
       "    }\n",
       "\n",
       "    .dataframe thead th {\n",
       "        text-align: right;\n",
       "    }\n",
       "</style>\n",
       "<table border=\"1\" class=\"dataframe\">\n",
       "  <thead>\n",
       "    <tr style=\"text-align: right;\">\n",
       "      <th></th>\n",
       "      <th>Density (Kg/m3)</th>\n",
       "      <th>Time (hr)</th>\n",
       "      <th>Surface temperature (oC)</th>\n",
       "      <th>Fluid temperature (oC)</th>\n",
       "      <th>Fluid velocity (m/s)</th>\n",
       "      <th>Equivalent diameter (m)</th>\n",
       "      <th>Dissolved oxygen (ppmw)</th>\n",
       "      <th>Fouling factor (m2 K/kW)</th>\n",
       "    </tr>\n",
       "  </thead>\n",
       "  <tbody>\n",
       "    <tr>\n",
       "      <th>0</th>\n",
       "      <td>797.762</td>\n",
       "      <td>3.333333</td>\n",
       "      <td>202.67</td>\n",
       "      <td>87.0</td>\n",
       "      <td>0.56</td>\n",
       "      <td>0.0147</td>\n",
       "      <td>322.100741</td>\n",
       "      <td>0.0023</td>\n",
       "    </tr>\n",
       "    <tr>\n",
       "      <th>1</th>\n",
       "      <td>797.762</td>\n",
       "      <td>3.666667</td>\n",
       "      <td>202.67</td>\n",
       "      <td>87.0</td>\n",
       "      <td>0.56</td>\n",
       "      <td>0.0147</td>\n",
       "      <td>322.100741</td>\n",
       "      <td>0.0020</td>\n",
       "    </tr>\n",
       "    <tr>\n",
       "      <th>2</th>\n",
       "      <td>797.762</td>\n",
       "      <td>4.000000</td>\n",
       "      <td>203.00</td>\n",
       "      <td>85.5</td>\n",
       "      <td>0.56</td>\n",
       "      <td>0.0147</td>\n",
       "      <td>322.100741</td>\n",
       "      <td>0.0120</td>\n",
       "    </tr>\n",
       "    <tr>\n",
       "      <th>3</th>\n",
       "      <td>797.762</td>\n",
       "      <td>4.333333</td>\n",
       "      <td>204.33</td>\n",
       "      <td>85.0</td>\n",
       "      <td>0.56</td>\n",
       "      <td>0.0147</td>\n",
       "      <td>322.100741</td>\n",
       "      <td>0.0149</td>\n",
       "    </tr>\n",
       "    <tr>\n",
       "      <th>4</th>\n",
       "      <td>797.762</td>\n",
       "      <td>4.666667</td>\n",
       "      <td>205.00</td>\n",
       "      <td>85.0</td>\n",
       "      <td>0.56</td>\n",
       "      <td>0.0147</td>\n",
       "      <td>322.100741</td>\n",
       "      <td>0.0171</td>\n",
       "    </tr>\n",
       "  </tbody>\n",
       "</table>\n",
       "</div>"
      ],
      "text/plain": [
       "   Density (Kg/m3)  Time (hr)  Surface temperature (oC)  \\\n",
       "0          797.762   3.333333                    202.67   \n",
       "1          797.762   3.666667                    202.67   \n",
       "2          797.762   4.000000                    203.00   \n",
       "3          797.762   4.333333                    204.33   \n",
       "4          797.762   4.666667                    205.00   \n",
       "\n",
       "   Fluid temperature (oC)  Fluid velocity (m/s)  Equivalent diameter (m)  \\\n",
       "0                    87.0                  0.56                   0.0147   \n",
       "1                    87.0                  0.56                   0.0147   \n",
       "2                    85.5                  0.56                   0.0147   \n",
       "3                    85.0                  0.56                   0.0147   \n",
       "4                    85.0                  0.56                   0.0147   \n",
       "\n",
       "   Dissolved oxygen (ppmw)  Fouling factor (m2 K/kW)  \n",
       "0               322.100741                    0.0023  \n",
       "1               322.100741                    0.0020  \n",
       "2               322.100741                    0.0120  \n",
       "3               322.100741                    0.0149  \n",
       "4               322.100741                    0.0171  "
      ]
     },
     "execution_count": 4,
     "metadata": {},
     "output_type": "execute_result"
    }
   ],
   "source": [
    "df.head()"
   ]
  },
  {
   "cell_type": "code",
   "execution_count": 5,
   "id": "fbee6059-71e9-4365-8e52-d4268888ce2e",
   "metadata": {},
   "outputs": [],
   "source": [
    "X=df.drop(columns=['Fouling factor (m2 K/kW)'])"
   ]
  },
  {
   "cell_type": "code",
   "execution_count": 6,
   "id": "998c08bd-9a7b-48a4-b5f9-07ed8953857e",
   "metadata": {},
   "outputs": [],
   "source": [
    "y=df['Fouling factor (m2 K/kW)']"
   ]
  },
  {
   "cell_type": "code",
   "execution_count": 7,
   "id": "76b54490-ff4a-489f-a7ee-021e3f830831",
   "metadata": {},
   "outputs": [],
   "source": [
    "import numpy as np"
   ]
  },
  {
   "cell_type": "code",
   "execution_count": 8,
   "id": "19d4a899-948e-450c-883b-6a4313afc7c9",
   "metadata": {},
   "outputs": [],
   "source": [
    "from sklearn.preprocessing import StandardScaler\n",
    "stand=StandardScaler()\n",
    "X=stand.fit_transform(X)"
   ]
  },
  {
   "cell_type": "code",
   "execution_count": 9,
   "id": "c2cdaa91-fd93-4f8c-ba5f-37e2c04e75c6",
   "metadata": {},
   "outputs": [],
   "source": [
    "from sklearn.model_selection import train_test_split\n",
    "tx,vx,ty,vy=train_test_split(X,y,test_size=0.2,random_state=666,shuffle=True)"
   ]
  },
  {
   "cell_type": "code",
   "execution_count": 32,
   "id": "d1280701-d846-4d37-9c64-4a80eea2cc64",
   "metadata": {},
   "outputs": [],
   "source": [
    "from sklearn.ensemble import RandomForestRegressor\n",
    "from sklearn.ensemble import StackingRegressor\n",
    "from sklearn.svm import LinearSVR\n",
    "from sklearn.ensemble import BaggingRegressor\n",
    "from xgboost import XGBRegressor as XGBR"
   ]
  },
  {
   "cell_type": "code",
   "execution_count": 33,
   "id": "b5d1856e-1395-49f4-a744-c2fb7a76852d",
   "metadata": {},
   "outputs": [],
   "source": [
    "df1=pd.DataFrame(columns=['yp'])"
   ]
  },
  {
   "cell_type": "code",
   "execution_count": 34,
   "id": "4e003d43-681c-4f35-b8a2-62b2fa30af30",
   "metadata": {},
   "outputs": [],
   "source": [
    "estimators = [\n",
    " ('rf', RandomForestRegressor(n_estimators=100,n_jobs=-1,random_state=666,oob_score=True)),\n",
    " ('bag', BaggingRegressor(n_estimators=10,oob_score=True,n_jobs=-1,random_state=666)),\n",
    " ('gbm',XGBR(n_estimators=100,gamma=0.6,n_jobs=-1,max_depth=6,learning_rate=0.01,subsample=1))\n",
    "]"
   ]
  },
  {
   "cell_type": "code",
   "execution_count": 35,
   "id": "9d87a3a1-e3cb-4169-9dca-e08edaeee0a8",
   "metadata": {},
   "outputs": [],
   "source": [
    "reg = StackingRegressor(estimators=estimators,final_estimator=LinearSVR(),cv=5)"
   ]
  },
  {
   "cell_type": "code",
   "execution_count": 36,
   "id": "7ee16787-8335-47c9-b517-29e384410dfe",
   "metadata": {},
   "outputs": [
    {
     "name": "stderr",
     "output_type": "stream",
     "text": [
      "D:\\pyf\\conda\\lib\\site-packages\\sklearn\\ensemble\\_bagging.py:1204: UserWarning: Some inputs do not have OOB scores. This probably means too few estimators were used to compute any reliable oob estimates.\n",
      "  warn(\n",
      "D:\\pyf\\conda\\lib\\site-packages\\sklearn\\ensemble\\_bagging.py:1204: UserWarning: Some inputs do not have OOB scores. This probably means too few estimators were used to compute any reliable oob estimates.\n",
      "  warn(\n",
      "D:\\pyf\\conda\\lib\\site-packages\\sklearn\\ensemble\\_bagging.py:1204: UserWarning: Some inputs do not have OOB scores. This probably means too few estimators were used to compute any reliable oob estimates.\n",
      "  warn(\n",
      "D:\\pyf\\conda\\lib\\site-packages\\sklearn\\ensemble\\_bagging.py:1204: UserWarning: Some inputs do not have OOB scores. This probably means too few estimators were used to compute any reliable oob estimates.\n",
      "  warn(\n",
      "D:\\pyf\\conda\\lib\\site-packages\\sklearn\\ensemble\\_bagging.py:1204: UserWarning: Some inputs do not have OOB scores. This probably means too few estimators were used to compute any reliable oob estimates.\n",
      "  warn(\n",
      "D:\\pyf\\conda\\lib\\site-packages\\sklearn\\ensemble\\_bagging.py:1204: UserWarning: Some inputs do not have OOB scores. This probably means too few estimators were used to compute any reliable oob estimates.\n",
      "  warn(\n",
      "D:\\pyf\\conda\\lib\\site-packages\\sklearn\\svm\\_base.py:1225: ConvergenceWarning: Liblinear failed to converge, increase the number of iterations.\n",
      "  warnings.warn(\n"
     ]
    }
   ],
   "source": [
    "reg.fit(tx, ty)\n",
    "yp=reg.predict(vx)\n",
    "df1['yp']=yp"
   ]
  },
  {
   "cell_type": "code",
   "execution_count": 37,
   "id": "7f180610-3337-4ecf-864f-3bbd3195f382",
   "metadata": {},
   "outputs": [],
   "source": [
    "m=[]\n",
    "mae=[]\n",
    "mse=[]\n",
    "r2=[]\n",
    "rae=[]\n",
    "mape=[]\n",
    "p25=[]\n",
    "p05=[]\n",
    "p75=[]\n",
    "p2=[]\n",
    "p4=[]\n",
    "plog=[]\n",
    "pexp=[]\n",
    "psin=[]\n",
    "ptan=[]"
   ]
  },
  {
   "cell_type": "code",
   "execution_count": 38,
   "id": "196c9749-32e0-4f3d-a189-a44aedf4c9b8",
   "metadata": {},
   "outputs": [],
   "source": [
    "#df1.head()\n",
    "df1.to_excel('./predict_data/stack.xlsx')"
   ]
  },
  {
   "cell_type": "code",
   "execution_count": 39,
   "id": "55d77661-9164-4867-a316-eab8a04fdc3c",
   "metadata": {},
   "outputs": [],
   "source": [
    "from sklearn.metrics import mean_absolute_error,mean_squared_error,r2_score,mean_absolute_percentage_error\n",
    "MAE=mean_absolute_error(vy,yp)\n",
    "MSE=mean_squared_error(vy,yp)\n",
    "R2=r2_score(vy,yp)\n",
    "errors = np.abs(vy - yp)\n",
    "mean_true = np.mean(vy)\n",
    "RAE= np.mean(errors) / mean_true\n",
    "MAPE= mean_absolute_percentage_error(vy,yp)\n",
    "mae.append(MAE)\n",
    "mse.append(MSE)\n",
    "r2.append(R2)\n",
    "rae.append(RAE)\n",
    "mape.append(MAPE)"
   ]
  },
  {
   "cell_type": "code",
   "execution_count": 40,
   "id": "e417d13c-1298-4562-a97f-171f44fea455",
   "metadata": {},
   "outputs": [],
   "source": [
    "df2=pd.DataFrame({'MAE':mae,'MSE':mse,'R2':r2,'RAE':rae,'MAPE':mape})"
   ]
  },
  {
   "cell_type": "code",
   "execution_count": 41,
   "id": "ebc422f5-40e9-49ac-a2f2-b55a5b684608",
   "metadata": {},
   "outputs": [
    {
     "data": {
      "text/html": [
       "<div>\n",
       "<style scoped>\n",
       "    .dataframe tbody tr th:only-of-type {\n",
       "        vertical-align: middle;\n",
       "    }\n",
       "\n",
       "    .dataframe tbody tr th {\n",
       "        vertical-align: top;\n",
       "    }\n",
       "\n",
       "    .dataframe thead th {\n",
       "        text-align: right;\n",
       "    }\n",
       "</style>\n",
       "<table border=\"1\" class=\"dataframe\">\n",
       "  <thead>\n",
       "    <tr style=\"text-align: right;\">\n",
       "      <th></th>\n",
       "      <th>MAE</th>\n",
       "      <th>MSE</th>\n",
       "      <th>R2</th>\n",
       "      <th>RAE</th>\n",
       "      <th>MAPE</th>\n",
       "    </tr>\n",
       "  </thead>\n",
       "  <tbody>\n",
       "    <tr>\n",
       "      <th>0</th>\n",
       "      <td>0.004478</td>\n",
       "      <td>0.000137</td>\n",
       "      <td>0.996104</td>\n",
       "      <td>0.029252</td>\n",
       "      <td>0.149039</td>\n",
       "    </tr>\n",
       "  </tbody>\n",
       "</table>\n",
       "</div>"
      ],
      "text/plain": [
       "        MAE       MSE        R2       RAE      MAPE\n",
       "0  0.004478  0.000137  0.996104  0.029252  0.149039"
      ]
     },
     "execution_count": 41,
     "metadata": {},
     "output_type": "execute_result"
    }
   ],
   "source": [
    "df2"
   ]
  },
  {
   "cell_type": "code",
   "execution_count": 42,
   "id": "0760b219-efd5-4b99-8e69-809ac0bf48ab",
   "metadata": {},
   "outputs": [],
   "source": [
    "import matplotlib.pyplot as plt"
   ]
  },
  {
   "cell_type": "code",
   "execution_count": 43,
   "id": "c047cb85-8ad0-4d2d-b314-9fdbbbdb7428",
   "metadata": {},
   "outputs": [
    {
     "name": "stderr",
     "output_type": "stream",
     "text": [
      "No artists with labels found to put in legend.  Note that artists whose label start with an underscore are ignored when legend() is called with no argument.\n"
     ]
    },
    {
     "data": {
      "image/png": "[encoded data removed]",
      "text/plain": [
       "<Figure size 640x480 with 1 Axes>"
      ]
     },
     "metadata": {},
     "output_type": "display_data"
    }
   ],
   "source": [
    "plt.plot(vy,vy,'r')\n",
    "plt.scatter(yp,vy)\n",
    "plt.xlabel('Measured')\n",
    "plt.ylabel('Predict')\n",
    "plt.suptitle('Single predictors versus stacked predictors')\n",
    "plt.legend()\n",
    "plt.show()"
   ]
  },
  {
   "cell_type": "code",
   "execution_count": null,
   "id": "42ff61fd-bd1e-4c9e-ba4e-53733452c07b",
   "metadata": {},
   "outputs": [],
   "source": []
  },
  {
   "cell_type": "code",
   "execution_count": null,
   "id": "8633a2d7-03b5-4776-8dfd-e8301526fa30",
   "metadata": {},
   "outputs": [],
   "source": []
  }
 ],
 "metadata": {
  "kernelspec": {
   "display_name": "Python 3 (ipykernel)",
   "language": "python",
   "name": "python3"
  },
  "language_info": {
   "codemirror_mode": {
    "name": "ipython",
    "version": 3
   },
   "file_extension": ".py",
   "mimetype": "text/x-python",
   "name": "python",
   "nbconvert_exporter": "python",
   "pygments_lexer": "ipython3",
   "version": "3.9.5"
  }
 },
 "nbformat": 4,
 "nbformat_minor": 5
}
