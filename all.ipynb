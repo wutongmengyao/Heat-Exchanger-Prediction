{
 "cells": [
  {
   "cell_type": "code",
   "execution_count": 1,
   "id": "ee72046f-adbd-4274-8f92-c64118b5f4b0",
   "metadata": {},
   "outputs": [],
   "source": [
    "import pandas as pd "
   ]
  },
  {
   "cell_type": "code",
   "execution_count": 2,
   "id": "37481b0d-e31e-4b31-ae1e-837873adce84",
   "metadata": {},
   "outputs": [],
   "source": [
    "df=pd.read_excel('All collected data.xlsx')"
   ]
  },
  {
   "cell_type": "code",
   "execution_count": 3,
   "id": "b98872e1-a846-45d1-ac60-c0f6d3713477",
   "metadata": {},
   "outputs": [
    {
     "data": {
      "text/html": [
       "<div>\n",
       "<style scoped>\n",
       "    .dataframe tbody tr th:only-of-type {\n",
       "        vertical-align: middle;\n",
       "    }\n",
       "\n",
       "    .dataframe tbody tr th {\n",
       "        vertical-align: top;\n",
       "    }\n",
       "\n",
       "    .dataframe thead th {\n",
       "        text-align: right;\n",
       "    }\n",
       "</style>\n",
       "<table border=\"1\" class=\"dataframe\">\n",
       "  <thead>\n",
       "    <tr style=\"text-align: right;\">\n",
       "      <th></th>\n",
       "      <th>Density (Kg/m3)</th>\n",
       "      <th>Time (hr)</th>\n",
       "      <th>Surface temperature (oC)</th>\n",
       "      <th>Fluid temperature (oC)</th>\n",
       "      <th>Fluid velocity (m/s)</th>\n",
       "      <th>Equivalent diameter (m)</th>\n",
       "      <th>Dissolved oxygen (ppmw)</th>\n",
       "      <th>Fouling factor (m2 K/kW)</th>\n",
       "      <th>Reference</th>\n",
       "    </tr>\n",
       "  </thead>\n",
       "  <tbody>\n",
       "    <tr>\n",
       "      <th>0</th>\n",
       "      <td>797.762</td>\n",
       "      <td>3.333333</td>\n",
       "      <td>202.67</td>\n",
       "      <td>87.0</td>\n",
       "      <td>0.56</td>\n",
       "      <td>0.0147</td>\n",
       "      <td>322.100741</td>\n",
       "      <td>0.0023</td>\n",
       "      <td>Asomaning, S., 1990. The role of olefins in fo...</td>\n",
       "    </tr>\n",
       "    <tr>\n",
       "      <th>1</th>\n",
       "      <td>797.762</td>\n",
       "      <td>3.666667</td>\n",
       "      <td>202.67</td>\n",
       "      <td>87.0</td>\n",
       "      <td>0.56</td>\n",
       "      <td>0.0147</td>\n",
       "      <td>322.100741</td>\n",
       "      <td>0.0020</td>\n",
       "      <td>Asomaning, S., 1990. The role of olefins in fo...</td>\n",
       "    </tr>\n",
       "    <tr>\n",
       "      <th>2</th>\n",
       "      <td>797.762</td>\n",
       "      <td>4.000000</td>\n",
       "      <td>203.00</td>\n",
       "      <td>85.5</td>\n",
       "      <td>0.56</td>\n",
       "      <td>0.0147</td>\n",
       "      <td>322.100741</td>\n",
       "      <td>0.0120</td>\n",
       "      <td>Asomaning, S., 1990. The role of olefins in fo...</td>\n",
       "    </tr>\n",
       "    <tr>\n",
       "      <th>3</th>\n",
       "      <td>797.762</td>\n",
       "      <td>4.333333</td>\n",
       "      <td>204.33</td>\n",
       "      <td>85.0</td>\n",
       "      <td>0.56</td>\n",
       "      <td>0.0147</td>\n",
       "      <td>322.100741</td>\n",
       "      <td>0.0149</td>\n",
       "      <td>Asomaning, S., 1990. The role of olefins in fo...</td>\n",
       "    </tr>\n",
       "    <tr>\n",
       "      <th>4</th>\n",
       "      <td>797.762</td>\n",
       "      <td>4.666667</td>\n",
       "      <td>205.00</td>\n",
       "      <td>85.0</td>\n",
       "      <td>0.56</td>\n",
       "      <td>0.0147</td>\n",
       "      <td>322.100741</td>\n",
       "      <td>0.0171</td>\n",
       "      <td>Asomaning, S., 1990. The role of olefins in fo...</td>\n",
       "    </tr>\n",
       "  </tbody>\n",
       "</table>\n",
       "</div>"
      ],
      "text/plain": [
       "   Density (Kg/m3)  Time (hr)  Surface temperature (oC)  \\\n",
       "0          797.762   3.333333                    202.67   \n",
       "1          797.762   3.666667                    202.67   \n",
       "2          797.762   4.000000                    203.00   \n",
       "3          797.762   4.333333                    204.33   \n",
       "4          797.762   4.666667                    205.00   \n",
       "\n",
       "   Fluid temperature (oC)  Fluid velocity (m/s)  Equivalent diameter (m)  \\\n",
       "0                    87.0                  0.56                   0.0147   \n",
       "1                    87.0                  0.56                   0.0147   \n",
       "2                    85.5                  0.56                   0.0147   \n",
       "3                    85.0                  0.56                   0.0147   \n",
       "4                    85.0                  0.56                   0.0147   \n",
       "\n",
       "   Dissolved oxygen (ppmw)  Fouling factor (m2 K/kW)  \\\n",
       "0               322.100741                    0.0023   \n",
       "1               322.100741                    0.0020   \n",
       "2               322.100741                    0.0120   \n",
       "3               322.100741                    0.0149   \n",
       "4               322.100741                    0.0171   \n",
       "\n",
       "                                           Reference  \n",
       "0  Asomaning, S., 1990. The role of olefins in fo...  \n",
       "1  Asomaning, S., 1990. The role of olefins in fo...  \n",
       "2  Asomaning, S., 1990. The role of olefins in fo...  \n",
       "3  Asomaning, S., 1990. The role of olefins in fo...  \n",
       "4  Asomaning, S., 1990. The role of olefins in fo...  "
      ]
     },
     "execution_count": 3,
     "metadata": {},
     "output_type": "execute_result"
    }
   ],
   "source": [
    "df.head()"
   ]
  },
  {
   "cell_type": "code",
   "execution_count": 4,
   "id": "d727ae41-db48-4d26-94ec-71cd9170a56d",
   "metadata": {},
   "outputs": [],
   "source": [
    "df=df.drop(columns=['Reference'])"
   ]
  },
  {
   "cell_type": "code",
   "execution_count": 5,
   "id": "e8c46700-d708-4138-b02f-c468bce54a65",
   "metadata": {},
   "outputs": [
    {
     "data": {
      "text/html": [
       "<div>\n",
       "<style scoped>\n",
       "    .dataframe tbody tr th:only-of-type {\n",
       "        vertical-align: middle;\n",
       "    }\n",
       "\n",
       "    .dataframe tbody tr th {\n",
       "        vertical-align: top;\n",
       "    }\n",
       "\n",
       "    .dataframe thead th {\n",
       "        text-align: right;\n",
       "    }\n",
       "</style>\n",
       "<table border=\"1\" class=\"dataframe\">\n",
       "  <thead>\n",
       "    <tr style=\"text-align: right;\">\n",
       "      <th></th>\n",
       "      <th>Density (Kg/m3)</th>\n",
       "      <th>Time (hr)</th>\n",
       "      <th>Surface temperature (oC)</th>\n",
       "      <th>Fluid temperature (oC)</th>\n",
       "      <th>Fluid velocity (m/s)</th>\n",
       "      <th>Equivalent diameter (m)</th>\n",
       "      <th>Dissolved oxygen (ppmw)</th>\n",
       "      <th>Fouling factor (m2 K/kW)</th>\n",
       "    </tr>\n",
       "  </thead>\n",
       "  <tbody>\n",
       "    <tr>\n",
       "      <th>0</th>\n",
       "      <td>797.762</td>\n",
       "      <td>3.333333</td>\n",
       "      <td>202.67</td>\n",
       "      <td>87.0</td>\n",
       "      <td>0.56</td>\n",
       "      <td>0.0147</td>\n",
       "      <td>322.100741</td>\n",
       "      <td>0.0023</td>\n",
       "    </tr>\n",
       "    <tr>\n",
       "      <th>1</th>\n",
       "      <td>797.762</td>\n",
       "      <td>3.666667</td>\n",
       "      <td>202.67</td>\n",
       "      <td>87.0</td>\n",
       "      <td>0.56</td>\n",
       "      <td>0.0147</td>\n",
       "      <td>322.100741</td>\n",
       "      <td>0.0020</td>\n",
       "    </tr>\n",
       "    <tr>\n",
       "      <th>2</th>\n",
       "      <td>797.762</td>\n",
       "      <td>4.000000</td>\n",
       "      <td>203.00</td>\n",
       "      <td>85.5</td>\n",
       "      <td>0.56</td>\n",
       "      <td>0.0147</td>\n",
       "      <td>322.100741</td>\n",
       "      <td>0.0120</td>\n",
       "    </tr>\n",
       "    <tr>\n",
       "      <th>3</th>\n",
       "      <td>797.762</td>\n",
       "      <td>4.333333</td>\n",
       "      <td>204.33</td>\n",
       "      <td>85.0</td>\n",
       "      <td>0.56</td>\n",
       "      <td>0.0147</td>\n",
       "      <td>322.100741</td>\n",
       "      <td>0.0149</td>\n",
       "    </tr>\n",
       "    <tr>\n",
       "      <th>4</th>\n",
       "      <td>797.762</td>\n",
       "      <td>4.666667</td>\n",
       "      <td>205.00</td>\n",
       "      <td>85.0</td>\n",
       "      <td>0.56</td>\n",
       "      <td>0.0147</td>\n",
       "      <td>322.100741</td>\n",
       "      <td>0.0171</td>\n",
       "    </tr>\n",
       "  </tbody>\n",
       "</table>\n",
       "</div>"
      ],
      "text/plain": [
       "   Density (Kg/m3)  Time (hr)  Surface temperature (oC)  \\\n",
       "0          797.762   3.333333                    202.67   \n",
       "1          797.762   3.666667                    202.67   \n",
       "2          797.762   4.000000                    203.00   \n",
       "3          797.762   4.333333                    204.33   \n",
       "4          797.762   4.666667                    205.00   \n",
       "\n",
       "   Fluid temperature (oC)  Fluid velocity (m/s)  Equivalent diameter (m)  \\\n",
       "0                    87.0                  0.56                   0.0147   \n",
       "1                    87.0                  0.56                   0.0147   \n",
       "2                    85.5                  0.56                   0.0147   \n",
       "3                    85.0                  0.56                   0.0147   \n",
       "4                    85.0                  0.56                   0.0147   \n",
       "\n",
       "   Dissolved oxygen (ppmw)  Fouling factor (m2 K/kW)  \n",
       "0               322.100741                    0.0023  \n",
       "1               322.100741                    0.0020  \n",
       "2               322.100741                    0.0120  \n",
       "3               322.100741                    0.0149  \n",
       "4               322.100741                    0.0171  "
      ]
     },
     "execution_count": 5,
     "metadata": {},
     "output_type": "execute_result"
    }
   ],
   "source": [
    "df.head()"
   ]
  },
  {
   "cell_type": "code",
   "execution_count": 1,
   "id": "e24d1263-4dcd-403a-9b5a-d61c9dea57c5",
   "metadata": {},
   "outputs": [],
   "source": [
    "import seaborn as sns\n",
    "import matplotlib.pyplot as plt\n",
    "%matplotlib inline"
   ]
  },
  {
   "cell_type": "code",
   "execution_count": 291,
   "id": "ff1f44b9-0ec0-4e78-aaf9-16be0f8a3fbc",
   "metadata": {},
   "outputs": [
    {
     "data": {
      "image/png": "[encoded data removed]",
      "text/plain": [
       "<Figure size 2000x2000 with 2 Axes>"
      ]
     },
     "metadata": {},
     "output_type": "display_data"
    }
   ],
   "source": [
    "# 热力图\n",
    "plt.figure(figsize=(20,20))\n",
    "plt.rcParams.update({\"font.size\":8})\n",
    "sns.heatmap(df.corr(),annot=True,fmt='.1f',square=True)\n",
    "plt.savefig('jjj')\n",
    "plt.show()"
   ]
  },
  {
   "cell_type": "code",
   "execution_count": 6,
   "id": "4d19f1f1-9685-4601-9d1a-30c3a170a5e3",
   "metadata": {},
   "outputs": [],
   "source": [
    "X=df.drop(columns=['Fouling factor (m2 K/kW)'])"
   ]
  },
  {
   "cell_type": "code",
   "execution_count": 7,
   "id": "72a62305-0195-4ada-9c19-771472776f83",
   "metadata": {},
   "outputs": [],
   "source": [
    "y=df['Fouling factor (m2 K/kW)']"
   ]
  },
  {
   "cell_type": "code",
   "execution_count": 8,
   "id": "8d0d859c-0992-4b1a-8ad2-b6b2035b74b7",
   "metadata": {},
   "outputs": [],
   "source": [
    "from sklearn.preprocessing import StandardScaler"
   ]
  },
  {
   "cell_type": "code",
   "execution_count": 9,
   "id": "8eead986-27dd-4352-9bbe-4855a40c5c30",
   "metadata": {},
   "outputs": [],
   "source": [
    "stand=StandardScaler()"
   ]
  },
  {
   "cell_type": "code",
   "execution_count": 10,
   "id": "4d4b9e07-7592-4adf-bc26-dfec545bd548",
   "metadata": {},
   "outputs": [],
   "source": [
    "X=stand.fit_transform(X)"
   ]
  },
  {
   "cell_type": "code",
   "execution_count": 11,
   "id": "8f130332-c3fe-414e-9c27-95280fc7e8a5",
   "metadata": {},
   "outputs": [],
   "source": [
    "from sklearn.model_selection import train_test_split"
   ]
  },
  {
   "cell_type": "code",
   "execution_count": 12,
   "id": "aa4de3e3-4c50-4865-9b6d-25907b009fcf",
   "metadata": {},
   "outputs": [],
   "source": [
    "tx,vx,ty,vy=train_test_split(X,y,test_size=0.2,random_state=666,shuffle=True)"
   ]
  },
  {
   "cell_type": "code",
   "execution_count": null,
   "id": "786d9119-172e-4335-acb7-a3e877516637",
   "metadata": {},
   "outputs": [],
   "source": []
  },
  {
   "cell_type": "code",
   "execution_count": 13,
   "id": "46d53bd7-1c60-429d-864a-08634f1f155d",
   "metadata": {},
   "outputs": [],
   "source": [
    "from sklearn.linear_model import LogisticRegression"
   ]
  },
  {
   "cell_type": "code",
   "execution_count": 14,
   "id": "54e35dec-c69e-403b-ab49-b7298a5775a0",
   "metadata": {},
   "outputs": [],
   "source": [
    "log=LogisticRegression(C=0.1,n_jobs=-1,multi_class='ovr',random_state=101)"
   ]
  },
  {
   "cell_type": "code",
   "execution_count": 15,
   "id": "fff03205-f226-4f06-a0d9-98c39a983f0a",
   "metadata": {},
   "outputs": [],
   "source": [
    "model=log.fit(tx,ty.astype('int'))"
   ]
  },
  {
   "cell_type": "code",
   "execution_count": 16,
   "id": "4e83989a-c4ee-41fa-8378-41efd9093407",
   "metadata": {},
   "outputs": [],
   "source": [
    "yp=model.predict(vx)"
   ]
  },
  {
   "cell_type": "code",
   "execution_count": 17,
   "id": "09e2b3fb-c4f0-4aab-b343-7c834619e43a",
   "metadata": {},
   "outputs": [],
   "source": [
    "from sklearn.metrics import mean_absolute_error,mean_squared_error,r2_score"
   ]
  },
  {
   "cell_type": "code",
   "execution_count": 18,
   "id": "1ea24334-da07-4dc0-a1e7-bcd3eca8438d",
   "metadata": {},
   "outputs": [],
   "source": [
    "MAE=mean_absolute_error(vy,yp)"
   ]
  },
  {
   "cell_type": "code",
   "execution_count": 19,
   "id": "10d88b10-d589-4457-9a38-acb1daa0e75e",
   "metadata": {},
   "outputs": [
    {
     "data": {
      "text/plain": [
       "0.1522306487510748"
      ]
     },
     "execution_count": 19,
     "metadata": {},
     "output_type": "execute_result"
    }
   ],
   "source": [
    "MAE"
   ]
  },
  {
   "cell_type": "code",
   "execution_count": 20,
   "id": "5db71491-1ff8-40b4-9563-e4373138bb08",
   "metadata": {},
   "outputs": [],
   "source": [
    "MSE=mean_squared_error(vy,yp)"
   ]
  },
  {
   "cell_type": "code",
   "execution_count": 21,
   "id": "538b0351-ec3c-48da-b1c1-1c16913451b5",
   "metadata": {},
   "outputs": [
    {
     "data": {
      "text/plain": [
       "0.05689969707040319"
      ]
     },
     "execution_count": 21,
     "metadata": {},
     "output_type": "execute_result"
    }
   ],
   "source": [
    "MSE"
   ]
  },
  {
   "cell_type": "code",
   "execution_count": 22,
   "id": "fe43d8ec-93f0-431d-bea0-0a6466d28320",
   "metadata": {},
   "outputs": [],
   "source": [
    "R2=r2_score(vy,yp)"
   ]
  },
  {
   "cell_type": "code",
   "execution_count": 23,
   "id": "af9c3426-4457-4a06-8967-f7822589f803",
   "metadata": {},
   "outputs": [
    {
     "data": {
      "text/plain": [
       "-0.6162262347069787"
      ]
     },
     "execution_count": 23,
     "metadata": {},
     "output_type": "execute_result"
    }
   ],
   "source": [
    "R2"
   ]
  },
  {
   "cell_type": "code",
   "execution_count": 24,
   "id": "b8dde562-15fc-45da-9334-652e1d55e885",
   "metadata": {},
   "outputs": [],
   "source": [
    "import numpy as np"
   ]
  },
  {
   "cell_type": "code",
   "execution_count": 25,
   "id": "666a41c2-cabe-40d6-adb7-28d4f3aa3f2f",
   "metadata": {},
   "outputs": [],
   "source": [
    "errors = np.abs(vy - yp)\n",
    "mean_true = np.mean(vy)\n",
    "RAE = np.mean(errors) / mean_true"
   ]
  },
  {
   "cell_type": "code",
   "execution_count": 26,
   "id": "5172e9a3-f5e6-4bd9-8f9d-d00fbd5cc8f9",
   "metadata": {},
   "outputs": [
    {
     "data": {
      "text/plain": [
       "0.9943834185551893"
      ]
     },
     "execution_count": 26,
     "metadata": {},
     "output_type": "execute_result"
    }
   ],
   "source": [
    "RAE"
   ]
  },
  {
   "cell_type": "code",
   "execution_count": 27,
   "id": "59974448-ddb7-4e7f-89d5-36a654d02d44",
   "metadata": {},
   "outputs": [],
   "source": [
    "ape = np.abs((vy - yp) / vy)\n",
    "MAPE = np.mean(ape) * 100"
   ]
  },
  {
   "cell_type": "code",
   "execution_count": 28,
   "id": "5fd8833a-463f-41ab-bc04-54f8b5ad15e9",
   "metadata": {},
   "outputs": [
    {
     "data": {
      "text/plain": [
       "99.94316394551991"
      ]
     },
     "execution_count": 28,
     "metadata": {},
     "output_type": "execute_result"
    }
   ],
   "source": [
    "MAPE"
   ]
  },
  {
   "cell_type": "code",
   "execution_count": null,
   "id": "b158a72a-8aa5-47db-99a2-f541a21cc96f",
   "metadata": {},
   "outputs": [],
   "source": []
  },
  {
   "cell_type": "code",
   "execution_count": 29,
   "id": "9cd801f0-0e29-42ef-ba5e-3f03b4f4ab83",
   "metadata": {},
   "outputs": [],
   "source": [
    "from sklearn.ensemble import RandomForestRegressor"
   ]
  },
  {
   "cell_type": "code",
   "execution_count": 30,
   "id": "4e18bd2f-340e-4e80-9ea8-9737677df359",
   "metadata": {},
   "outputs": [],
   "source": [
    "rf=RandomForestRegressor(n_jobs=-1,random_state=111)"
   ]
  },
  {
   "cell_type": "code",
   "execution_count": 31,
   "id": "17ee1040-8a84-4592-a2a4-dcf0fadc9d92",
   "metadata": {},
   "outputs": [],
   "source": [
    "model=rf.fit(tx,ty)"
   ]
  },
  {
   "cell_type": "code",
   "execution_count": 32,
   "id": "90db209c-4fb9-42e8-94cd-4180cb5336f3",
   "metadata": {},
   "outputs": [],
   "source": [
    "yp=model.predict(vx)"
   ]
  },
  {
   "cell_type": "code",
   "execution_count": 33,
   "id": "f39ac0ab-21b0-420b-b929-b4ad614a418d",
   "metadata": {},
   "outputs": [],
   "source": [
    "MAE=mean_absolute_error(vy,yp)"
   ]
  },
  {
   "cell_type": "code",
   "execution_count": 34,
   "id": "ecdeb231-1fb2-46de-b946-5e1a748a4ccf",
   "metadata": {},
   "outputs": [
    {
     "data": {
      "text/plain": [
       "0.004444711450398509"
      ]
     },
     "execution_count": 34,
     "metadata": {},
     "output_type": "execute_result"
    }
   ],
   "source": [
    "MAE"
   ]
  },
  {
   "cell_type": "code",
   "execution_count": 35,
   "id": "88d9d545-cddc-4cc1-9838-70286fe0f971",
   "metadata": {},
   "outputs": [],
   "source": [
    "MSE=mean_squared_error(vy,yp)"
   ]
  },
  {
   "cell_type": "code",
   "execution_count": 36,
   "id": "80d1e314-e58b-45ba-933f-3d6b2a25a6bd",
   "metadata": {},
   "outputs": [
    {
     "data": {
      "text/plain": [
       "0.00013014357169013286"
      ]
     },
     "execution_count": 36,
     "metadata": {},
     "output_type": "execute_result"
    }
   ],
   "source": [
    "MSE"
   ]
  },
  {
   "cell_type": "code",
   "execution_count": 37,
   "id": "e6cdbde3-60e5-46d8-b0e2-917994bb527a",
   "metadata": {},
   "outputs": [],
   "source": [
    "R2=r2_score(vy,yp)"
   ]
  },
  {
   "cell_type": "code",
   "execution_count": 38,
   "id": "0298c805-7abb-472a-a616-dc41da602278",
   "metadata": {},
   "outputs": [
    {
     "data": {
      "text/plain": [
       "0.9963032939422541"
      ]
     },
     "execution_count": 38,
     "metadata": {},
     "output_type": "execute_result"
    }
   ],
   "source": [
    "R2"
   ]
  },
  {
   "cell_type": "code",
   "execution_count": 39,
   "id": "bfa2f72f-51af-4b0b-9df9-ce1d1eb71b64",
   "metadata": {},
   "outputs": [],
   "source": [
    "ape = np.abs((vy - yp) / vy)\n",
    "MAPE = np.mean(ape) * 100"
   ]
  },
  {
   "cell_type": "code",
   "execution_count": 40,
   "id": "8ed6825b-36e0-4c94-9bde-59477ada6432",
   "metadata": {},
   "outputs": [
    {
     "data": {
      "text/plain": [
       "16.511961485439148"
      ]
     },
     "execution_count": 40,
     "metadata": {},
     "output_type": "execute_result"
    }
   ],
   "source": [
    "MAPE"
   ]
  },
  {
   "cell_type": "code",
   "execution_count": 41,
   "id": "15a890ba-6a0c-4706-90d0-d6395aee6c8f",
   "metadata": {},
   "outputs": [],
   "source": [
    "errors = np.abs(vy - yp)\n",
    "mean_true = np.mean(vy)\n",
    "RAE = np.mean(errors) / mean_true"
   ]
  },
  {
   "cell_type": "code",
   "execution_count": 42,
   "id": "3c4224c0-d485-467b-b86c-41aa437d6262",
   "metadata": {},
   "outputs": [
    {
     "data": {
      "text/plain": [
       "0.02903322952900086"
      ]
     },
     "execution_count": 42,
     "metadata": {},
     "output_type": "execute_result"
    }
   ],
   "source": [
    "RAE"
   ]
  },
  {
   "cell_type": "code",
   "execution_count": null,
   "id": "5340fcb5-92e7-4425-a142-c473edcc7f35",
   "metadata": {},
   "outputs": [],
   "source": []
  },
  {
   "cell_type": "code",
   "execution_count": 43,
   "id": "f3214e1a-cc1e-4ab6-8612-32eb874f1a0e",
   "metadata": {},
   "outputs": [],
   "source": [
    "import xgboost as xgb\n",
    "# read data into Xgboost DMatrix format\n",
    "#整体\n",
    "train = xgb.DMatrix(tx, ty)\n",
    "test = xgb.DMatrix(vx, vy)"
   ]
  },
  {
   "cell_type": "code",
   "execution_count": 44,
   "id": "a333f09a-ec98-4ad7-acff-f0c72a658739",
   "metadata": {},
   "outputs": [],
   "source": [
    "# specify parameters via map\n",
    "params_xgb={\n",
    "    'booster':'gbtree',     #  tree-based models\n",
    "    'objective': 'reg:squarederror', \n",
    "    'eval_metric':'rmse',\n",
    "    'eta': 0.1,             # Same to learning rate\n",
    "    'gamma':0,              # Similar to min_impurity_decrease in GBDT\n",
    "    'alpha': 0,            # L1 regularization term on weight (analogous to Lasso regression)\n",
    "    'lambda': 2,          # L2 regularization term on weights (analogous to Ridge regression)\n",
    "    'max_depth': 6,         # Same as the max_depth of GBDT\n",
    "    'subsample': 1,         # Same as the subsample of GBDT\n",
    "    'colsample_bytree': 1,  # Similar to max_features in GBM\n",
    "    'min_child_weight': 1,  # minimum sum of instance weight (Hessian) needed in a child\n",
    "    'nthread':1,            # default to maximum number of threads available if not set\n",
    "}"
   ]
  },
  {
   "cell_type": "code",
   "execution_count": 45,
   "id": "45ecf536-2516-4bb5-ae9c-66cf35c47afe",
   "metadata": {},
   "outputs": [
    {
     "name": "stdout",
     "output_type": "stream",
     "text": [
      "[0]\teval-rmse:0.35618\n",
      "[50]\teval-rmse:0.02710\n",
      "[100]\teval-rmse:0.02011\n",
      "[150]\teval-rmse:0.01563\n",
      "[200]\teval-rmse:0.01434\n",
      "[250]\teval-rmse:0.01343\n",
      "[300]\teval-rmse:0.01285\n",
      "[350]\teval-rmse:0.01245\n",
      "[400]\teval-rmse:0.01215\n",
      "[450]\teval-rmse:0.01191\n",
      "[500]\teval-rmse:0.01168\n",
      "[550]\teval-rmse:0.01158\n",
      "[600]\teval-rmse:0.01144\n",
      "[650]\teval-rmse:0.01136\n",
      "[700]\teval-rmse:0.01125\n",
      "[750]\teval-rmse:0.01111\n",
      "[800]\teval-rmse:0.01104\n",
      "[850]\teval-rmse:0.01098\n",
      "[900]\teval-rmse:0.01094\n",
      "[950]\teval-rmse:0.01093\n",
      "[952]\teval-rmse:0.01093\n"
     ]
    }
   ],
   "source": [
    "watchlist=[(test,'eval')]\n",
    "num_round = 10000\n",
    "bst = xgb.train(params_xgb, train, num_round,verbose_eval=50,evals=watchlist,early_stopping_rounds=50)"
   ]
  },
  {
   "cell_type": "code",
   "execution_count": 46,
   "id": "b4c134fb-fe66-49e2-829c-5a910a22d18c",
   "metadata": {},
   "outputs": [],
   "source": [
    " yp=bst.predict(test)"
   ]
  },
  {
   "cell_type": "code",
   "execution_count": 47,
   "id": "eedda8f2-460c-41b2-abc4-0f8d34b7f62b",
   "metadata": {},
   "outputs": [],
   "source": [
    "MAE=mean_absolute_error(vy,yp)"
   ]
  },
  {
   "cell_type": "code",
   "execution_count": 48,
   "id": "74429d75-4be1-4dd4-b47a-12914bf78203",
   "metadata": {},
   "outputs": [
    {
     "data": {
      "text/plain": [
       "0.005428366742202456"
      ]
     },
     "execution_count": 48,
     "metadata": {},
     "output_type": "execute_result"
    }
   ],
   "source": [
    "MAE"
   ]
  },
  {
   "cell_type": "code",
   "execution_count": 49,
   "id": "61f4e369-3a9c-4526-ad15-f7559cb6791b",
   "metadata": {},
   "outputs": [],
   "source": [
    "MSE=mean_squared_error(vy,yp)"
   ]
  },
  {
   "cell_type": "code",
   "execution_count": 50,
   "id": "15180db4-ba66-4ccc-b6ae-cabc96b9a9c6",
   "metadata": {},
   "outputs": [
    {
     "data": {
      "text/plain": [
       "0.00011953323674257351"
      ]
     },
     "execution_count": 50,
     "metadata": {},
     "output_type": "execute_result"
    }
   ],
   "source": [
    "MSE"
   ]
  },
  {
   "cell_type": "code",
   "execution_count": 51,
   "id": "eabad09c-ce3d-4804-a666-71da13f70806",
   "metadata": {},
   "outputs": [],
   "source": [
    "R2=r2_score(vy,yp)"
   ]
  },
  {
   "cell_type": "code",
   "execution_count": 52,
   "id": "bc311fef-3470-4358-8094-312c09fcb3b9",
   "metadata": {},
   "outputs": [
    {
     "data": {
      "text/plain": [
       "0.9966046787049895"
      ]
     },
     "execution_count": 52,
     "metadata": {},
     "output_type": "execute_result"
    }
   ],
   "source": [
    "R2"
   ]
  },
  {
   "cell_type": "code",
   "execution_count": 53,
   "id": "e922175c-57fb-49b1-8f86-1b7ea786f25a",
   "metadata": {},
   "outputs": [],
   "source": [
    "ape = np.abs((vy - yp) / vy)\n",
    "MAPE = np.mean(ape) * 100"
   ]
  },
  {
   "cell_type": "code",
   "execution_count": 54,
   "id": "aac6a870-64dd-4c76-8051-f447036a652c",
   "metadata": {},
   "outputs": [
    {
     "data": {
      "text/plain": [
       "22.60682082356639"
      ]
     },
     "execution_count": 54,
     "metadata": {},
     "output_type": "execute_result"
    }
   ],
   "source": [
    "MAPE"
   ]
  },
  {
   "cell_type": "code",
   "execution_count": 55,
   "id": "d71183ff-8ce7-4497-b6c7-27c4a5b760a5",
   "metadata": {},
   "outputs": [],
   "source": [
    "errors = np.abs(vy - yp)\n",
    "mean_true = np.mean(vy)\n",
    "RAE = np.mean(errors) / mean_true"
   ]
  },
  {
   "cell_type": "code",
   "execution_count": 56,
   "id": "e84c91ad-f1ff-41de-ae9d-6977b9ded21c",
   "metadata": {},
   "outputs": [
    {
     "data": {
      "text/plain": [
       "0.03545854873882263"
      ]
     },
     "execution_count": 56,
     "metadata": {},
     "output_type": "execute_result"
    }
   ],
   "source": [
    "RAE"
   ]
  },
  {
   "cell_type": "code",
   "execution_count": null,
   "id": "8619c7cb-cd12-41a0-a997-2e277847491e",
   "metadata": {},
   "outputs": [],
   "source": []
  },
  {
   "cell_type": "code",
   "execution_count": 57,
   "id": "554389f2-58f0-4a03-9c90-9cdb59bd6782",
   "metadata": {},
   "outputs": [],
   "source": [
    "from sklearn.ensemble import BaggingRegressor"
   ]
  },
  {
   "cell_type": "code",
   "execution_count": 58,
   "id": "b8e148e8-9507-4569-88b3-1b5413e4b818",
   "metadata": {},
   "outputs": [],
   "source": [
    "bag=BaggingRegressor(n_jobs=-1,random_state=666)"
   ]
  },
  {
   "cell_type": "code",
   "execution_count": 59,
   "id": "88b77295-42ff-40ab-a4e2-3f826c617905",
   "metadata": {},
   "outputs": [],
   "source": [
    "model=bag.fit(tx,ty)"
   ]
  },
  {
   "cell_type": "code",
   "execution_count": 60,
   "id": "eeedaff1-f13e-4f2a-913f-b14926dd8455",
   "metadata": {},
   "outputs": [],
   "source": [
    "yp=model.predict(vx)"
   ]
  },
  {
   "cell_type": "code",
   "execution_count": 61,
   "id": "9aa45951-0e0a-4aa1-80e7-14bba977abf0",
   "metadata": {},
   "outputs": [],
   "source": [
    "MSE=mean_squared_error(vy,yp)"
   ]
  },
  {
   "cell_type": "code",
   "execution_count": 62,
   "id": "8059b86d-967b-4d98-8817-a114625dc3ca",
   "metadata": {},
   "outputs": [
    {
     "data": {
      "text/plain": [
       "0.00016527191352281006"
      ]
     },
     "execution_count": 62,
     "metadata": {},
     "output_type": "execute_result"
    }
   ],
   "source": [
    "MSE"
   ]
  },
  {
   "cell_type": "code",
   "execution_count": 63,
   "id": "8c434888-41b0-4755-8cc6-a23ffe582f6a",
   "metadata": {},
   "outputs": [],
   "source": [
    "MAE=mean_absolute_error(vy,yp)"
   ]
  },
  {
   "cell_type": "code",
   "execution_count": 64,
   "id": "a20152fb-eb2b-45a3-b666-d5ad1c2bd41f",
   "metadata": {},
   "outputs": [
    {
     "data": {
      "text/plain": [
       "0.004886474757925054"
      ]
     },
     "execution_count": 64,
     "metadata": {},
     "output_type": "execute_result"
    }
   ],
   "source": [
    "MAE"
   ]
  },
  {
   "cell_type": "code",
   "execution_count": 65,
   "id": "1a670d22-c4f1-4de5-87b4-d866889ee385",
   "metadata": {},
   "outputs": [],
   "source": [
    "R2=r2_score(vy,yp)"
   ]
  },
  {
   "cell_type": "code",
   "execution_count": 66,
   "id": "b2f02fd5-81c3-43a9-8d34-ec5efc40a7e8",
   "metadata": {},
   "outputs": [
    {
     "data": {
      "text/plain": [
       "0.9953054793566778"
      ]
     },
     "execution_count": 66,
     "metadata": {},
     "output_type": "execute_result"
    }
   ],
   "source": [
    "R2"
   ]
  },
  {
   "cell_type": "code",
   "execution_count": 67,
   "id": "311e3293-106b-4037-acf1-c3dae2db7546",
   "metadata": {},
   "outputs": [],
   "source": [
    "ape = np.abs((vy - yp) / vy)\n",
    "MAPE = np.mean(ape) * 100"
   ]
  },
  {
   "cell_type": "code",
   "execution_count": 68,
   "id": "f28a30e5-1d5b-47c1-a428-777b03feb50d",
   "metadata": {},
   "outputs": [
    {
     "data": {
      "text/plain": [
       "15.94535742488479"
      ]
     },
     "execution_count": 68,
     "metadata": {},
     "output_type": "execute_result"
    }
   ],
   "source": [
    "MAPE"
   ]
  },
  {
   "cell_type": "code",
   "execution_count": 69,
   "id": "e598c3a3-522e-4534-b1f9-54df6970bce2",
   "metadata": {},
   "outputs": [],
   "source": [
    "errors = np.abs(vy - yp)\n",
    "mean_true = np.mean(vy)\n",
    "RAE = np.mean(errors) / mean_true"
   ]
  },
  {
   "cell_type": "code",
   "execution_count": 70,
   "id": "4dd766b8-9087-46ba-8be0-022a00ad60b7",
   "metadata": {},
   "outputs": [
    {
     "data": {
      "text/plain": [
       "0.03191886465920911"
      ]
     },
     "execution_count": 70,
     "metadata": {},
     "output_type": "execute_result"
    }
   ],
   "source": [
    "RAE"
   ]
  },
  {
   "cell_type": "code",
   "execution_count": null,
   "id": "18b38216-bda6-4541-a8f6-e0b531ef2178",
   "metadata": {},
   "outputs": [],
   "source": []
  },
  {
   "cell_type": "code",
   "execution_count": 71,
   "id": "2eb3a025-781f-4783-8db8-1a1f93d1408f",
   "metadata": {},
   "outputs": [],
   "source": [
    "from sklearn.neighbors import KNeighborsRegressor"
   ]
  },
  {
   "cell_type": "code",
   "execution_count": 72,
   "id": "6b942bcc-7aeb-48f7-b7b9-3dbb06d6e71b",
   "metadata": {},
   "outputs": [],
   "source": [
    "KNN=KNeighborsRegressor(n_neighbors=5,n_jobs=-1)"
   ]
  },
  {
   "cell_type": "code",
   "execution_count": 73,
   "id": "21ec2aa8-d28d-40ff-8413-eab1a0cd3fd0",
   "metadata": {},
   "outputs": [
    {
     "data": {
      "text/html": [
       "<style>#sk-container-id-1 {color: black;background-color: white;}#sk-container-id-1 pre{padding: 0;}#sk-container-id-1 div.sk-toggleable {background-color: white;}#sk-container-id-1 label.sk-toggleable__label {cursor: pointer;display: block;width: 100%;margin-bottom: 0;padding: 0.3em;box-sizing: border-box;text-align: center;}#sk-container-id-1 label.sk-toggleable__label-arrow:before {content: \"▸\";float: left;margin-right: 0.25em;color: #696969;}#sk-container-id-1 label.sk-toggleable__label-arrow:hover:before {color: black;}#sk-container-id-1 div.sk-estimator:hover label.sk-toggleable__label-arrow:before {color: black;}#sk-container-id-1 div.sk-toggleable__content {max-height: 0;max-width: 0;overflow: hidden;text-align: left;background-color: #f0f8ff;}#sk-container-id-1 div.sk-toggleable__content pre {margin: 0.2em;color: black;border-radius: 0.25em;background-color: #f0f8ff;}#sk-container-id-1 input.sk-toggleable__control:checked~div.sk-toggleable__content {max-height: 200px;max-width: 100%;overflow: auto;}#sk-container-id-1 input.sk-toggleable__control:checked~label.sk-toggleable__label-arrow:before {content: \"▾\";}#sk-container-id-1 div.sk-estimator input.sk-toggleable__control:checked~label.sk-toggleable__label {background-color: #d4ebff;}#sk-container-id-1 div.sk-label input.sk-toggleable__control:checked~label.sk-toggleable__label {background-color: #d4ebff;}#sk-container-id-1 input.sk-hidden--visually {border: 0;clip: rect(1px 1px 1px 1px);clip: rect(1px, 1px, 1px, 1px);height: 1px;margin: -1px;overflow: hidden;padding: 0;position: absolute;width: 1px;}#sk-container-id-1 div.sk-estimator {font-family: monospace;background-color: #f0f8ff;border: 1px dotted black;border-radius: 0.25em;box-sizing: border-box;margin-bottom: 0.5em;}#sk-container-id-1 div.sk-estimator:hover {background-color: #d4ebff;}#sk-container-id-1 div.sk-parallel-item::after {content: \"\";width: 100%;border-bottom: 1px solid gray;flex-grow: 1;}#sk-container-id-1 div.sk-label:hover label.sk-toggleable__label {background-color: #d4ebff;}#sk-container-id-1 div.sk-serial::before {content: \"\";position: absolute;border-left: 1px solid gray;box-sizing: border-box;top: 0;bottom: 0;left: 50%;z-index: 0;}#sk-container-id-1 div.sk-serial {display: flex;flex-direction: column;align-items: center;background-color: white;padding-right: 0.2em;padding-left: 0.2em;position: relative;}#sk-container-id-1 div.sk-item {position: relative;z-index: 1;}#sk-container-id-1 div.sk-parallel {display: flex;align-items: stretch;justify-content: center;background-color: white;position: relative;}#sk-container-id-1 div.sk-item::before, #sk-container-id-1 div.sk-parallel-item::before {content: \"\";position: absolute;border-left: 1px solid gray;box-sizing: border-box;top: 0;bottom: 0;left: 50%;z-index: -1;}#sk-container-id-1 div.sk-parallel-item {display: flex;flex-direction: column;z-index: 1;position: relative;background-color: white;}#sk-container-id-1 div.sk-parallel-item:first-child::after {align-self: flex-end;width: 50%;}#sk-container-id-1 div.sk-parallel-item:last-child::after {align-self: flex-start;width: 50%;}#sk-container-id-1 div.sk-parallel-item:only-child::after {width: 0;}#sk-container-id-1 div.sk-dashed-wrapped {border: 1px dashed gray;margin: 0 0.4em 0.5em 0.4em;box-sizing: border-box;padding-bottom: 0.4em;background-color: white;}#sk-container-id-1 div.sk-label label {font-family: monospace;font-weight: bold;display: inline-block;line-height: 1.2em;}#sk-container-id-1 div.sk-label-container {text-align: center;}#sk-container-id-1 div.sk-container {/* jupyter's `normalize.less` sets `[hidden] { display: none; }` but bootstrap.min.css set `[hidden] { display: none !important; }` so we also need the `!important` here to be able to override the default hidden behavior on the sphinx rendered scikit-learn.org. See: https://github.com/scikit-learn/scikit-learn/issues/21755 */display: inline-block !important;position: relative;}#sk-container-id-1 div.sk-text-repr-fallback {display: none;}</style><div id=\"sk-container-id-1\" class=\"sk-top-container\"><div class=\"sk-text-repr-fallback\"><pre>KNeighborsRegressor(n_jobs=-1)</pre><b>In a Jupyter environment, please rerun this cell to show the HTML representation or trust the notebook. <br />On GitHub, the HTML representation is unable to render, please try loading this page with nbviewer.org.</b></div><div class=\"sk-container\" hidden><div class=\"sk-item\"><div class=\"sk-estimator sk-toggleable\"><input class=\"sk-toggleable__control sk-hidden--visually\" id=\"sk-estimator-id-1\" type=\"checkbox\" checked><label for=\"sk-estimator-id-1\" class=\"sk-toggleable__label sk-toggleable__label-arrow\">KNeighborsRegressor</label><div class=\"sk-toggleable__content\"><pre>KNeighborsRegressor(n_jobs=-1)</pre></div></div></div></div></div>"
      ],
      "text/plain": [
       "KNeighborsRegressor(n_jobs=-1)"
      ]
     },
     "execution_count": 73,
     "metadata": {},
     "output_type": "execute_result"
    }
   ],
   "source": [
    "KNN.fit(tx,ty)"
   ]
  },
  {
   "cell_type": "code",
   "execution_count": 74,
   "id": "248feb5b-eb02-4b54-98e7-60b76f9d61df",
   "metadata": {},
   "outputs": [],
   "source": [
    "yp=KNN.predict(vx)"
   ]
  },
  {
   "cell_type": "code",
   "execution_count": 75,
   "id": "d4ca3865-4222-4071-8bc2-82414d09ee73",
   "metadata": {},
   "outputs": [],
   "source": [
    "MAE=mean_absolute_error(vy,yp)"
   ]
  },
  {
   "cell_type": "code",
   "execution_count": 76,
   "id": "c6190b9d-73db-4897-b275-57515c1a98bb",
   "metadata": {},
   "outputs": [
    {
     "data": {
      "text/plain": [
       "0.007082085074539027"
      ]
     },
     "execution_count": 76,
     "metadata": {},
     "output_type": "execute_result"
    }
   ],
   "source": [
    "MAE"
   ]
  },
  {
   "cell_type": "code",
   "execution_count": 77,
   "id": "c74ce70d-1c31-48b8-923e-438b3bfec753",
   "metadata": {},
   "outputs": [],
   "source": [
    "MSE=mean_squared_error(vy,yp)"
   ]
  },
  {
   "cell_type": "code",
   "execution_count": 78,
   "id": "63993a79-ab4e-4861-9a0d-09e2a1f07264",
   "metadata": {},
   "outputs": [
    {
     "data": {
      "text/plain": [
       "0.0006938132261660094"
      ]
     },
     "execution_count": 78,
     "metadata": {},
     "output_type": "execute_result"
    }
   ],
   "source": [
    "MSE"
   ]
  },
  {
   "cell_type": "code",
   "execution_count": 79,
   "id": "2d32b4bc-f90f-41f9-a6c0-95fe8423c72a",
   "metadata": {},
   "outputs": [],
   "source": [
    "R2=r2_score(vy,yp)"
   ]
  },
  {
   "cell_type": "code",
   "execution_count": 80,
   "id": "edff4084-5ac3-4464-b751-8fbf5c395fa3",
   "metadata": {},
   "outputs": [
    {
     "data": {
      "text/plain": [
       "0.9802923531081597"
      ]
     },
     "execution_count": 80,
     "metadata": {},
     "output_type": "execute_result"
    }
   ],
   "source": [
    "R2"
   ]
  },
  {
   "cell_type": "code",
   "execution_count": 81,
   "id": "b06b784f-f537-4ff7-8533-8ed48b88f92b",
   "metadata": {},
   "outputs": [],
   "source": [
    "ape = np.abs((vy - yp) / vy)\n",
    "MAPE = np.mean(ape) * 100"
   ]
  },
  {
   "cell_type": "code",
   "execution_count": 82,
   "id": "3a4e2af6-2b75-421a-a995-510a90e38a15",
   "metadata": {},
   "outputs": [
    {
     "data": {
      "text/plain": [
       "19.185105903353154"
      ]
     },
     "execution_count": 82,
     "metadata": {},
     "output_type": "execute_result"
    }
   ],
   "source": [
    "MAPE"
   ]
  },
  {
   "cell_type": "code",
   "execution_count": 83,
   "id": "8bb49ef8-9222-46c4-a1bc-64c7cb202a0e",
   "metadata": {},
   "outputs": [],
   "source": [
    "errors = np.abs(vy - yp)\n",
    "mean_true = np.mean(vy)\n",
    "RAE = np.mean(errors) / mean_true"
   ]
  },
  {
   "cell_type": "code",
   "execution_count": 84,
   "id": "6b3bd12e-f885-4775-97c9-4b6eedb4ee88",
   "metadata": {},
   "outputs": [
    {
     "data": {
      "text/plain": [
       "0.04626077616232374"
      ]
     },
     "execution_count": 84,
     "metadata": {},
     "output_type": "execute_result"
    }
   ],
   "source": [
    "RAE"
   ]
  },
  {
   "cell_type": "code",
   "execution_count": null,
   "id": "5ef00075-2fc3-4c54-bdda-245a56d0931b",
   "metadata": {},
   "outputs": [],
   "source": []
  },
  {
   "cell_type": "code",
   "execution_count": 85,
   "id": "3ab4b2da-7bc1-4923-aa42-e1b125006ac6",
   "metadata": {},
   "outputs": [],
   "source": [
    "from sklearn.linear_model import BayesianRidge"
   ]
  },
  {
   "cell_type": "code",
   "execution_count": 86,
   "id": "25791348-b2a1-4c54-bc9b-9a4c87bd2d48",
   "metadata": {},
   "outputs": [],
   "source": [
    "regressor = BayesianRidge()\n",
    "# 拟合模型\n",
    "BY=regressor.fit(tx, ty)\n",
    "# 进行预测\n",
    "yp = BY.predict(vx)"
   ]
  },
  {
   "cell_type": "code",
   "execution_count": 87,
   "id": "93527942-0cab-42f1-ade1-0b523ead2f78",
   "metadata": {},
   "outputs": [],
   "source": [
    "MAE=mean_absolute_error(vy,yp)"
   ]
  },
  {
   "cell_type": "code",
   "execution_count": 88,
   "id": "62d22596-78c2-46f1-8b21-aec616a422c5",
   "metadata": {},
   "outputs": [
    {
     "data": {
      "text/plain": [
       "0.10655215844082608"
      ]
     },
     "execution_count": 88,
     "metadata": {},
     "output_type": "execute_result"
    }
   ],
   "source": [
    "MAE"
   ]
  },
  {
   "cell_type": "code",
   "execution_count": 89,
   "id": "477381fe-b60f-4b60-94cf-594353d94839",
   "metadata": {},
   "outputs": [],
   "source": [
    "MSE=mean_squared_error(vy,yp)"
   ]
  },
  {
   "cell_type": "code",
   "execution_count": 90,
   "id": "53f6a7f0-f8bb-4407-9c3c-69c843e2cdca",
   "metadata": {},
   "outputs": [
    {
     "data": {
      "text/plain": [
       "0.022564414219364354"
      ]
     },
     "execution_count": 90,
     "metadata": {},
     "output_type": "execute_result"
    }
   ],
   "source": [
    "MSE"
   ]
  },
  {
   "cell_type": "code",
   "execution_count": 91,
   "id": "85fb3ce8-f9a9-42e1-aaf1-a9ad30bebfc2",
   "metadata": {},
   "outputs": [],
   "source": [
    "R2=r2_score(vy,yp)"
   ]
  },
  {
   "cell_type": "code",
   "execution_count": 92,
   "id": "a66cc88f-008c-44a9-8a59-b71a9daea063",
   "metadata": {},
   "outputs": [
    {
     "data": {
      "text/plain": [
       "0.35906164514359795"
      ]
     },
     "execution_count": 92,
     "metadata": {},
     "output_type": "execute_result"
    }
   ],
   "source": [
    "R2"
   ]
  },
  {
   "cell_type": "code",
   "execution_count": 93,
   "id": "81d04695-3e54-4d77-ac7d-6052ca44805d",
   "metadata": {},
   "outputs": [],
   "source": [
    "ape = np.abs((vy - yp) / vy)\n",
    "MAPE = np.mean(ape) * 100"
   ]
  },
  {
   "cell_type": "code",
   "execution_count": 94,
   "id": "a955d0fd-a270-4154-bdb5-231f56c667a9",
   "metadata": {},
   "outputs": [
    {
     "data": {
      "text/plain": [
       "537.6997362581784"
      ]
     },
     "execution_count": 94,
     "metadata": {},
     "output_type": "execute_result"
    }
   ],
   "source": [
    "MAPE"
   ]
  },
  {
   "cell_type": "code",
   "execution_count": 95,
   "id": "d272469c-66af-49ee-9f06-3c51fb37792f",
   "metadata": {},
   "outputs": [],
   "source": [
    "errors = np.abs(vy - yp)\n",
    "mean_true = np.mean(vy)\n",
    "RAE = np.mean(errors) / mean_true"
   ]
  },
  {
   "cell_type": "code",
   "execution_count": 96,
   "id": "0e3386c5-94ac-4781-8746-004d8fc9b746",
   "metadata": {},
   "outputs": [
    {
     "data": {
      "text/plain": [
       "0.6960076727918085"
      ]
     },
     "execution_count": 96,
     "metadata": {},
     "output_type": "execute_result"
    }
   ],
   "source": [
    "RAE"
   ]
  },
  {
   "cell_type": "code",
   "execution_count": null,
   "id": "5e0c760d-5d14-42aa-8595-5dc2ced23a39",
   "metadata": {},
   "outputs": [],
   "source": []
  },
  {
   "cell_type": "code",
   "execution_count": 97,
   "id": "f47100b5-60d2-4169-8933-a5ced04dad52",
   "metadata": {},
   "outputs": [
    {
     "name": "stderr",
     "output_type": "stream",
     "text": [
      "D:\\pyf\\conda\\lib\\site-packages\\sklearn\\gaussian_process\\kernels.py:420: ConvergenceWarning: The optimal value found for dimension 0 of parameter length_scale is close to the specified lower bound 1e-05. Decreasing the bound and calling fit again may find a better value.\n",
      "  warnings.warn(\n"
     ]
    },
    {
     "name": "stdout",
     "output_type": "stream",
     "text": [
      "预测结果: [0. 0. 0. ... 0. 0. 0.]\n",
      "标准差: [1. 1. 1. ... 1. 1. 1.]\n"
     ]
    }
   ],
   "source": [
    "import numpy as np\n",
    "from sklearn.gaussian_process import GaussianProcessRegressor\n",
    "from sklearn.gaussian_process.kernels import RBF\n",
    "\n",
    "# 定义高斯过程回归模型\n",
    "kernel = RBF(length_scale=1.0)  # 核函数\n",
    "regressor = GaussianProcessRegressor(kernel=kernel)\n",
    "\n",
    "# 拟合模型\n",
    "regressor.fit(tx,ty)\n",
    "\n",
    "yp, sigma = regressor.predict(vx, return_std=True)\n",
    "\n",
    "print(\"预测结果:\", yp)\n",
    "print(\"标准差:\", sigma)\n"
   ]
  },
  {
   "cell_type": "code",
   "execution_count": 98,
   "id": "5a4555c3-91a9-4ae4-b52d-cc88880ec91e",
   "metadata": {},
   "outputs": [],
   "source": [
    "MAE=mean_absolute_error(vy,yp)"
   ]
  },
  {
   "cell_type": "code",
   "execution_count": 99,
   "id": "a334b2b8-99e0-44e1-a287-797d7478824d",
   "metadata": {},
   "outputs": [
    {
     "data": {
      "text/plain": [
       "0.1530904939789338"
      ]
     },
     "execution_count": 99,
     "metadata": {},
     "output_type": "execute_result"
    }
   ],
   "source": [
    "MAE"
   ]
  },
  {
   "cell_type": "code",
   "execution_count": 100,
   "id": "8c69c5b5-ff2d-4fa8-a97c-94c0d0f4f900",
   "metadata": {},
   "outputs": [],
   "source": [
    "MSE=mean_squared_error(vy,yp)"
   ]
  },
  {
   "cell_type": "code",
   "execution_count": 101,
   "id": "d35bda98-35c5-4688-81b1-af6a5cbfb7ff",
   "metadata": {},
   "outputs": [
    {
     "data": {
      "text/plain": [
       "0.05864197930600078"
      ]
     },
     "execution_count": 101,
     "metadata": {},
     "output_type": "execute_result"
    }
   ],
   "source": [
    "MSE"
   ]
  },
  {
   "cell_type": "code",
   "execution_count": 102,
   "id": "ae6a4149-659f-4ea2-b326-223d9e60e2b3",
   "metadata": {},
   "outputs": [],
   "source": [
    "R2=r2_score(vy,yp)"
   ]
  },
  {
   "cell_type": "code",
   "execution_count": 103,
   "id": "004ae648-4136-461c-8493-e35f288debcd",
   "metadata": {},
   "outputs": [
    {
     "data": {
      "text/plain": [
       "-0.6657154657999411"
      ]
     },
     "execution_count": 103,
     "metadata": {},
     "output_type": "execute_result"
    }
   ],
   "source": [
    "R2"
   ]
  },
  {
   "cell_type": "code",
   "execution_count": 104,
   "id": "98edfe1c-bb7d-4acb-8620-5229f29290d1",
   "metadata": {},
   "outputs": [],
   "source": [
    "ape = np.abs((vy - yp) / vy)\n",
    "MAPE = np.mean(ape) * 100"
   ]
  },
  {
   "cell_type": "code",
   "execution_count": 105,
   "id": "68ca849f-a645-431b-a461-5d196c75c183",
   "metadata": {},
   "outputs": [
    {
     "data": {
      "text/plain": [
       "100.0"
      ]
     },
     "execution_count": 105,
     "metadata": {},
     "output_type": "execute_result"
    }
   ],
   "source": [
    "MAPE"
   ]
  },
  {
   "cell_type": "code",
   "execution_count": 106,
   "id": "fe1f4f0f-1302-4b04-9330-183773cb170e",
   "metadata": {},
   "outputs": [],
   "source": [
    "errors = np.abs(vy - yp)\n",
    "mean_true = np.mean(vy)\n",
    "RAE = np.mean(errors) / mean_true"
   ]
  },
  {
   "cell_type": "code",
   "execution_count": 107,
   "id": "bf1006ae-10a8-4068-8df6-7a54263159ea",
   "metadata": {},
   "outputs": [
    {
     "data": {
      "text/plain": [
       "1.0"
      ]
     },
     "execution_count": 107,
     "metadata": {},
     "output_type": "execute_result"
    }
   ],
   "source": [
    "RAE"
   ]
  },
  {
   "cell_type": "code",
   "execution_count": null,
   "id": "903345a3-bf1c-43d7-8859-3adacc09bd7b",
   "metadata": {},
   "outputs": [],
   "source": []
  },
  {
   "cell_type": "code",
   "execution_count": 108,
   "id": "31396086-d7dc-47ba-87ed-c131d5f9e9e3",
   "metadata": {},
   "outputs": [],
   "source": [
    "from sklearn.svm import SVR"
   ]
  },
  {
   "cell_type": "code",
   "execution_count": 109,
   "id": "bc7f16b7-113f-4f6d-9cd7-aef69b6dc60b",
   "metadata": {},
   "outputs": [],
   "source": [
    "svr=SVR().fit(tx,ty)\n",
    "yp=svr.predict(vx)"
   ]
  },
  {
   "cell_type": "code",
   "execution_count": 110,
   "id": "f545417b-ca40-4ed9-bf5e-74e065b61fbc",
   "metadata": {},
   "outputs": [],
   "source": [
    "MAE=mean_absolute_error(vy,yp)"
   ]
  },
  {
   "cell_type": "code",
   "execution_count": 111,
   "id": "338e34db-7fd4-44cd-8515-e0e633bbdce9",
   "metadata": {},
   "outputs": [
    {
     "data": {
      "text/plain": [
       "0.052201299589503536"
      ]
     },
     "execution_count": 111,
     "metadata": {},
     "output_type": "execute_result"
    }
   ],
   "source": [
    "MAE"
   ]
  },
  {
   "cell_type": "code",
   "execution_count": 112,
   "id": "b3e53eb3-6f6c-4fed-82fa-7536ed28b59a",
   "metadata": {},
   "outputs": [],
   "source": [
    "MSE=mean_squared_error(vy,yp)"
   ]
  },
  {
   "cell_type": "code",
   "execution_count": 113,
   "id": "280dc1f5-38ce-4150-8605-f7c590454614",
   "metadata": {},
   "outputs": [
    {
     "data": {
      "text/plain": [
       "0.00401467863017593"
      ]
     },
     "execution_count": 113,
     "metadata": {},
     "output_type": "execute_result"
    }
   ],
   "source": [
    "MSE"
   ]
  },
  {
   "cell_type": "code",
   "execution_count": 114,
   "id": "93ea28a6-f812-4cd2-a429-0534981d6b10",
   "metadata": {},
   "outputs": [],
   "source": [
    "R2=r2_score(vy,yp)"
   ]
  },
  {
   "cell_type": "code",
   "execution_count": 115,
   "id": "7d96fe24-d1d7-4ffc-91ab-24d7f78b0e30",
   "metadata": {},
   "outputs": [
    {
     "data": {
      "text/plain": [
       "0.8859637351323805"
      ]
     },
     "execution_count": 115,
     "metadata": {},
     "output_type": "execute_result"
    }
   ],
   "source": [
    "R2"
   ]
  },
  {
   "cell_type": "code",
   "execution_count": 116,
   "id": "3d563adf-a65a-46e9-bbfc-e43c41bc3d9b",
   "metadata": {},
   "outputs": [],
   "source": [
    "ape = np.abs((vy - yp) / vy)\n",
    "MAPE = np.mean(ape) * 100"
   ]
  },
  {
   "cell_type": "code",
   "execution_count": 117,
   "id": "208239c4-37ec-4e8e-aa9f-620a26ce027c",
   "metadata": {},
   "outputs": [
    {
     "data": {
      "text/plain": [
       "216.61769529533345"
      ]
     },
     "execution_count": 117,
     "metadata": {},
     "output_type": "execute_result"
    }
   ],
   "source": [
    "MAPE"
   ]
  },
  {
   "cell_type": "code",
   "execution_count": 118,
   "id": "493962e3-6cdd-417d-ad5c-1ef0a39135d7",
   "metadata": {},
   "outputs": [],
   "source": [
    "errors = np.abs(vy - yp)\n",
    "mean_true = np.mean(vy)\n",
    "RAE = np.mean(errors) / mean_true"
   ]
  },
  {
   "cell_type": "code",
   "execution_count": 119,
   "id": "48312603-8cc5-45bb-b9d1-bd7b32972dc4",
   "metadata": {},
   "outputs": [
    {
     "data": {
      "text/plain": [
       "0.34098328532852445"
      ]
     },
     "execution_count": 119,
     "metadata": {},
     "output_type": "execute_result"
    }
   ],
   "source": [
    "RAE"
   ]
  },
  {
   "cell_type": "code",
   "execution_count": null,
   "id": "1d36f576-1125-4f1e-b690-15d2343e0889",
   "metadata": {},
   "outputs": [],
   "source": []
  },
  {
   "cell_type": "code",
   "execution_count": 120,
   "id": "29b5ab18-c663-40f6-903f-17035618a135",
   "metadata": {},
   "outputs": [],
   "source": [
    "#整体\n",
    "import lightgbm as lgb\n",
    "train_data = lgb.Dataset(tx, ty)\n",
    "test_data = lgb.Dataset(vx, vy)"
   ]
  },
  {
   "cell_type": "code",
   "execution_count": 121,
   "id": "3e9d8db4-85c1-4f12-9ced-4414c006d71c",
   "metadata": {},
   "outputs": [],
   "source": [
    "# specify parameters via map\n",
    "params_lgb = {\n",
    "    'boost':'gbdt',\n",
    "    'max_depth': -1,                # Same to max_depth of xgboost \n",
    "    'application':'regression',     # Same to objective of xgboost\n",
    "    'learning_rate': 0.1,           # Same to eta of xgboost\n",
    "    'lambda_l2': 2,                 # Same to lambda of xgboost\n",
    "    'min_data_in_leaf': 20,         # Same to min_samples_leaf of GBDT\n",
    "    'bagging_fraction': 1.0,        # Same to subsample of xgboost\n",
    "    'feature_fraction': 1.0,         # Same to colsample_bytree of xgboost\n",
    "    'min_sum_hessian_in_leaf': 1e-3, # Same to min_child_weight of xgboost\n",
    "    'num_threads': 1,\n",
    "    'metric':'mae'\n",
    "}"
   ]
  },
  {
   "cell_type": "code",
   "execution_count": 122,
   "id": "ef870c3f-89f0-4318-a5bf-885930e4a0d5",
   "metadata": {},
   "outputs": [
    {
     "name": "stderr",
     "output_type": "stream",
     "text": [
      "D:\\pyf\\conda\\lib\\site-packages\\lightgbm\\engine.py:181: UserWarning: 'early_stopping_rounds' argument is deprecated and will be removed in a future release of LightGBM. Pass 'early_stopping()' callback via 'callbacks' argument instead.\n",
      "  _log_warning(\"'early_stopping_rounds' argument is deprecated and will be removed in a future release of LightGBM. \"\n",
      "D:\\pyf\\conda\\lib\\site-packages\\lightgbm\\engine.py:239: UserWarning: 'verbose_eval' argument is deprecated and will be removed in a future release of LightGBM. Pass 'log_evaluation()' callback via 'callbacks' argument instead.\n",
      "  _log_warning(\"'verbose_eval' argument is deprecated and will be removed in a future release of LightGBM. \"\n"
     ]
    },
    {
     "name": "stdout",
     "output_type": "stream",
     "text": [
      "[LightGBM] [Warning] Auto-choosing row-wise multi-threading, the overhead of testing was 0.000182 seconds.\n",
      "You can set `force_row_wise=true` to remove the overhead.\n",
      "And if memory is not enough, you can set `force_col_wise=true`.\n",
      "[LightGBM] [Info] Total Bins 834\n",
      "[LightGBM] [Info] Number of data points in the train set: 9300, number of used features: 7\n",
      "[LightGBM] [Info] Start training from score 0.150789\n",
      "Training until validation scores don't improve for 50 rounds\n",
      "[50]\tvalid_0's l1: 0.0149937\n",
      "[100]\tvalid_0's l1: 0.0108735\n",
      "[150]\tvalid_0's l1: 0.00951907\n",
      "[200]\tvalid_0's l1: 0.00876773\n",
      "[250]\tvalid_0's l1: 0.00832923\n",
      "[300]\tvalid_0's l1: 0.00798104\n",
      "[350]\tvalid_0's l1: 0.00764383\n",
      "[400]\tvalid_0's l1: 0.00742068\n",
      "[450]\tvalid_0's l1: 0.0072649\n",
      "[500]\tvalid_0's l1: 0.00717573\n",
      "[550]\tvalid_0's l1: 0.00702994\n",
      "[600]\tvalid_0's l1: 0.00692488\n",
      "[650]\tvalid_0's l1: 0.00680148\n",
      "[700]\tvalid_0's l1: 0.00670152\n",
      "[750]\tvalid_0's l1: 0.00658172\n",
      "[800]\tvalid_0's l1: 0.00648156\n",
      "[850]\tvalid_0's l1: 0.00642706\n",
      "[900]\tvalid_0's l1: 0.00635019\n",
      "[950]\tvalid_0's l1: 0.00628199\n",
      "[1000]\tvalid_0's l1: 0.0062286\n",
      "Did not meet early stopping. Best iteration is:\n",
      "[1000]\tvalid_0's l1: 0.0062286\n"
     ]
    }
   ],
   "source": [
    "num_round = 1000\n",
    "best = lgb.train(params_lgb, train_data, num_round,verbose_eval=50,valid_sets=test_data,early_stopping_rounds=50)"
   ]
  },
  {
   "cell_type": "code",
   "execution_count": 126,
   "id": "17a6350d-e27a-4395-856a-f3dfceebd2c2",
   "metadata": {},
   "outputs": [],
   "source": [
    "yp=best.predict(vx)"
   ]
  },
  {
   "cell_type": "code",
   "execution_count": 127,
   "id": "745d0b63-f4aa-4b09-b2ea-3d0eb1ede0ab",
   "metadata": {},
   "outputs": [],
   "source": [
    "MAE=mean_absolute_error(vy,yp)"
   ]
  },
  {
   "cell_type": "code",
   "execution_count": 128,
   "id": "469dbcb9-4495-43a8-b762-923d9b61dd9c",
   "metadata": {},
   "outputs": [
    {
     "data": {
      "text/plain": [
       "0.006228603685630836"
      ]
     },
     "execution_count": 128,
     "metadata": {},
     "output_type": "execute_result"
    }
   ],
   "source": [
    "MAE"
   ]
  },
  {
   "cell_type": "code",
   "execution_count": 129,
   "id": "3cce8119-1617-4ebd-a800-325aea6e3ff0",
   "metadata": {},
   "outputs": [],
   "source": [
    "MSE=mean_squared_error(vy,yp)"
   ]
  },
  {
   "cell_type": "code",
   "execution_count": 130,
   "id": "8eab2fde-ec89-425d-a7bd-3724869021b2",
   "metadata": {},
   "outputs": [
    {
     "data": {
      "text/plain": [
       "0.0002617230603016948"
      ]
     },
     "execution_count": 130,
     "metadata": {},
     "output_type": "execute_result"
    }
   ],
   "source": [
    "MSE"
   ]
  },
  {
   "cell_type": "code",
   "execution_count": 131,
   "id": "de2b67bc-1865-45b6-92e3-cc9765af0996",
   "metadata": {},
   "outputs": [],
   "source": [
    "R2=r2_score(vy,yp)"
   ]
  },
  {
   "cell_type": "code",
   "execution_count": 132,
   "id": "7aa6720b-b179-4db4-be24-0c2a12d3fc74",
   "metadata": {},
   "outputs": [
    {
     "data": {
      "text/plain": [
       "0.9925658009081488"
      ]
     },
     "execution_count": 132,
     "metadata": {},
     "output_type": "execute_result"
    }
   ],
   "source": [
    "R2"
   ]
  },
  {
   "cell_type": "code",
   "execution_count": 133,
   "id": "05ed4cee-ff35-4ea7-94f0-4565a072aef7",
   "metadata": {},
   "outputs": [],
   "source": [
    "ape = np.abs((vy - yp) / vy)\n",
    "MAPE = np.mean(ape) * 100"
   ]
  },
  {
   "cell_type": "code",
   "execution_count": 134,
   "id": "3d750c9d-a48e-4e59-80bf-658fbccc5e89",
   "metadata": {},
   "outputs": [
    {
     "data": {
      "text/plain": [
       "27.66026784476988"
      ]
     },
     "execution_count": 134,
     "metadata": {},
     "output_type": "execute_result"
    }
   ],
   "source": [
    "MAPE"
   ]
  },
  {
   "cell_type": "code",
   "execution_count": 140,
   "id": "c70758cf-01ff-4bd7-b594-8b2df6ccbeba",
   "metadata": {},
   "outputs": [],
   "source": [
    "errors = np.abs(vy - yp)\n",
    "mean_true = np.mean(vy)\n",
    "RAE = np.mean(errors) / mean_true"
   ]
  },
  {
   "cell_type": "code",
   "execution_count": 136,
   "id": "ce147b75-275a-4664-b7ef-2b667276698e",
   "metadata": {},
   "outputs": [
    {
     "data": {
      "text/plain": [
       "0.04068576384950414"
      ]
     },
     "execution_count": 136,
     "metadata": {},
     "output_type": "execute_result"
    }
   ],
   "source": [
    "RAE"
   ]
  },
  {
   "cell_type": "code",
   "execution_count": null,
   "id": "187064ce-6357-4ea2-b8e4-b1816f91d9bb",
   "metadata": {},
   "outputs": [],
   "source": []
  },
  {
   "cell_type": "code",
   "execution_count": 137,
   "id": "eaa2366d-5925-446b-ace8-8bf213e5a3f8",
   "metadata": {},
   "outputs": [],
   "source": [
    "from sklearn.neural_network import MLPRegressor"
   ]
  },
  {
   "cell_type": "code",
   "execution_count": 138,
   "id": "f61d8156-7a5a-4ddd-bf32-fc31e7f75573",
   "metadata": {},
   "outputs": [],
   "source": [
    "MLP=MLPRegressor(hidden_layer_sizes=(100,50),activation='relu',solver='adam')"
   ]
  },
  {
   "cell_type": "code",
   "execution_count": 139,
   "id": "9ee68b5b-9576-4a68-b2dd-523230b936f2",
   "metadata": {},
   "outputs": [
    {
     "data": {
      "text/html": [
       "<style>#sk-container-id-2 {color: black;background-color: white;}#sk-container-id-2 pre{padding: 0;}#sk-container-id-2 div.sk-toggleable {background-color: white;}#sk-container-id-2 label.sk-toggleable__label {cursor: pointer;display: block;width: 100%;margin-bottom: 0;padding: 0.3em;box-sizing: border-box;text-align: center;}#sk-container-id-2 label.sk-toggleable__label-arrow:before {content: \"▸\";float: left;margin-right: 0.25em;color: #696969;}#sk-container-id-2 label.sk-toggleable__label-arrow:hover:before {color: black;}#sk-container-id-2 div.sk-estimator:hover label.sk-toggleable__label-arrow:before {color: black;}#sk-container-id-2 div.sk-toggleable__content {max-height: 0;max-width: 0;overflow: hidden;text-align: left;background-color: #f0f8ff;}#sk-container-id-2 div.sk-toggleable__content pre {margin: 0.2em;color: black;border-radius: 0.25em;background-color: #f0f8ff;}#sk-container-id-2 input.sk-toggleable__control:checked~div.sk-toggleable__content {max-height: 200px;max-width: 100%;overflow: auto;}#sk-container-id-2 input.sk-toggleable__control:checked~label.sk-toggleable__label-arrow:before {content: \"▾\";}#sk-container-id-2 div.sk-estimator input.sk-toggleable__control:checked~label.sk-toggleable__label {background-color: #d4ebff;}#sk-container-id-2 div.sk-label input.sk-toggleable__control:checked~label.sk-toggleable__label {background-color: #d4ebff;}#sk-container-id-2 input.sk-hidden--visually {border: 0;clip: rect(1px 1px 1px 1px);clip: rect(1px, 1px, 1px, 1px);height: 1px;margin: -1px;overflow: hidden;padding: 0;position: absolute;width: 1px;}#sk-container-id-2 div.sk-estimator {font-family: monospace;background-color: #f0f8ff;border: 1px dotted black;border-radius: 0.25em;box-sizing: border-box;margin-bottom: 0.5em;}#sk-container-id-2 div.sk-estimator:hover {background-color: #d4ebff;}#sk-container-id-2 div.sk-parallel-item::after {content: \"\";width: 100%;border-bottom: 1px solid gray;flex-grow: 1;}#sk-container-id-2 div.sk-label:hover label.sk-toggleable__label {background-color: #d4ebff;}#sk-container-id-2 div.sk-serial::before {content: \"\";position: absolute;border-left: 1px solid gray;box-sizing: border-box;top: 0;bottom: 0;left: 50%;z-index: 0;}#sk-container-id-2 div.sk-serial {display: flex;flex-direction: column;align-items: center;background-color: white;padding-right: 0.2em;padding-left: 0.2em;position: relative;}#sk-container-id-2 div.sk-item {position: relative;z-index: 1;}#sk-container-id-2 div.sk-parallel {display: flex;align-items: stretch;justify-content: center;background-color: white;position: relative;}#sk-container-id-2 div.sk-item::before, #sk-container-id-2 div.sk-parallel-item::before {content: \"\";position: absolute;border-left: 1px solid gray;box-sizing: border-box;top: 0;bottom: 0;left: 50%;z-index: -1;}#sk-container-id-2 div.sk-parallel-item {display: flex;flex-direction: column;z-index: 1;position: relative;background-color: white;}#sk-container-id-2 div.sk-parallel-item:first-child::after {align-self: flex-end;width: 50%;}#sk-container-id-2 div.sk-parallel-item:last-child::after {align-self: flex-start;width: 50%;}#sk-container-id-2 div.sk-parallel-item:only-child::after {width: 0;}#sk-container-id-2 div.sk-dashed-wrapped {border: 1px dashed gray;margin: 0 0.4em 0.5em 0.4em;box-sizing: border-box;padding-bottom: 0.4em;background-color: white;}#sk-container-id-2 div.sk-label label {font-family: monospace;font-weight: bold;display: inline-block;line-height: 1.2em;}#sk-container-id-2 div.sk-label-container {text-align: center;}#sk-container-id-2 div.sk-container {/* jupyter's `normalize.less` sets `[hidden] { display: none; }` but bootstrap.min.css set `[hidden] { display: none !important; }` so we also need the `!important` here to be able to override the default hidden behavior on the sphinx rendered scikit-learn.org. See: https://github.com/scikit-learn/scikit-learn/issues/21755 */display: inline-block !important;position: relative;}#sk-container-id-2 div.sk-text-repr-fallback {display: none;}</style><div id=\"sk-container-id-2\" class=\"sk-top-container\"><div class=\"sk-text-repr-fallback\"><pre>MLPRegressor(hidden_layer_sizes=(100, 50))</pre><b>In a Jupyter environment, please rerun this cell to show the HTML representation or trust the notebook. <br />On GitHub, the HTML representation is unable to render, please try loading this page with nbviewer.org.</b></div><div class=\"sk-container\" hidden><div class=\"sk-item\"><div class=\"sk-estimator sk-toggleable\"><input class=\"sk-toggleable__control sk-hidden--visually\" id=\"sk-estimator-id-2\" type=\"checkbox\" checked><label for=\"sk-estimator-id-2\" class=\"sk-toggleable__label sk-toggleable__label-arrow\">MLPRegressor</label><div class=\"sk-toggleable__content\"><pre>MLPRegressor(hidden_layer_sizes=(100, 50))</pre></div></div></div></div></div>"
      ],
      "text/plain": [
       "MLPRegressor(hidden_layer_sizes=(100, 50))"
      ]
     },
     "execution_count": 139,
     "metadata": {},
     "output_type": "execute_result"
    }
   ],
   "source": [
    "MLP.fit(tx,ty)"
   ]
  },
  {
   "cell_type": "code",
   "execution_count": 141,
   "id": "131004eb-5e64-4d63-a1bd-52e094957dae",
   "metadata": {},
   "outputs": [],
   "source": [
    "yp=MLP.predict(vx)"
   ]
  },
  {
   "cell_type": "code",
   "execution_count": 142,
   "id": "fac22958-de3f-4b16-bc3a-759a40f31d8d",
   "metadata": {},
   "outputs": [],
   "source": [
    "MAE=mean_absolute_error(vy,yp)"
   ]
  },
  {
   "cell_type": "code",
   "execution_count": 143,
   "id": "ad31875d-1c76-4bce-acc7-925d030d5387",
   "metadata": {},
   "outputs": [
    {
     "data": {
      "text/plain": [
       "0.026285553195152196"
      ]
     },
     "execution_count": 143,
     "metadata": {},
     "output_type": "execute_result"
    }
   ],
   "source": [
    "MAE"
   ]
  },
  {
   "cell_type": "code",
   "execution_count": 144,
   "id": "75ecae15-2336-4e97-8249-990761dc7c66",
   "metadata": {},
   "outputs": [],
   "source": [
    "MSE=mean_squared_error(vy,yp)"
   ]
  },
  {
   "cell_type": "code",
   "execution_count": 145,
   "id": "a5648177-f127-41b7-af87-830ac3c28e7d",
   "metadata": {},
   "outputs": [
    {
     "data": {
      "text/plain": [
       "0.001902416133351428"
      ]
     },
     "execution_count": 145,
     "metadata": {},
     "output_type": "execute_result"
    }
   ],
   "source": [
    "MSE"
   ]
  },
  {
   "cell_type": "code",
   "execution_count": 146,
   "id": "e9cca09c-c948-48f7-9af5-98791457af49",
   "metadata": {},
   "outputs": [],
   "source": [
    "R2=r2_score(vy,yp)"
   ]
  },
  {
   "cell_type": "code",
   "execution_count": 147,
   "id": "dc70bfd1-6f95-4328-9664-e76a638887a8",
   "metadata": {},
   "outputs": [
    {
     "data": {
      "text/plain": [
       "0.9459621927292873"
      ]
     },
     "execution_count": 147,
     "metadata": {},
     "output_type": "execute_result"
    }
   ],
   "source": [
    "R2"
   ]
  },
  {
   "cell_type": "code",
   "execution_count": 148,
   "id": "a44d12d7-1ace-4853-91df-af42b739de78",
   "metadata": {},
   "outputs": [],
   "source": [
    "ape = np.abs((vy - yp) / vy)\n",
    "MAPE = np.mean(ape) * 100"
   ]
  },
  {
   "cell_type": "code",
   "execution_count": 149,
   "id": "58e5f8fc-7da3-4253-98e2-5a70eb40979c",
   "metadata": {},
   "outputs": [
    {
     "data": {
      "text/plain": [
       "64.09524734769681"
      ]
     },
     "execution_count": 149,
     "metadata": {},
     "output_type": "execute_result"
    }
   ],
   "source": [
    "MAPE"
   ]
  },
  {
   "cell_type": "code",
   "execution_count": 150,
   "id": "fcfb7e89-4956-47ec-b4b4-56fabf4fe2a6",
   "metadata": {},
   "outputs": [],
   "source": [
    "errors = np.abs(vy - yp)\n",
    "mean_true = np.mean(vy)\n",
    "RAE = np.mean(errors) / mean_true"
   ]
  },
  {
   "cell_type": "code",
   "execution_count": 151,
   "id": "d6651521-01c5-4f6a-9293-b16470170e1b",
   "metadata": {},
   "outputs": [
    {
     "data": {
      "text/plain": [
       "0.1716994472483004"
      ]
     },
     "execution_count": 151,
     "metadata": {},
     "output_type": "execute_result"
    }
   ],
   "source": [
    "RAE"
   ]
  },
  {
   "cell_type": "code",
   "execution_count": null,
   "id": "12c6b74f-9ca4-424d-ab8a-b59212b6cf1c",
   "metadata": {},
   "outputs": [],
   "source": []
  },
  {
   "cell_type": "code",
   "execution_count": 224,
   "id": "414b0bd7-640c-4a4c-90a1-1b880e374010",
   "metadata": {},
   "outputs": [],
   "source": [
    "from tensorflow.keras.models import Sequential\n",
    "from tensorflow.keras.layers import LSTM, Dense,SimpleRNN,GRU\n",
    "from tensorflow.keras.optimizers import Adam"
   ]
  },
  {
   "cell_type": "code",
   "execution_count": 155,
   "id": "1eec77fc-ba0c-4e91-b391-9a9df16599f4",
   "metadata": {},
   "outputs": [],
   "source": [
    "model = Sequential()\n",
    "model.add(LSTM(units=64, activation='relu', input_shape=(7,1)))\n",
    "model.add(Dense(units=1))\n",
    "\n",
    "# 编译模型\n",
    "model.compile(optimizer=Adam(), loss='mean_squared_error')"
   ]
  },
  {
   "cell_type": "code",
   "execution_count": 157,
   "id": "33b8d8c3-dc0a-42f2-a760-32a89c48504d",
   "metadata": {},
   "outputs": [
    {
     "name": "stdout",
     "output_type": "stream",
     "text": [
      "Epoch 1/150\n",
      "291/291 [==============================] - 1s 2ms/step - loss: 0.0021\n",
      "Epoch 2/150\n",
      "291/291 [==============================] - 1s 2ms/step - loss: 0.0020\n",
      "Epoch 3/150\n",
      "291/291 [==============================] - 1s 2ms/step - loss: 0.0020\n",
      "Epoch 4/150\n",
      "291/291 [==============================] - 1s 3ms/step - loss: 0.0018\n",
      "Epoch 5/150\n",
      "291/291 [==============================] - 1s 3ms/step - loss: 0.0018\n",
      "Epoch 6/150\n",
      "291/291 [==============================] - 1s 3ms/step - loss: 0.0017\n",
      "Epoch 7/150\n",
      "291/291 [==============================] - 1s 3ms/step - loss: 0.0018\n",
      "Epoch 8/150\n",
      "291/291 [==============================] - 1s 3ms/step - loss: 0.0017\n",
      "Epoch 9/150\n",
      "291/291 [==============================] - 1s 3ms/step - loss: 0.0017\n",
      "Epoch 10/150\n",
      "291/291 [==============================] - 1s 2ms/step - loss: 0.0016\n",
      "Epoch 11/150\n",
      "291/291 [==============================] - 1s 2ms/step - loss: 0.0016\n",
      "Epoch 12/150\n",
      "291/291 [==============================] - 1s 2ms/step - loss: 0.0016\n",
      "Epoch 13/150\n",
      "291/291 [==============================] - 1s 2ms/step - loss: 0.0015\n",
      "Epoch 14/150\n",
      "291/291 [==============================] - 1s 3ms/step - loss: 0.0014\n",
      "Epoch 15/150\n",
      "291/291 [==============================] - 1s 2ms/step - loss: 0.0015\n",
      "Epoch 16/150\n",
      "291/291 [==============================] - 1s 3ms/step - loss: 0.0014\n",
      "Epoch 17/150\n",
      "291/291 [==============================] - 1s 3ms/step - loss: 0.0014\n",
      "Epoch 18/150\n",
      "291/291 [==============================] - 1s 2ms/step - loss: 0.0014\n",
      "Epoch 19/150\n",
      "291/291 [==============================] - 1s 2ms/step - loss: 0.0014\n",
      "Epoch 20/150\n",
      "291/291 [==============================] - 1s 2ms/step - loss: 0.0014\n",
      "Epoch 21/150\n",
      "291/291 [==============================] - 1s 2ms/step - loss: 0.0013\n",
      "Epoch 22/150\n",
      "291/291 [==============================] - 1s 2ms/step - loss: 0.0013\n",
      "Epoch 23/150\n",
      "291/291 [==============================] - 1s 2ms/step - loss: 0.0013\n",
      "Epoch 24/150\n",
      "291/291 [==============================] - 1s 2ms/step - loss: 0.0013\n",
      "Epoch 25/150\n",
      "291/291 [==============================] - 1s 3ms/step - loss: 0.0012\n",
      "Epoch 26/150\n",
      "291/291 [==============================] - 1s 3ms/step - loss: 0.0012\n",
      "Epoch 27/150\n",
      "291/291 [==============================] - 1s 3ms/step - loss: 0.0012\n",
      "Epoch 28/150\n",
      "291/291 [==============================] - 1s 3ms/step - loss: 0.0012\n",
      "Epoch 29/150\n",
      "291/291 [==============================] - 1s 3ms/step - loss: 0.0012\n",
      "Epoch 30/150\n",
      "291/291 [==============================] - 1s 3ms/step - loss: 0.0011\n",
      "Epoch 31/150\n",
      "291/291 [==============================] - 1s 2ms/step - loss: 0.0011\n",
      "Epoch 32/150\n",
      "291/291 [==============================] - 1s 3ms/step - loss: 0.0010\n",
      "Epoch 33/150\n",
      "291/291 [==============================] - 1s 2ms/step - loss: 0.0010\n",
      "Epoch 34/150\n",
      "291/291 [==============================] - 1s 2ms/step - loss: 0.0010\n",
      "Epoch 35/150\n",
      "291/291 [==============================] - 1s 2ms/step - loss: 0.0010\n",
      "Epoch 36/150\n",
      "291/291 [==============================] - 1s 2ms/step - loss: 0.0010\n",
      "Epoch 37/150\n",
      "291/291 [==============================] - 1s 3ms/step - loss: 9.9702e-04\n",
      "Epoch 38/150\n",
      "291/291 [==============================] - 1s 2ms/step - loss: 9.3241e-04\n",
      "Epoch 39/150\n",
      "291/291 [==============================] - 1s 3ms/step - loss: 9.2533e-04\n",
      "Epoch 40/150\n",
      "291/291 [==============================] - 1s 2ms/step - loss: 8.6518e-04\n",
      "Epoch 41/150\n",
      "291/291 [==============================] - 1s 2ms/step - loss: 8.7989e-04\n",
      "Epoch 42/150\n",
      "291/291 [==============================] - 1s 2ms/step - loss: 8.2731e-04\n",
      "Epoch 43/150\n",
      "291/291 [==============================] - 1s 2ms/step - loss: 8.9711e-04\n",
      "Epoch 44/150\n",
      "291/291 [==============================] - 1s 2ms/step - loss: 7.9821e-04\n",
      "Epoch 45/150\n",
      "291/291 [==============================] - 1s 2ms/step - loss: 8.5167e-04\n",
      "Epoch 46/150\n",
      "291/291 [==============================] - 1s 2ms/step - loss: 8.2393e-04\n",
      "Epoch 47/150\n",
      "291/291 [==============================] - 1s 3ms/step - loss: 8.1050e-04\n",
      "Epoch 48/150\n",
      "291/291 [==============================] - 1s 2ms/step - loss: 8.1402e-04\n",
      "Epoch 49/150\n",
      "291/291 [==============================] - 1s 3ms/step - loss: 7.3483e-04\n",
      "Epoch 50/150\n",
      "291/291 [==============================] - 1s 3ms/step - loss: 7.6027e-04\n",
      "Epoch 51/150\n",
      "291/291 [==============================] - 1s 3ms/step - loss: 7.8946e-04\n",
      "Epoch 52/150\n",
      "291/291 [==============================] - 1s 2ms/step - loss: 7.4023e-04\n",
      "Epoch 53/150\n",
      "291/291 [==============================] - 1s 2ms/step - loss: 8.7822e-04\n",
      "Epoch 54/150\n",
      "291/291 [==============================] - 1s 3ms/step - loss: 6.4916e-04\n",
      "Epoch 55/150\n",
      "291/291 [==============================] - 1s 2ms/step - loss: 7.2490e-04\n",
      "Epoch 56/150\n",
      "291/291 [==============================] - 1s 3ms/step - loss: 7.3233e-04\n",
      "Epoch 57/150\n",
      "291/291 [==============================] - 1s 2ms/step - loss: 7.3007e-04\n",
      "Epoch 58/150\n",
      "291/291 [==============================] - 1s 2ms/step - loss: 6.1563e-04\n",
      "Epoch 59/150\n",
      "291/291 [==============================] - 1s 3ms/step - loss: 7.0975e-04\n",
      "Epoch 60/150\n",
      "291/291 [==============================] - 1s 2ms/step - loss: 6.5662e-04\n",
      "Epoch 61/150\n",
      "291/291 [==============================] - 1s 2ms/step - loss: 6.1296e-04\n",
      "Epoch 62/150\n",
      "291/291 [==============================] - 1s 3ms/step - loss: 6.7354e-04\n",
      "Epoch 63/150\n",
      "291/291 [==============================] - 1s 3ms/step - loss: 6.8560e-04\n",
      "Epoch 64/150\n",
      "291/291 [==============================] - 1s 2ms/step - loss: 6.4025e-04\n",
      "Epoch 65/150\n",
      "291/291 [==============================] - 1s 3ms/step - loss: 5.9083e-04\n",
      "Epoch 66/150\n",
      "291/291 [==============================] - 1s 2ms/step - loss: 5.5236e-04\n",
      "Epoch 67/150\n",
      "291/291 [==============================] - 1s 2ms/step - loss: 5.6532e-04\n",
      "Epoch 68/150\n",
      "291/291 [==============================] - 1s 3ms/step - loss: 5.8425e-04\n",
      "Epoch 69/150\n",
      "291/291 [==============================] - 1s 3ms/step - loss: 5.8774e-04\n",
      "Epoch 70/150\n",
      "291/291 [==============================] - 1s 3ms/step - loss: 5.9094e-04\n",
      "Epoch 71/150\n",
      "291/291 [==============================] - 1s 3ms/step - loss: 5.0038e-04\n",
      "Epoch 72/150\n",
      "291/291 [==============================] - 1s 3ms/step - loss: 5.7251e-04\n",
      "Epoch 73/150\n",
      "291/291 [==============================] - 1s 3ms/step - loss: 5.5292e-04\n",
      "Epoch 74/150\n",
      "291/291 [==============================] - 1s 3ms/step - loss: 5.1918e-04\n",
      "Epoch 75/150\n",
      "291/291 [==============================] - 1s 3ms/step - loss: 5.0250e-04\n",
      "Epoch 76/150\n",
      "291/291 [==============================] - 1s 2ms/step - loss: 6.1623e-04\n",
      "Epoch 77/150\n",
      "291/291 [==============================] - 1s 2ms/step - loss: 4.6200e-04\n",
      "Epoch 78/150\n",
      "291/291 [==============================] - 1s 2ms/step - loss: 5.0756e-04\n",
      "Epoch 79/150\n",
      "291/291 [==============================] - 1s 3ms/step - loss: 6.0964e-04\n",
      "Epoch 80/150\n",
      "291/291 [==============================] - 1s 3ms/step - loss: 4.3412e-04\n",
      "Epoch 81/150\n",
      "291/291 [==============================] - 1s 2ms/step - loss: 5.5116e-04\n",
      "Epoch 82/150\n",
      "291/291 [==============================] - 1s 2ms/step - loss: 4.3308e-04\n",
      "Epoch 83/150\n",
      "291/291 [==============================] - 1s 3ms/step - loss: 4.5765e-04\n",
      "Epoch 84/150\n",
      "291/291 [==============================] - 1s 3ms/step - loss: 4.5368e-04\n",
      "Epoch 85/150\n",
      "291/291 [==============================] - 1s 2ms/step - loss: 4.8499e-04\n",
      "Epoch 86/150\n",
      "291/291 [==============================] - 1s 2ms/step - loss: 5.0426e-04\n",
      "Epoch 87/150\n",
      "291/291 [==============================] - 1s 3ms/step - loss: 4.2381e-04\n",
      "Epoch 88/150\n",
      "291/291 [==============================] - 1s 2ms/step - loss: 4.6355e-04\n",
      "Epoch 89/150\n",
      "291/291 [==============================] - 1s 2ms/step - loss: 6.1794e-04\n",
      "Epoch 90/150\n",
      "291/291 [==============================] - 1s 3ms/step - loss: 4.0694e-04\n",
      "Epoch 91/150\n",
      "291/291 [==============================] - 1s 3ms/step - loss: 4.8864e-04\n",
      "Epoch 92/150\n",
      "291/291 [==============================] - 1s 2ms/step - loss: 4.1239e-04\n",
      "Epoch 93/150\n",
      "291/291 [==============================] - 1s 3ms/step - loss: 5.0127e-04\n",
      "Epoch 94/150\n",
      "291/291 [==============================] - 1s 3ms/step - loss: 4.4311e-04\n",
      "Epoch 95/150\n",
      "291/291 [==============================] - 1s 3ms/step - loss: 4.2543e-04\n",
      "Epoch 96/150\n",
      "291/291 [==============================] - 1s 3ms/step - loss: 4.2275e-04\n",
      "Epoch 97/150\n",
      "291/291 [==============================] - 1s 2ms/step - loss: 4.6077e-04\n",
      "Epoch 98/150\n",
      "291/291 [==============================] - 1s 2ms/step - loss: 4.2947e-04\n",
      "Epoch 99/150\n",
      "291/291 [==============================] - 1s 3ms/step - loss: 3.8965e-04\n",
      "Epoch 100/150\n",
      "291/291 [==============================] - 1s 2ms/step - loss: 3.9560e-04\n",
      "Epoch 101/150\n",
      "291/291 [==============================] - 1s 2ms/step - loss: 4.5325e-04\n",
      "Epoch 102/150\n",
      "291/291 [==============================] - 1s 2ms/step - loss: 3.8694e-04\n",
      "Epoch 103/150\n",
      "291/291 [==============================] - 1s 3ms/step - loss: 4.2294e-04\n",
      "Epoch 104/150\n",
      "291/291 [==============================] - 1s 2ms/step - loss: 4.8250e-04\n",
      "Epoch 105/150\n",
      "291/291 [==============================] - 1s 3ms/step - loss: 4.3160e-04\n",
      "Epoch 106/150\n",
      "291/291 [==============================] - 1s 3ms/step - loss: 3.5720e-04\n",
      "Epoch 107/150\n",
      "291/291 [==============================] - 1s 3ms/step - loss: 3.6146e-04\n",
      "Epoch 108/150\n",
      "291/291 [==============================] - 1s 3ms/step - loss: 5.5394e-04\n",
      "Epoch 109/150\n",
      "291/291 [==============================] - 1s 3ms/step - loss: 4.1778e-04\n",
      "Epoch 110/150\n",
      "291/291 [==============================] - 1s 3ms/step - loss: 4.7628e-04\n",
      "Epoch 111/150\n",
      "291/291 [==============================] - 1s 3ms/step - loss: 3.7381e-04\n",
      "Epoch 112/150\n",
      "291/291 [==============================] - 1s 3ms/step - loss: 3.4359e-04\n",
      "Epoch 113/150\n",
      "291/291 [==============================] - 1s 3ms/step - loss: 3.7820e-04\n",
      "Epoch 114/150\n",
      "291/291 [==============================] - 1s 3ms/step - loss: 3.9502e-04\n",
      "Epoch 115/150\n",
      "291/291 [==============================] - 1s 3ms/step - loss: 3.5969e-04\n",
      "Epoch 116/150\n",
      "291/291 [==============================] - 1s 3ms/step - loss: 4.3775e-04\n",
      "Epoch 117/150\n",
      "291/291 [==============================] - 1s 3ms/step - loss: 3.4584e-04\n",
      "Epoch 118/150\n",
      "291/291 [==============================] - 1s 2ms/step - loss: 3.9681e-04\n",
      "Epoch 119/150\n",
      "291/291 [==============================] - 1s 2ms/step - loss: 3.2999e-04\n",
      "Epoch 120/150\n",
      "291/291 [==============================] - 1s 2ms/step - loss: 3.2341e-04\n",
      "Epoch 121/150\n",
      "291/291 [==============================] - 1s 3ms/step - loss: 3.6868e-04\n",
      "Epoch 122/150\n",
      "291/291 [==============================] - 1s 3ms/step - loss: 3.6439e-04\n",
      "Epoch 123/150\n",
      "291/291 [==============================] - 1s 3ms/step - loss: 3.6674e-04\n",
      "Epoch 124/150\n",
      "291/291 [==============================] - 1s 2ms/step - loss: 4.3154e-04\n",
      "Epoch 125/150\n",
      "291/291 [==============================] - 1s 3ms/step - loss: 3.4219e-04\n",
      "Epoch 126/150\n",
      "291/291 [==============================] - 1s 2ms/step - loss: 3.3368e-04\n",
      "Epoch 127/150\n",
      "291/291 [==============================] - 1s 2ms/step - loss: 3.1165e-04\n",
      "Epoch 128/150\n",
      "291/291 [==============================] - 1s 2ms/step - loss: 3.4435e-04\n",
      "Epoch 129/150\n",
      "291/291 [==============================] - 1s 2ms/step - loss: 3.7537e-04\n",
      "Epoch 130/150\n",
      "291/291 [==============================] - 1s 3ms/step - loss: 4.8605e-04\n",
      "Epoch 131/150\n",
      "291/291 [==============================] - 1s 2ms/step - loss: 3.5794e-04\n",
      "Epoch 132/150\n",
      "291/291 [==============================] - 1s 2ms/step - loss: 3.3270e-04\n",
      "Epoch 133/150\n",
      "291/291 [==============================] - 1s 3ms/step - loss: 3.4528e-04\n",
      "Epoch 134/150\n",
      "291/291 [==============================] - 1s 3ms/step - loss: 3.2343e-04\n",
      "Epoch 135/150\n",
      "291/291 [==============================] - 1s 3ms/step - loss: 3.3116e-04\n",
      "Epoch 136/150\n",
      "291/291 [==============================] - 1s 3ms/step - loss: 3.6744e-04\n",
      "Epoch 137/150\n",
      "291/291 [==============================] - 1s 3ms/step - loss: 2.9135e-04\n",
      "Epoch 138/150\n",
      "291/291 [==============================] - 1s 3ms/step - loss: 2.8710e-04\n",
      "Epoch 139/150\n",
      "291/291 [==============================] - 1s 3ms/step - loss: 3.2440e-04\n",
      "Epoch 140/150\n",
      "291/291 [==============================] - 1s 3ms/step - loss: 3.5384e-04\n",
      "Epoch 141/150\n",
      "291/291 [==============================] - 1s 3ms/step - loss: 3.6397e-04\n",
      "Epoch 142/150\n",
      "291/291 [==============================] - 1s 2ms/step - loss: 2.8579e-04\n",
      "Epoch 143/150\n",
      "291/291 [==============================] - 1s 2ms/step - loss: 3.3180e-04\n",
      "Epoch 144/150\n",
      "291/291 [==============================] - 1s 2ms/step - loss: 3.4765e-04\n",
      "Epoch 145/150\n",
      "291/291 [==============================] - 1s 3ms/step - loss: 3.2495e-04\n",
      "Epoch 146/150\n",
      "291/291 [==============================] - 1s 3ms/step - loss: 2.8682e-04\n",
      "Epoch 147/150\n",
      "291/291 [==============================] - 1s 2ms/step - loss: 4.0355e-04\n",
      "Epoch 148/150\n",
      "291/291 [==============================] - 1s 3ms/step - loss: 3.2615e-04\n",
      "Epoch 149/150\n",
      "291/291 [==============================] - 1s 2ms/step - loss: 3.0250e-04\n",
      "Epoch 150/150\n",
      "291/291 [==============================] - 1s 3ms/step - loss: 2.8725e-04\n"
     ]
    },
    {
     "data": {
      "text/plain": [
       "<keras.callbacks.History at 0x26b960b8e20>"
      ]
     },
     "execution_count": 157,
     "metadata": {},
     "output_type": "execute_result"
    }
   ],
   "source": [
    "model.fit(tx, ty, epochs=150, batch_size=32)"
   ]
  },
  {
   "cell_type": "code",
   "execution_count": 158,
   "id": "e86d70d7-949f-4ca6-890a-1fd7a1ce8721",
   "metadata": {},
   "outputs": [
    {
     "name": "stdout",
     "output_type": "stream",
     "text": [
      "73/73 [==============================] - 0s 1ms/step\n"
     ]
    }
   ],
   "source": [
    "yp=model.predict(vx)"
   ]
  },
  {
   "cell_type": "code",
   "execution_count": 159,
   "id": "bf1ce78e-0e79-4470-810f-224d7b07a372",
   "metadata": {},
   "outputs": [],
   "source": [
    "MSE=mean_squared_error(vy,yp)"
   ]
  },
  {
   "cell_type": "code",
   "execution_count": 160,
   "id": "200eb4c3-77ff-4d8e-b1a6-0b461554c191",
   "metadata": {},
   "outputs": [
    {
     "data": {
      "text/plain": [
       "0.00041354527814098764"
      ]
     },
     "execution_count": 160,
     "metadata": {},
     "output_type": "execute_result"
    }
   ],
   "source": [
    "MSE"
   ]
  },
  {
   "cell_type": "code",
   "execution_count": 161,
   "id": "5c75071d-0287-4b6a-a592-79a0eb99030d",
   "metadata": {},
   "outputs": [],
   "source": [
    "MAE=mean_absolute_error(vy,yp)"
   ]
  },
  {
   "cell_type": "code",
   "execution_count": 162,
   "id": "4ff42ed1-e5b3-421e-9ec7-91b23b3aad8c",
   "metadata": {},
   "outputs": [
    {
     "data": {
      "text/plain": [
       "0.010331996339345761"
      ]
     },
     "execution_count": 162,
     "metadata": {},
     "output_type": "execute_result"
    }
   ],
   "source": [
    "MAE"
   ]
  },
  {
   "cell_type": "code",
   "execution_count": 163,
   "id": "963a3068-fa47-403a-b296-5a97c7c3b3f6",
   "metadata": {},
   "outputs": [],
   "source": [
    "R2=r2_score(vy,yp)"
   ]
  },
  {
   "cell_type": "code",
   "execution_count": 164,
   "id": "f38241d0-dd29-4200-a9b8-5ca03556b8bf",
   "metadata": {},
   "outputs": [
    {
     "data": {
      "text/plain": [
       "0.9882533165871928"
      ]
     },
     "execution_count": 164,
     "metadata": {},
     "output_type": "execute_result"
    }
   ],
   "source": [
    "R2"
   ]
  },
  {
   "cell_type": "code",
   "execution_count": 167,
   "id": "0e5eb421-7eed-4438-8273-ac15de4c67d4",
   "metadata": {},
   "outputs": [],
   "source": [
    "ape = np.abs((vy - yp.ravel()) / vy)\n",
    "MAPE = np.mean(ape) * 100"
   ]
  },
  {
   "cell_type": "code",
   "execution_count": 168,
   "id": "1535a676-6f37-4b1e-8913-db1f0883ce72",
   "metadata": {},
   "outputs": [
    {
     "data": {
      "text/plain": [
       "40.986027213806736"
      ]
     },
     "execution_count": 168,
     "metadata": {},
     "output_type": "execute_result"
    }
   ],
   "source": [
    "MAPE"
   ]
  },
  {
   "cell_type": "code",
   "execution_count": 171,
   "id": "505ee80d-b174-41fa-9f19-58f11d5273af",
   "metadata": {},
   "outputs": [],
   "source": [
    "errors = np.abs(vy - yp.ravel())\n",
    "mean_true = np.mean(vy)\n",
    "RAE = np.mean(errors) / mean_true"
   ]
  },
  {
   "cell_type": "code",
   "execution_count": 172,
   "id": "0a86b140-c224-477d-934e-fe7c93ec0023",
   "metadata": {},
   "outputs": [
    {
     "data": {
      "text/plain": [
       "0.0674894702525913"
      ]
     },
     "execution_count": 172,
     "metadata": {},
     "output_type": "execute_result"
    }
   ],
   "source": [
    "RAE"
   ]
  },
  {
   "cell_type": "code",
   "execution_count": null,
   "id": "db634217-3b79-4267-814b-7ad0d5240230",
   "metadata": {},
   "outputs": [],
   "source": []
  },
  {
   "cell_type": "code",
   "execution_count": 182,
   "id": "fa88eb1e-af55-4815-a652-fa85f09eaa41",
   "metadata": {},
   "outputs": [],
   "source": [
    "model = Sequential()\n",
    "\n",
    "model.add(SimpleRNN(64,activation='relu', input_shape=(7,1)))\n",
    "model.add(Dense(units=1))\n",
    "\n",
    "# 编译模型\n",
    "model.compile(optimizer=Adam(), loss='mean_squared_error')"
   ]
  },
  {
   "cell_type": "code",
   "execution_count": 183,
   "id": "d612b600-94d5-4563-a025-362b911e5a4a",
   "metadata": {},
   "outputs": [
    {
     "name": "stdout",
     "output_type": "stream",
     "text": [
      "Epoch 1/150\n",
      "291/291 [==============================] - 1s 1ms/step - loss: 0.0112\n",
      "Epoch 2/150\n",
      "291/291 [==============================] - 0s 1ms/step - loss: 0.0035\n",
      "Epoch 3/150\n",
      "291/291 [==============================] - 0s 1ms/step - loss: 0.0028\n",
      "Epoch 4/150\n",
      "291/291 [==============================] - 0s 1ms/step - loss: 0.0027\n",
      "Epoch 5/150\n",
      "291/291 [==============================] - 0s 1ms/step - loss: 0.0024\n",
      "Epoch 6/150\n",
      "291/291 [==============================] - 0s 1ms/step - loss: 0.0020\n",
      "Epoch 7/150\n",
      "291/291 [==============================] - 0s 1ms/step - loss: 0.0020\n",
      "Epoch 8/150\n",
      "291/291 [==============================] - 0s 1ms/step - loss: 0.0020\n",
      "Epoch 9/150\n",
      "291/291 [==============================] - 0s 1ms/step - loss: 0.0017\n",
      "Epoch 10/150\n",
      "291/291 [==============================] - 0s 1ms/step - loss: 0.0017\n",
      "Epoch 11/150\n",
      "291/291 [==============================] - 0s 1ms/step - loss: 0.0017\n",
      "Epoch 12/150\n",
      "291/291 [==============================] - 0s 1ms/step - loss: 0.0015\n",
      "Epoch 13/150\n",
      "291/291 [==============================] - 0s 1ms/step - loss: 0.0015\n",
      "Epoch 14/150\n",
      "291/291 [==============================] - 0s 1ms/step - loss: 0.0014\n",
      "Epoch 15/150\n",
      "291/291 [==============================] - 0s 1ms/step - loss: 0.0014\n",
      "Epoch 16/150\n",
      "291/291 [==============================] - 0s 1ms/step - loss: 0.0013\n",
      "Epoch 17/150\n",
      "291/291 [==============================] - 0s 1ms/step - loss: 0.0013\n",
      "Epoch 18/150\n",
      "291/291 [==============================] - 0s 1ms/step - loss: 0.0012\n",
      "Epoch 19/150\n",
      "291/291 [==============================] - 0s 1ms/step - loss: 0.0013\n",
      "Epoch 20/150\n",
      "291/291 [==============================] - 0s 1ms/step - loss: 0.0011\n",
      "Epoch 21/150\n",
      "291/291 [==============================] - 0s 1ms/step - loss: 0.0011\n",
      "Epoch 22/150\n",
      "291/291 [==============================] - 0s 1ms/step - loss: 0.0012\n",
      "Epoch 23/150\n",
      "291/291 [==============================] - 0s 1ms/step - loss: 9.8812e-04\n",
      "Epoch 24/150\n",
      "291/291 [==============================] - 0s 1ms/step - loss: 0.0015\n",
      "Epoch 25/150\n",
      "291/291 [==============================] - 0s 1ms/step - loss: 0.0011\n",
      "Epoch 26/150\n",
      "291/291 [==============================] - 0s 1ms/step - loss: 0.0011\n",
      "Epoch 27/150\n",
      "291/291 [==============================] - 0s 2ms/step - loss: 0.0011\n",
      "Epoch 28/150\n",
      "291/291 [==============================] - 0s 1ms/step - loss: 9.7163e-04\n",
      "Epoch 29/150\n",
      "291/291 [==============================] - 0s 1ms/step - loss: 0.0011\n",
      "Epoch 30/150\n",
      "291/291 [==============================] - 0s 1ms/step - loss: 0.0011\n",
      "Epoch 31/150\n",
      "291/291 [==============================] - 0s 1ms/step - loss: 8.0291e-04\n",
      "Epoch 32/150\n",
      "291/291 [==============================] - 0s 1ms/step - loss: 6.9122e-04\n",
      "Epoch 33/150\n",
      "291/291 [==============================] - 0s 1ms/step - loss: 7.2958e-04\n",
      "Epoch 34/150\n",
      "291/291 [==============================] - 0s 1ms/step - loss: 6.8817e-04\n",
      "Epoch 35/150\n",
      "291/291 [==============================] - 0s 1ms/step - loss: 6.1910e-04\n",
      "Epoch 36/150\n",
      "291/291 [==============================] - 0s 1ms/step - loss: 6.2667e-04\n",
      "Epoch 37/150\n",
      "291/291 [==============================] - 0s 1ms/step - loss: 0.0010\n",
      "Epoch 38/150\n",
      "291/291 [==============================] - 0s 1ms/step - loss: 6.3993e-04\n",
      "Epoch 39/150\n",
      "291/291 [==============================] - 0s 1ms/step - loss: 9.3553e-04\n",
      "Epoch 40/150\n",
      "291/291 [==============================] - 0s 1ms/step - loss: 7.7746e-04\n",
      "Epoch 41/150\n",
      "291/291 [==============================] - 0s 1ms/step - loss: 6.7883e-04\n",
      "Epoch 42/150\n",
      "291/291 [==============================] - 0s 1ms/step - loss: 6.3412e-04\n",
      "Epoch 43/150\n",
      "291/291 [==============================] - 0s 1ms/step - loss: 0.0011\n",
      "Epoch 44/150\n",
      "291/291 [==============================] - 0s 1ms/step - loss: 6.0910e-04\n",
      "Epoch 45/150\n",
      "291/291 [==============================] - 0s 1ms/step - loss: 5.6347e-04\n",
      "Epoch 46/150\n",
      "291/291 [==============================] - 0s 1ms/step - loss: 5.3931e-04\n",
      "Epoch 47/150\n",
      "291/291 [==============================] - 0s 1ms/step - loss: 6.2576e-04\n",
      "Epoch 48/150\n",
      "291/291 [==============================] - 0s 1ms/step - loss: 5.1973e-04\n",
      "Epoch 49/150\n",
      "291/291 [==============================] - 0s 1ms/step - loss: 5.8251e-04\n",
      "Epoch 50/150\n",
      "291/291 [==============================] - 0s 1ms/step - loss: 9.6918e-04\n",
      "Epoch 51/150\n",
      "291/291 [==============================] - 0s 1ms/step - loss: 7.8492e-04\n",
      "Epoch 52/150\n",
      "291/291 [==============================] - 0s 1ms/step - loss: 6.7793e-04\n",
      "Epoch 53/150\n",
      "291/291 [==============================] - 0s 1ms/step - loss: 6.1902e-04\n",
      "Epoch 54/150\n",
      "291/291 [==============================] - 0s 1ms/step - loss: 6.0120e-04\n",
      "Epoch 55/150\n",
      "291/291 [==============================] - 0s 1ms/step - loss: 7.6803e-04\n",
      "Epoch 56/150\n",
      "291/291 [==============================] - 0s 1ms/step - loss: 8.2906e-04\n",
      "Epoch 57/150\n",
      "291/291 [==============================] - 0s 1ms/step - loss: 6.0089e-04\n",
      "Epoch 58/150\n",
      "291/291 [==============================] - 0s 2ms/step - loss: 5.3336e-04\n",
      "Epoch 59/150\n",
      "291/291 [==============================] - 0s 2ms/step - loss: 5.0626e-04\n",
      "Epoch 60/150\n",
      "291/291 [==============================] - 0s 2ms/step - loss: 4.4567e-04\n",
      "Epoch 61/150\n",
      "291/291 [==============================] - 0s 2ms/step - loss: 5.1207e-04\n",
      "Epoch 62/150\n",
      "291/291 [==============================] - 0s 2ms/step - loss: 7.8876e-04\n",
      "Epoch 63/150\n",
      "291/291 [==============================] - 0s 2ms/step - loss: 5.9844e-04\n",
      "Epoch 64/150\n",
      "291/291 [==============================] - 0s 2ms/step - loss: 8.3850e-04\n",
      "Epoch 65/150\n",
      "291/291 [==============================] - 0s 2ms/step - loss: 5.0802e-04\n",
      "Epoch 66/150\n",
      "291/291 [==============================] - 0s 2ms/step - loss: 6.1194e-04\n",
      "Epoch 67/150\n",
      "291/291 [==============================] - 0s 2ms/step - loss: 4.8423e-04\n",
      "Epoch 68/150\n",
      "291/291 [==============================] - 0s 1ms/step - loss: 5.8631e-04\n",
      "Epoch 69/150\n",
      "291/291 [==============================] - 0s 1ms/step - loss: 5.1524e-04\n",
      "Epoch 70/150\n",
      "291/291 [==============================] - 0s 1ms/step - loss: 4.8381e-04\n",
      "Epoch 71/150\n",
      "291/291 [==============================] - 0s 1ms/step - loss: 5.1143e-04\n",
      "Epoch 72/150\n",
      "291/291 [==============================] - 0s 1ms/step - loss: 5.3108e-04\n",
      "Epoch 73/150\n",
      "291/291 [==============================] - 0s 1ms/step - loss: 5.3714e-04\n",
      "Epoch 74/150\n",
      "291/291 [==============================] - 0s 1ms/step - loss: 9.1590e-04\n",
      "Epoch 75/150\n",
      "291/291 [==============================] - 0s 2ms/step - loss: 5.1522e-04\n",
      "Epoch 76/150\n",
      "291/291 [==============================] - 0s 1ms/step - loss: 5.8059e-04\n",
      "Epoch 77/150\n",
      "291/291 [==============================] - 0s 1ms/step - loss: 4.0432e-04\n",
      "Epoch 78/150\n",
      "291/291 [==============================] - 0s 1ms/step - loss: 5.0279e-04\n",
      "Epoch 79/150\n",
      "291/291 [==============================] - 0s 1ms/step - loss: 5.3778e-04\n",
      "Epoch 80/150\n",
      "291/291 [==============================] - 0s 1ms/step - loss: 4.5541e-04\n",
      "Epoch 81/150\n",
      "291/291 [==============================] - 0s 1ms/step - loss: 7.0233e-04\n",
      "Epoch 82/150\n",
      "291/291 [==============================] - 0s 1ms/step - loss: 6.2555e-04\n",
      "Epoch 83/150\n",
      "291/291 [==============================] - 0s 1ms/step - loss: 5.5289e-04\n",
      "Epoch 84/150\n",
      "291/291 [==============================] - 0s 1ms/step - loss: 5.2046e-04\n",
      "Epoch 85/150\n",
      "291/291 [==============================] - 0s 1ms/step - loss: 4.7406e-04\n",
      "Epoch 86/150\n",
      "291/291 [==============================] - 0s 1ms/step - loss: 4.0535e-04\n",
      "Epoch 87/150\n",
      "291/291 [==============================] - 0s 1ms/step - loss: 3.7996e-04\n",
      "Epoch 88/150\n",
      "291/291 [==============================] - 0s 1ms/step - loss: 3.6992e-04\n",
      "Epoch 89/150\n",
      "291/291 [==============================] - 0s 1ms/step - loss: 4.3670e-04\n",
      "Epoch 90/150\n",
      "291/291 [==============================] - 0s 1ms/step - loss: 5.9302e-04\n",
      "Epoch 91/150\n",
      "291/291 [==============================] - 0s 1ms/step - loss: 4.9143e-04\n",
      "Epoch 92/150\n",
      "291/291 [==============================] - 0s 1ms/step - loss: 5.3292e-04\n",
      "Epoch 93/150\n",
      "291/291 [==============================] - 0s 1ms/step - loss: 5.5188e-04\n",
      "Epoch 94/150\n",
      "291/291 [==============================] - 0s 1ms/step - loss: 4.3256e-04\n",
      "Epoch 95/150\n",
      "291/291 [==============================] - 0s 1ms/step - loss: 4.2026e-04\n",
      "Epoch 96/150\n",
      "291/291 [==============================] - 0s 1ms/step - loss: 3.9237e-04\n",
      "Epoch 97/150\n",
      "291/291 [==============================] - 0s 1ms/step - loss: 6.8273e-04\n",
      "Epoch 98/150\n",
      "291/291 [==============================] - 0s 1ms/step - loss: 4.8034e-04\n",
      "Epoch 99/150\n",
      "291/291 [==============================] - 0s 1ms/step - loss: 4.4511e-04\n",
      "Epoch 100/150\n",
      "291/291 [==============================] - 0s 1ms/step - loss: 7.5259e-04\n",
      "Epoch 101/150\n",
      "291/291 [==============================] - 0s 1ms/step - loss: 6.0382e-04\n",
      "Epoch 102/150\n",
      "291/291 [==============================] - 0s 1ms/step - loss: 5.0286e-04\n",
      "Epoch 103/150\n",
      "291/291 [==============================] - 0s 1ms/step - loss: 4.0789e-04\n",
      "Epoch 104/150\n",
      "291/291 [==============================] - 0s 1ms/step - loss: 4.1728e-04\n",
      "Epoch 105/150\n",
      "291/291 [==============================] - 0s 2ms/step - loss: 4.5016e-04\n",
      "Epoch 106/150\n",
      "291/291 [==============================] - 0s 1ms/step - loss: 4.8349e-04\n",
      "Epoch 107/150\n",
      "291/291 [==============================] - 0s 2ms/step - loss: 3.6682e-04\n",
      "Epoch 108/150\n",
      "291/291 [==============================] - 0s 1ms/step - loss: 6.4024e-04\n",
      "Epoch 109/150\n",
      "291/291 [==============================] - 0s 1ms/step - loss: 3.4013e-04\n",
      "Epoch 110/150\n",
      "291/291 [==============================] - 0s 1ms/step - loss: 3.7496e-04\n",
      "Epoch 111/150\n",
      "291/291 [==============================] - 0s 1ms/step - loss: 8.6216e-04\n",
      "Epoch 112/150\n",
      "291/291 [==============================] - 0s 2ms/step - loss: 3.8222e-04\n",
      "Epoch 113/150\n",
      "291/291 [==============================] - 0s 2ms/step - loss: 3.8311e-04\n",
      "Epoch 114/150\n",
      "291/291 [==============================] - 0s 2ms/step - loss: 3.9171e-04\n",
      "Epoch 115/150\n",
      "291/291 [==============================] - 0s 1ms/step - loss: 4.2618e-04\n",
      "Epoch 116/150\n",
      "291/291 [==============================] - 1s 2ms/step - loss: 3.6567e-04\n",
      "Epoch 117/150\n",
      "291/291 [==============================] - 0s 1ms/step - loss: 3.1257e-04\n",
      "Epoch 118/150\n",
      "291/291 [==============================] - 0s 1ms/step - loss: 4.0714e-04\n",
      "Epoch 119/150\n",
      "291/291 [==============================] - 0s 1ms/step - loss: 3.8917e-04\n",
      "Epoch 120/150\n",
      "291/291 [==============================] - 0s 1ms/step - loss: 4.0381e-04\n",
      "Epoch 121/150\n",
      "291/291 [==============================] - 0s 1ms/step - loss: 4.6327e-04\n",
      "Epoch 122/150\n",
      "291/291 [==============================] - 0s 1ms/step - loss: 4.2792e-04\n",
      "Epoch 123/150\n",
      "291/291 [==============================] - 0s 1ms/step - loss: 4.4922e-04\n",
      "Epoch 124/150\n",
      "291/291 [==============================] - 0s 1ms/step - loss: 4.4842e-04\n",
      "Epoch 125/150\n",
      "291/291 [==============================] - 0s 1ms/step - loss: 4.0748e-04\n",
      "Epoch 126/150\n",
      "291/291 [==============================] - 0s 1ms/step - loss: 4.5768e-04\n",
      "Epoch 127/150\n",
      "291/291 [==============================] - 0s 1ms/step - loss: 3.9647e-04\n",
      "Epoch 128/150\n",
      "291/291 [==============================] - 0s 1ms/step - loss: 3.6903e-04\n",
      "Epoch 129/150\n",
      "291/291 [==============================] - 0s 2ms/step - loss: 3.5625e-04\n",
      "Epoch 130/150\n",
      "291/291 [==============================] - 0s 2ms/step - loss: 3.5102e-04\n",
      "Epoch 131/150\n",
      "291/291 [==============================] - 0s 2ms/step - loss: 4.7769e-04\n",
      "Epoch 132/150\n",
      "291/291 [==============================] - 0s 1ms/step - loss: 5.3969e-04\n",
      "Epoch 133/150\n",
      "291/291 [==============================] - 0s 2ms/step - loss: 3.7352e-04\n",
      "Epoch 134/150\n",
      "291/291 [==============================] - 0s 1ms/step - loss: 3.2929e-04\n",
      "Epoch 135/150\n",
      "291/291 [==============================] - 0s 2ms/step - loss: 3.3261e-04\n",
      "Epoch 136/150\n",
      "291/291 [==============================] - 0s 1ms/step - loss: 3.7608e-04\n",
      "Epoch 137/150\n",
      "291/291 [==============================] - 0s 1ms/step - loss: 3.5325e-04\n",
      "Epoch 138/150\n",
      "291/291 [==============================] - 1s 2ms/step - loss: 2.9708e-04\n",
      "Epoch 139/150\n",
      "291/291 [==============================] - 0s 2ms/step - loss: 3.1800e-04\n",
      "Epoch 140/150\n",
      "291/291 [==============================] - 0s 2ms/step - loss: 7.1722e-04\n",
      "Epoch 141/150\n",
      "291/291 [==============================] - 0s 1ms/step - loss: 3.8063e-04\n",
      "Epoch 142/150\n",
      "291/291 [==============================] - 0s 1ms/step - loss: 3.0926e-04\n",
      "Epoch 143/150\n",
      "291/291 [==============================] - 0s 1ms/step - loss: 4.1385e-04\n",
      "Epoch 144/150\n",
      "291/291 [==============================] - 0s 1ms/step - loss: 3.4324e-04\n",
      "Epoch 145/150\n",
      "291/291 [==============================] - 0s 1ms/step - loss: 3.5228e-04\n",
      "Epoch 146/150\n",
      "291/291 [==============================] - 0s 1ms/step - loss: 4.2591e-04\n",
      "Epoch 147/150\n",
      "291/291 [==============================] - 0s 1ms/step - loss: 4.8311e-04\n",
      "Epoch 148/150\n",
      "291/291 [==============================] - 0s 1ms/step - loss: 3.9964e-04\n",
      "Epoch 149/150\n",
      "291/291 [==============================] - 0s 1ms/step - loss: 4.7796e-04\n",
      "Epoch 150/150\n",
      "291/291 [==============================] - 0s 2ms/step - loss: 3.6516e-04\n"
     ]
    },
    {
     "data": {
      "text/plain": [
       "<keras.callbacks.History at 0x26ba5aa0fd0>"
      ]
     },
     "execution_count": 183,
     "metadata": {},
     "output_type": "execute_result"
    }
   ],
   "source": [
    "model.fit(tx,ty,epochs=150, batch_size=32)"
   ]
  },
  {
   "cell_type": "code",
   "execution_count": 184,
   "id": "bc7f4015-4c6d-4a20-9b36-fb9c21f76ae9",
   "metadata": {},
   "outputs": [
    {
     "name": "stdout",
     "output_type": "stream",
     "text": [
      "73/73 [==============================] - 0s 903us/step\n"
     ]
    }
   ],
   "source": [
    "yp=model.predict(vx)"
   ]
  },
  {
   "cell_type": "code",
   "execution_count": 185,
   "id": "6a5ec2d0-6a0d-4543-8907-95fac5817095",
   "metadata": {},
   "outputs": [],
   "source": [
    "MAE=mean_absolute_error(vy,yp)"
   ]
  },
  {
   "cell_type": "code",
   "execution_count": 186,
   "id": "4f45dd28-3199-42bc-849e-2821937d6770",
   "metadata": {},
   "outputs": [
    {
     "data": {
      "text/plain": [
       "0.011665323898888072"
      ]
     },
     "execution_count": 186,
     "metadata": {},
     "output_type": "execute_result"
    }
   ],
   "source": [
    "MAE"
   ]
  },
  {
   "cell_type": "code",
   "execution_count": 187,
   "id": "cab5d454-2a73-4dd1-90dd-68513aa7aea9",
   "metadata": {},
   "outputs": [],
   "source": [
    "MSE=mean_squared_error(vy,yp)"
   ]
  },
  {
   "cell_type": "code",
   "execution_count": 188,
   "id": "bb38f19f-134b-463c-bfe3-8a24fab33399",
   "metadata": {},
   "outputs": [
    {
     "data": {
      "text/plain": [
       "0.0005258551781488806"
      ]
     },
     "execution_count": 188,
     "metadata": {},
     "output_type": "execute_result"
    }
   ],
   "source": [
    "MSE"
   ]
  },
  {
   "cell_type": "code",
   "execution_count": 189,
   "id": "977c8943-1409-4698-95ff-c127851e33db",
   "metadata": {},
   "outputs": [],
   "source": [
    "R2=r2_score(vy,yp)"
   ]
  },
  {
   "cell_type": "code",
   "execution_count": 190,
   "id": "e954cf5d-04b1-4940-809c-5bf09e256b82",
   "metadata": {},
   "outputs": [
    {
     "data": {
      "text/plain": [
       "0.9850631729457341"
      ]
     },
     "execution_count": 190,
     "metadata": {},
     "output_type": "execute_result"
    }
   ],
   "source": [
    "R2"
   ]
  },
  {
   "cell_type": "code",
   "execution_count": 192,
   "id": "0dcdffc3-155e-4238-8ef0-9f2bc53ba697",
   "metadata": {},
   "outputs": [],
   "source": [
    "ape = np.abs((vy - yp.ravel()) / vy)\n",
    "MAPE = np.mean(ape) * 100"
   ]
  },
  {
   "cell_type": "code",
   "execution_count": 193,
   "id": "b0cfb77e-3b33-4d9d-8663-00c6df1d5ade",
   "metadata": {},
   "outputs": [
    {
     "data": {
      "text/plain": [
       "36.95539233601984"
      ]
     },
     "execution_count": 193,
     "metadata": {},
     "output_type": "execute_result"
    }
   ],
   "source": [
    "MAPE"
   ]
  },
  {
   "cell_type": "code",
   "execution_count": 194,
   "id": "ce224262-ba9d-4ea5-8fc0-78535f405d17",
   "metadata": {},
   "outputs": [],
   "source": [
    "errors = np.abs(vy - yp.ravel())\n",
    "mean_true = np.mean(vy)\n",
    "RAE = np.mean(errors) / mean_true"
   ]
  },
  {
   "cell_type": "code",
   "execution_count": 195,
   "id": "f2e5b3a9-9186-48d0-bcb2-4e9469cdd9e7",
   "metadata": {},
   "outputs": [
    {
     "data": {
      "text/plain": [
       "0.07619887816478856"
      ]
     },
     "execution_count": 195,
     "metadata": {},
     "output_type": "execute_result"
    }
   ],
   "source": [
    "RAE"
   ]
  },
  {
   "cell_type": "code",
   "execution_count": 226,
   "id": "415536a9-e9b3-42f6-a238-10e2fb845ba5",
   "metadata": {},
   "outputs": [],
   "source": [
    "model = Sequential()\n",
    "\n",
    "model.add(GRU(64,activation='relu',input_shape= (7, 1)))\n",
    "model.add(Dense(units=1))\n",
    "\n",
    "# 编译模型\n",
    "model.compile(optimizer=Adam(), loss='mean_squared_error')"
   ]
  },
  {
   "cell_type": "code",
   "execution_count": 228,
   "id": "fcb0b6a1-1318-4ae2-bd2d-77d5c54a4e70",
   "metadata": {},
   "outputs": [
    {
     "name": "stdout",
     "output_type": "stream",
     "text": [
      "Epoch 1/150\n",
      "291/291 [==============================] - 2s 2ms/step - loss: 0.0232\n",
      "Epoch 2/150\n",
      "291/291 [==============================] - 1s 2ms/step - loss: 0.0093\n",
      "Epoch 3/150\n",
      "291/291 [==============================] - 1s 2ms/step - loss: 0.0057\n",
      "Epoch 4/150\n",
      "291/291 [==============================] - 1s 3ms/step - loss: 0.0052\n",
      "Epoch 5/150\n",
      "291/291 [==============================] - 1s 2ms/step - loss: 0.0047\n",
      "Epoch 6/150\n",
      "291/291 [==============================] - 1s 2ms/step - loss: 0.0044\n",
      "Epoch 7/150\n",
      "291/291 [==============================] - 1s 3ms/step - loss: 0.0040\n",
      "Epoch 8/150\n",
      "291/291 [==============================] - 1s 3ms/step - loss: 0.0038\n",
      "Epoch 9/150\n",
      "291/291 [==============================] - 1s 2ms/step - loss: 0.0035\n",
      "Epoch 10/150\n",
      "291/291 [==============================] - 1s 2ms/step - loss: 0.0031\n",
      "Epoch 11/150\n",
      "291/291 [==============================] - 1s 2ms/step - loss: 0.0027\n",
      "Epoch 12/150\n",
      "291/291 [==============================] - 1s 3ms/step - loss: 0.0025\n",
      "Epoch 13/150\n",
      "291/291 [==============================] - 1s 2ms/step - loss: 0.0024\n",
      "Epoch 14/150\n",
      "291/291 [==============================] - 1s 2ms/step - loss: 0.0022\n",
      "Epoch 15/150\n",
      "291/291 [==============================] - 1s 2ms/step - loss: 0.0021\n",
      "Epoch 16/150\n",
      "291/291 [==============================] - 1s 2ms/step - loss: 0.0021\n",
      "Epoch 17/150\n",
      "291/291 [==============================] - 1s 2ms/step - loss: 0.0020\n",
      "Epoch 18/150\n",
      "291/291 [==============================] - 1s 2ms/step - loss: 0.0020\n",
      "Epoch 19/150\n",
      "291/291 [==============================] - 1s 2ms/step - loss: 0.0019\n",
      "Epoch 20/150\n",
      "291/291 [==============================] - 1s 2ms/step - loss: 0.0019\n",
      "Epoch 21/150\n",
      "291/291 [==============================] - 1s 2ms/step - loss: 0.0018\n",
      "Epoch 22/150\n",
      "291/291 [==============================] - 1s 2ms/step - loss: 0.0018\n",
      "Epoch 23/150\n",
      "291/291 [==============================] - 1s 2ms/step - loss: 0.0017\n",
      "Epoch 24/150\n",
      "291/291 [==============================] - 1s 2ms/step - loss: 0.0018\n",
      "Epoch 25/150\n",
      "291/291 [==============================] - 1s 2ms/step - loss: 0.0016\n",
      "Epoch 26/150\n",
      "291/291 [==============================] - 1s 2ms/step - loss: 0.0017\n",
      "Epoch 27/150\n",
      "291/291 [==============================] - 1s 2ms/step - loss: 0.0016\n",
      "Epoch 28/150\n",
      "291/291 [==============================] - 1s 2ms/step - loss: 0.0015\n",
      "Epoch 29/150\n",
      "291/291 [==============================] - 1s 2ms/step - loss: 0.0015\n",
      "Epoch 30/150\n",
      "291/291 [==============================] - 1s 2ms/step - loss: 0.0014\n",
      "Epoch 31/150\n",
      "291/291 [==============================] - 1s 2ms/step - loss: 0.0015\n",
      "Epoch 32/150\n",
      "291/291 [==============================] - 1s 2ms/step - loss: 0.0015\n",
      "Epoch 33/150\n",
      "291/291 [==============================] - 1s 2ms/step - loss: 0.0014\n",
      "Epoch 34/150\n",
      "291/291 [==============================] - 1s 2ms/step - loss: 0.0013\n",
      "Epoch 35/150\n",
      "291/291 [==============================] - 1s 2ms/step - loss: 0.0013\n",
      "Epoch 36/150\n",
      "291/291 [==============================] - 1s 2ms/step - loss: 0.0013\n",
      "Epoch 37/150\n",
      "291/291 [==============================] - 1s 2ms/step - loss: 0.0013\n",
      "Epoch 38/150\n",
      "291/291 [==============================] - 1s 2ms/step - loss: 0.0012\n",
      "Epoch 39/150\n",
      "291/291 [==============================] - 1s 2ms/step - loss: 0.0011\n",
      "Epoch 40/150\n",
      "291/291 [==============================] - 1s 2ms/step - loss: 0.0011\n",
      "Epoch 41/150\n",
      "291/291 [==============================] - 1s 2ms/step - loss: 0.0011\n",
      "Epoch 42/150\n",
      "291/291 [==============================] - 1s 2ms/step - loss: 0.0010\n",
      "Epoch 43/150\n",
      "291/291 [==============================] - 1s 2ms/step - loss: 0.0011\n",
      "Epoch 44/150\n",
      "291/291 [==============================] - 1s 2ms/step - loss: 0.0010\n",
      "Epoch 45/150\n",
      "291/291 [==============================] - 1s 2ms/step - loss: 0.0011\n",
      "Epoch 46/150\n",
      "291/291 [==============================] - 1s 2ms/step - loss: 9.8383e-04\n",
      "Epoch 47/150\n",
      "291/291 [==============================] - 1s 2ms/step - loss: 9.2530e-04\n",
      "Epoch 48/150\n",
      "291/291 [==============================] - 1s 2ms/step - loss: 8.2340e-04\n",
      "Epoch 49/150\n",
      "291/291 [==============================] - 1s 2ms/step - loss: 8.2073e-04\n",
      "Epoch 50/150\n",
      "291/291 [==============================] - 1s 2ms/step - loss: 8.7023e-04\n",
      "Epoch 51/150\n",
      "291/291 [==============================] - 1s 2ms/step - loss: 7.6279e-04\n",
      "Epoch 52/150\n",
      "291/291 [==============================] - 1s 2ms/step - loss: 7.6176e-04\n",
      "Epoch 53/150\n",
      "291/291 [==============================] - 1s 2ms/step - loss: 8.1980e-04\n",
      "Epoch 54/150\n",
      "291/291 [==============================] - 1s 2ms/step - loss: 7.7154e-04\n",
      "Epoch 55/150\n",
      "291/291 [==============================] - 1s 2ms/step - loss: 8.0706e-04\n",
      "Epoch 56/150\n",
      "291/291 [==============================] - 1s 2ms/step - loss: 8.4748e-04\n",
      "Epoch 57/150\n",
      "291/291 [==============================] - 1s 2ms/step - loss: 6.6955e-04\n",
      "Epoch 58/150\n",
      "291/291 [==============================] - 1s 2ms/step - loss: 6.7004e-04\n",
      "Epoch 59/150\n",
      "291/291 [==============================] - 1s 2ms/step - loss: 6.5712e-04\n",
      "Epoch 60/150\n",
      "291/291 [==============================] - 1s 2ms/step - loss: 7.6610e-04\n",
      "Epoch 61/150\n",
      "291/291 [==============================] - 1s 2ms/step - loss: 6.7849e-04\n",
      "Epoch 62/150\n",
      "291/291 [==============================] - 1s 2ms/step - loss: 6.8713e-04\n",
      "Epoch 63/150\n",
      "291/291 [==============================] - 1s 3ms/step - loss: 5.7840e-04\n",
      "Epoch 64/150\n",
      "291/291 [==============================] - 1s 2ms/step - loss: 6.2036e-04\n",
      "Epoch 65/150\n",
      "291/291 [==============================] - 1s 2ms/step - loss: 5.3440e-04\n",
      "Epoch 66/150\n",
      "291/291 [==============================] - 1s 2ms/step - loss: 5.5467e-04\n",
      "Epoch 67/150\n",
      "291/291 [==============================] - 1s 2ms/step - loss: 5.4934e-04\n",
      "Epoch 68/150\n",
      "291/291 [==============================] - 1s 2ms/step - loss: 5.7790e-04\n",
      "Epoch 69/150\n",
      "291/291 [==============================] - 1s 3ms/step - loss: 6.9873e-04\n",
      "Epoch 70/150\n",
      "291/291 [==============================] - 1s 2ms/step - loss: 5.2733e-04\n",
      "Epoch 71/150\n",
      "291/291 [==============================] - 1s 2ms/step - loss: 5.9072e-04\n",
      "Epoch 72/150\n",
      "291/291 [==============================] - 1s 3ms/step - loss: 4.9688e-04\n",
      "Epoch 73/150\n",
      "291/291 [==============================] - 1s 3ms/step - loss: 5.4343e-04\n",
      "Epoch 74/150\n",
      "291/291 [==============================] - 1s 2ms/step - loss: 5.4842e-04\n",
      "Epoch 75/150\n",
      "291/291 [==============================] - 1s 2ms/step - loss: 5.1904e-04\n",
      "Epoch 76/150\n",
      "291/291 [==============================] - 1s 2ms/step - loss: 5.3640e-04\n",
      "Epoch 77/150\n",
      "291/291 [==============================] - 1s 2ms/step - loss: 4.5165e-04\n",
      "Epoch 78/150\n",
      "291/291 [==============================] - 1s 3ms/step - loss: 5.6958e-04\n",
      "Epoch 79/150\n",
      "291/291 [==============================] - 1s 3ms/step - loss: 5.3186e-04\n",
      "Epoch 80/150\n",
      "291/291 [==============================] - 1s 2ms/step - loss: 4.6295e-04\n",
      "Epoch 81/150\n",
      "291/291 [==============================] - 1s 2ms/step - loss: 5.4548e-04\n",
      "Epoch 82/150\n",
      "291/291 [==============================] - 1s 3ms/step - loss: 4.7752e-04\n",
      "Epoch 83/150\n",
      "291/291 [==============================] - 1s 2ms/step - loss: 5.1749e-04\n",
      "Epoch 84/150\n",
      "291/291 [==============================] - 1s 3ms/step - loss: 4.4931e-04\n",
      "Epoch 85/150\n",
      "291/291 [==============================] - 1s 3ms/step - loss: 5.0670e-04\n",
      "Epoch 86/150\n",
      "291/291 [==============================] - 1s 2ms/step - loss: 4.4549e-04\n",
      "Epoch 87/150\n",
      "291/291 [==============================] - 1s 2ms/step - loss: 4.1758e-04\n",
      "Epoch 88/150\n",
      "291/291 [==============================] - 1s 2ms/step - loss: 3.9463e-04\n",
      "Epoch 89/150\n",
      "291/291 [==============================] - 1s 2ms/step - loss: 4.6609e-04\n",
      "Epoch 90/150\n",
      "291/291 [==============================] - 1s 3ms/step - loss: 4.4149e-04\n",
      "Epoch 91/150\n",
      "291/291 [==============================] - 1s 3ms/step - loss: 5.4587e-04\n",
      "Epoch 92/150\n",
      "291/291 [==============================] - 1s 3ms/step - loss: 5.0448e-04\n",
      "Epoch 93/150\n",
      "291/291 [==============================] - 1s 2ms/step - loss: 3.7401e-04\n",
      "Epoch 94/150\n",
      "291/291 [==============================] - 1s 2ms/step - loss: 3.8696e-04\n",
      "Epoch 95/150\n",
      "291/291 [==============================] - 1s 2ms/step - loss: 3.8924e-04\n",
      "Epoch 96/150\n",
      "291/291 [==============================] - 1s 2ms/step - loss: 3.9879e-04\n",
      "Epoch 97/150\n",
      "291/291 [==============================] - 1s 2ms/step - loss: 4.4838e-04\n",
      "Epoch 98/150\n",
      "291/291 [==============================] - 1s 2ms/step - loss: 4.0572e-04\n",
      "Epoch 99/150\n",
      "291/291 [==============================] - 1s 2ms/step - loss: 3.7212e-04\n",
      "Epoch 100/150\n",
      "291/291 [==============================] - 1s 2ms/step - loss: 3.8709e-04\n",
      "Epoch 101/150\n",
      "291/291 [==============================] - 1s 2ms/step - loss: 4.7524e-04\n",
      "Epoch 102/150\n",
      "291/291 [==============================] - 1s 2ms/step - loss: 4.1473e-04\n",
      "Epoch 103/150\n",
      "291/291 [==============================] - 1s 3ms/step - loss: 3.9850e-04\n",
      "Epoch 104/150\n",
      "291/291 [==============================] - 1s 2ms/step - loss: 4.0446e-04\n",
      "Epoch 105/150\n",
      "291/291 [==============================] - 1s 2ms/step - loss: 4.1275e-04\n",
      "Epoch 106/150\n",
      "291/291 [==============================] - 1s 2ms/step - loss: 4.0649e-04\n",
      "Epoch 107/150\n",
      "291/291 [==============================] - 1s 2ms/step - loss: 3.8990e-04\n",
      "Epoch 108/150\n",
      "291/291 [==============================] - 1s 2ms/step - loss: 4.1860e-04\n",
      "Epoch 109/150\n",
      "291/291 [==============================] - 1s 2ms/step - loss: 3.7565e-04\n",
      "Epoch 110/150\n",
      "291/291 [==============================] - 1s 2ms/step - loss: 3.3239e-04\n",
      "Epoch 111/150\n",
      "291/291 [==============================] - 1s 2ms/step - loss: 5.6217e-04\n",
      "Epoch 112/150\n",
      "291/291 [==============================] - 1s 2ms/step - loss: 4.0194e-04\n",
      "Epoch 113/150\n",
      "291/291 [==============================] - 1s 2ms/step - loss: 3.6045e-04\n",
      "Epoch 114/150\n",
      "291/291 [==============================] - 1s 2ms/step - loss: 3.7575e-04\n",
      "Epoch 115/150\n",
      "291/291 [==============================] - 1s 2ms/step - loss: 3.2490e-04\n",
      "Epoch 116/150\n",
      "291/291 [==============================] - 1s 2ms/step - loss: 3.1694e-04\n",
      "Epoch 117/150\n",
      "291/291 [==============================] - 1s 2ms/step - loss: 3.3809e-04\n",
      "Epoch 118/150\n",
      "291/291 [==============================] - 1s 2ms/step - loss: 3.6294e-04\n",
      "Epoch 119/150\n",
      "291/291 [==============================] - 1s 2ms/step - loss: 3.8043e-04\n",
      "Epoch 120/150\n",
      "291/291 [==============================] - 1s 2ms/step - loss: 3.8192e-04\n",
      "Epoch 121/150\n",
      "291/291 [==============================] - 1s 2ms/step - loss: 3.8602e-04\n",
      "Epoch 122/150\n",
      "291/291 [==============================] - 1s 2ms/step - loss: 2.9689e-04\n",
      "Epoch 123/150\n",
      "291/291 [==============================] - 1s 2ms/step - loss: 3.0856e-04\n",
      "Epoch 124/150\n",
      "291/291 [==============================] - 1s 2ms/step - loss: 2.9563e-04\n",
      "Epoch 125/150\n",
      "291/291 [==============================] - 1s 2ms/step - loss: 3.9690e-04\n",
      "Epoch 126/150\n",
      "291/291 [==============================] - 1s 2ms/step - loss: 3.3684e-04\n",
      "Epoch 127/150\n",
      "291/291 [==============================] - 1s 3ms/step - loss: 2.9191e-04\n",
      "Epoch 128/150\n",
      "291/291 [==============================] - 1s 2ms/step - loss: 3.3580e-04\n",
      "Epoch 129/150\n",
      "291/291 [==============================] - 1s 2ms/step - loss: 2.9437e-04\n",
      "Epoch 130/150\n",
      "291/291 [==============================] - 1s 2ms/step - loss: 2.9698e-04\n",
      "Epoch 131/150\n",
      "291/291 [==============================] - 1s 2ms/step - loss: 3.0946e-04\n",
      "Epoch 132/150\n",
      "291/291 [==============================] - 1s 2ms/step - loss: 3.2751e-04\n",
      "Epoch 133/150\n",
      "291/291 [==============================] - 1s 3ms/step - loss: 3.6798e-04\n",
      "Epoch 134/150\n",
      "291/291 [==============================] - 1s 2ms/step - loss: 2.8005e-04\n",
      "Epoch 135/150\n",
      "291/291 [==============================] - 1s 2ms/step - loss: 2.8945e-04\n",
      "Epoch 136/150\n",
      "291/291 [==============================] - 1s 2ms/step - loss: 3.0039e-04\n",
      "Epoch 137/150\n",
      "291/291 [==============================] - 1s 2ms/step - loss: 3.6937e-04\n",
      "Epoch 138/150\n",
      "291/291 [==============================] - 1s 2ms/step - loss: 3.5825e-04\n",
      "Epoch 139/150\n",
      "291/291 [==============================] - 1s 2ms/step - loss: 3.0224e-04\n",
      "Epoch 140/150\n",
      "291/291 [==============================] - 1s 2ms/step - loss: 2.9372e-04\n",
      "Epoch 141/150\n",
      "291/291 [==============================] - 1s 2ms/step - loss: 2.8401e-04\n",
      "Epoch 142/150\n",
      "291/291 [==============================] - 1s 2ms/step - loss: 3.2946e-04\n",
      "Epoch 143/150\n",
      "291/291 [==============================] - 1s 2ms/step - loss: 2.9813e-04\n",
      "Epoch 144/150\n",
      "291/291 [==============================] - 1s 2ms/step - loss: 2.5769e-04\n",
      "Epoch 145/150\n",
      "291/291 [==============================] - 1s 3ms/step - loss: 2.6214e-04\n",
      "Epoch 146/150\n",
      "291/291 [==============================] - 1s 2ms/step - loss: 2.5847e-04\n",
      "Epoch 147/150\n",
      "291/291 [==============================] - 1s 2ms/step - loss: 3.2598e-04\n",
      "Epoch 148/150\n",
      "291/291 [==============================] - 1s 2ms/step - loss: 2.6738e-04\n",
      "Epoch 149/150\n",
      "291/291 [==============================] - 1s 2ms/step - loss: 3.9300e-04\n",
      "Epoch 150/150\n",
      "291/291 [==============================] - 1s 2ms/step - loss: 2.8707e-04\n"
     ]
    },
    {
     "data": {
      "text/plain": [
       "<keras.callbacks.History at 0x26bab99ccd0>"
      ]
     },
     "execution_count": 228,
     "metadata": {},
     "output_type": "execute_result"
    }
   ],
   "source": [
    "model.fit(tx,ty,epochs=150, batch_size=32)"
   ]
  },
  {
   "cell_type": "code",
   "execution_count": 229,
   "id": "d34e17b9-3a43-4c51-9efb-e207dcb13aeb",
   "metadata": {},
   "outputs": [
    {
     "name": "stdout",
     "output_type": "stream",
     "text": [
      "73/73 [==============================] - 0s 1ms/step\n"
     ]
    }
   ],
   "source": [
    "yp=model.predict(vx)"
   ]
  },
  {
   "cell_type": "code",
   "execution_count": 230,
   "id": "f7cf4b21-9ba2-4aa7-812e-2f3a26e1e2ca",
   "metadata": {},
   "outputs": [],
   "source": [
    "MAE=mean_absolute_error(vy,yp)"
   ]
  },
  {
   "cell_type": "code",
   "execution_count": 231,
   "id": "b6515cd8-1a90-4a66-ad67-60ad5d232056",
   "metadata": {},
   "outputs": [
    {
     "data": {
      "text/plain": [
       "0.00936126780098253"
      ]
     },
     "execution_count": 231,
     "metadata": {},
     "output_type": "execute_result"
    }
   ],
   "source": [
    "MAE"
   ]
  },
  {
   "cell_type": "code",
   "execution_count": 232,
   "id": "b027a883-14f8-46e2-a1dd-1406a0b0964d",
   "metadata": {},
   "outputs": [],
   "source": [
    "MSE=mean_squared_error(vy,yp)"
   ]
  },
  {
   "cell_type": "code",
   "execution_count": 233,
   "id": "3b7e0db0-3968-49af-ab2f-bd30e45ff48a",
   "metadata": {},
   "outputs": [
    {
     "data": {
      "text/plain": [
       "0.00035519316500719114"
      ]
     },
     "execution_count": 233,
     "metadata": {},
     "output_type": "execute_result"
    }
   ],
   "source": [
    "MSE"
   ]
  },
  {
   "cell_type": "code",
   "execution_count": 234,
   "id": "6c6655f0-ada8-4124-944a-5ae509cd9605",
   "metadata": {},
   "outputs": [],
   "source": [
    "R2=r2_score(vy,yp)"
   ]
  },
  {
   "cell_type": "code",
   "execution_count": 235,
   "id": "b9d7200f-5959-4eee-8b67-531b61f61c37",
   "metadata": {},
   "outputs": [
    {
     "data": {
      "text/plain": [
       "0.9899107984535855"
      ]
     },
     "execution_count": 235,
     "metadata": {},
     "output_type": "execute_result"
    }
   ],
   "source": [
    "R2"
   ]
  },
  {
   "cell_type": "code",
   "execution_count": 236,
   "id": "9bf87c84-cc63-40b1-9e6f-ca45c82778be",
   "metadata": {},
   "outputs": [],
   "source": [
    "ape = np.abs((vy - yp.ravel()) / vy)\n",
    "MAPE = np.mean(ape) * 100"
   ]
  },
  {
   "cell_type": "code",
   "execution_count": 237,
   "id": "13723808-2313-4d98-9248-9a82cf3c8879",
   "metadata": {},
   "outputs": [
    {
     "data": {
      "text/plain": [
       "46.535967995422475"
      ]
     },
     "execution_count": 237,
     "metadata": {},
     "output_type": "execute_result"
    }
   ],
   "source": [
    "MAPE"
   ]
  },
  {
   "cell_type": "code",
   "execution_count": 238,
   "id": "1b4ad9af-62be-42b7-be97-de0cec0547f2",
   "metadata": {},
   "outputs": [],
   "source": [
    "errors = np.abs(vy - yp.ravel())\n",
    "mean_true = np.mean(vy)\n",
    "RAE = np.mean(errors) / mean_true"
   ]
  },
  {
   "cell_type": "code",
   "execution_count": 239,
   "id": "c1097492-2508-4444-90a9-c429ec0a9ea8",
   "metadata": {},
   "outputs": [
    {
     "data": {
      "text/plain": [
       "0.06114858968493954"
      ]
     },
     "execution_count": 239,
     "metadata": {},
     "output_type": "execute_result"
    }
   ],
   "source": [
    "RAE"
   ]
  },
  {
   "cell_type": "code",
   "execution_count": null,
   "id": "79a38473-1d94-4f48-be9b-2c4abd61e789",
   "metadata": {},
   "outputs": [],
   "source": []
  },
  {
   "cell_type": "code",
   "execution_count": 277,
   "id": "3118d6af-7031-4833-b55e-4178254acf6e",
   "metadata": {},
   "outputs": [
    {
     "name": "stdout",
     "output_type": "stream",
     "text": [
      "X_train (9300, 7) y_train (9300,)\n",
      "WARNING:tensorflow:The following Variables were used in a Lambda layer's call (tf.__operators__.add_2), but are not present in its tracked objects:   <tf.Variable 'attention_2/attention_2_b:0' shape=(7,) dtype=float32>. This is a strong indication that the Lambda layer should be rewritten as a subclassed Layer.\n",
      "Model: \"model_1\"\n",
      "__________________________________________________________________________________________________\n",
      " Layer (type)                   Output Shape         Param #     Connected to                     \n",
      "==================================================================================================\n",
      " input_4 (InputLayer)           [(None, 7, 1)]       0           []                               \n",
      "                                                                                                  \n",
      " gru_5 (GRU)                    (None, 7, 256)       198912      ['input_4[0][0]']                \n",
      "                                                                                                  \n",
      " dropout_4 (Dropout)            (None, 7, 256)       0           ['gru_5[0][0]']                  \n",
      "                                                                                                  \n",
      " batch_normalization_3 (BatchNo  (None, 7, 256)      1024        ['dropout_4[0][0]']              \n",
      " rmalization)                                                                                     \n",
      "                                                                                                  \n",
      " tf.reshape_2 (TFOpLambda)      (None, 256)          0           ['batch_normalization_3[0][0]']  \n",
      "                                                                                                  \n",
      " tf.linalg.matmul_1 (TFOpLambda  (None, 1)           0           ['tf.reshape_2[0][0]']           \n",
      " )                                                                                                \n",
      "                                                                                                  \n",
      " tf.reshape_3 (TFOpLambda)      (None, 7)            0           ['tf.linalg.matmul_1[0][0]']     \n",
      "                                                                                                  \n",
      " tf.__operators__.add_2 (TFOpLa  (None, 7)           0           ['tf.reshape_3[0][0]']           \n",
      " mbda)                                                                                            \n",
      "                                                                                                  \n",
      " tf.math.tanh_1 (TFOpLambda)    (None, 7)            0           ['tf.__operators__.add_2[0][0]'] \n",
      "                                                                                                  \n",
      " tf.math.exp_1 (TFOpLambda)     (None, 7)            0           ['tf.math.tanh_1[0][0]']         \n",
      "                                                                                                  \n",
      " tf.math.reduce_sum_2 (TFOpLamb  (None, 1)           0           ['tf.math.exp_1[0][0]']          \n",
      " da)                                                                                              \n",
      "                                                                                                  \n",
      " tf.__operators__.add_3 (TFOpLa  (None, 1)           0           ['tf.math.reduce_sum_2[0][0]']   \n",
      " mbda)                                                                                            \n",
      "                                                                                                  \n",
      " tf.cast_1 (TFOpLambda)         (None, 1)            0           ['tf.__operators__.add_3[0][0]'] \n",
      "                                                                                                  \n",
      " tf.math.truediv_1 (TFOpLambda)  (None, 7)           0           ['tf.math.exp_1[0][0]',          \n",
      "                                                                  'tf.cast_1[0][0]']              \n",
      "                                                                                                  \n",
      " tf.expand_dims_1 (TFOpLambda)  (None, 7, 1)         0           ['tf.math.truediv_1[0][0]']      \n",
      "                                                                                                  \n",
      " tf.math.multiply_1 (TFOpLambda  (None, 7, 256)      0           ['batch_normalization_3[0][0]',  \n",
      " )                                                                'tf.expand_dims_1[0][0]']       \n",
      "                                                                                                  \n",
      " tf.math.reduce_sum_3 (TFOpLamb  (None, 256)         0           ['tf.math.multiply_1[0][0]']     \n",
      " da)                                                                                              \n",
      "                                                                                                  \n",
      " dense_13 (Dense)               (None, 32)           8224        ['tf.math.reduce_sum_3[0][0]']   \n",
      "                                                                                                  \n",
      " dropout_5 (Dropout)            (None, 32)           0           ['dense_13[0][0]']               \n",
      "                                                                                                  \n",
      " dense_14 (Dense)               (None, 1)            33          ['dropout_5[0][0]']              \n",
      "                                                                                                  \n",
      "==================================================================================================\n",
      "Total params: 208,193\n",
      "Trainable params: 207,681\n",
      "Non-trainable params: 512\n",
      "__________________________________________________________________________________________________\n",
      "You must install pydot (`pip install pydot`) and install graphviz (see instructions at https://graphviz.gitlab.io/download/) for plot_model to work.\n",
      "Epoch 1/150\n",
      "291/291 [==============================] - 8s 19ms/step - loss: 0.0598 - val_loss: 0.0586\n",
      "Epoch 2/150\n",
      "291/291 [==============================] - 5s 17ms/step - loss: 0.0576 - val_loss: 0.0586\n",
      "Epoch 3/150\n",
      "291/291 [==============================] - 6s 19ms/step - loss: 0.0574 - val_loss: 0.0586\n",
      "Epoch 4/150\n",
      "291/291 [==============================] - 5s 18ms/step - loss: 0.0568 - val_loss: 0.0579\n",
      "Epoch 5/150\n",
      "291/291 [==============================] - 5s 18ms/step - loss: 0.0493 - val_loss: 0.0410\n",
      "Epoch 6/150\n",
      "291/291 [==============================] - 6s 19ms/step - loss: 0.0377 - val_loss: 0.0214\n",
      "Epoch 7/150\n",
      "291/291 [==============================] - 5s 18ms/step - loss: 0.0219 - val_loss: 0.0182\n",
      "Epoch 8/150\n",
      "291/291 [==============================] - 5s 17ms/step - loss: 0.0141 - val_loss: 0.0079\n",
      "Epoch 9/150\n",
      "291/291 [==============================] - 6s 20ms/step - loss: 0.0109 - val_loss: 0.0067\n",
      "Epoch 10/150\n",
      "291/291 [==============================] - 6s 19ms/step - loss: 0.0092 - val_loss: 0.0059\n",
      "Epoch 11/150\n",
      "291/291 [==============================] - 5s 18ms/step - loss: 0.0084 - val_loss: 0.0049\n",
      "Epoch 12/150\n",
      "291/291 [==============================] - 5s 17ms/step - loss: 0.0079 - val_loss: 0.0046\n",
      "Epoch 13/150\n",
      "291/291 [==============================] - 5s 17ms/step - loss: 0.0077 - val_loss: 0.0042\n",
      "Epoch 14/150\n",
      "291/291 [==============================] - 5s 18ms/step - loss: 0.0068 - val_loss: 0.0041\n",
      "Epoch 15/150\n",
      "291/291 [==============================] - 5s 17ms/step - loss: 0.0065 - val_loss: 0.0037\n",
      "Epoch 16/150\n",
      "291/291 [==============================] - 5s 18ms/step - loss: 0.0061 - val_loss: 0.0043\n",
      "Epoch 17/150\n",
      "291/291 [==============================] - 5s 17ms/step - loss: 0.0062 - val_loss: 0.0041\n",
      "Epoch 18/150\n",
      "291/291 [==============================] - 5s 18ms/step - loss: 0.0058 - val_loss: 0.0040\n",
      "Epoch 19/150\n",
      "291/291 [==============================] - 5s 17ms/step - loss: 0.0059 - val_loss: 0.0048\n",
      "Epoch 20/150\n",
      "291/291 [==============================] - 5s 17ms/step - loss: 0.0055 - val_loss: 0.0037\n",
      "Epoch 21/150\n",
      "291/291 [==============================] - 5s 18ms/step - loss: 0.0054 - val_loss: 0.0036\n",
      "Epoch 22/150\n",
      "291/291 [==============================] - 5s 17ms/step - loss: 0.0054 - val_loss: 0.0033\n",
      "Epoch 23/150\n",
      "291/291 [==============================] - 5s 17ms/step - loss: 0.0052 - val_loss: 0.0027\n",
      "Epoch 24/150\n",
      "291/291 [==============================] - 5s 18ms/step - loss: 0.0050 - val_loss: 0.0030\n",
      "Epoch 25/150\n",
      "291/291 [==============================] - 6s 20ms/step - loss: 0.0046 - val_loss: 0.0034\n",
      "Epoch 26/150\n",
      "291/291 [==============================] - 6s 20ms/step - loss: 0.0046 - val_loss: 0.0025\n",
      "Epoch 27/150\n",
      "291/291 [==============================] - 6s 21ms/step - loss: 0.0046 - val_loss: 0.0023\n",
      "Epoch 28/150\n",
      "291/291 [==============================] - 5s 19ms/step - loss: 0.0042 - val_loss: 0.0030\n",
      "Epoch 29/150\n",
      "291/291 [==============================] - 7s 22ms/step - loss: 0.0042 - val_loss: 0.0032\n",
      "Epoch 30/150\n",
      "291/291 [==============================] - 6s 21ms/step - loss: 0.0042 - val_loss: 0.0028\n",
      "Epoch 31/150\n",
      "291/291 [==============================] - 6s 21ms/step - loss: 0.0045 - val_loss: 0.0024\n",
      "Epoch 32/150\n",
      "291/291 [==============================] - 5s 19ms/step - loss: 0.0042 - val_loss: 0.0024\n",
      "Epoch 33/150\n",
      "291/291 [==============================] - 6s 21ms/step - loss: 0.0041 - val_loss: 0.0024\n",
      "Epoch 34/150\n",
      "291/291 [==============================] - 6s 20ms/step - loss: 0.0041 - val_loss: 0.0022\n",
      "Epoch 35/150\n",
      "291/291 [==============================] - 6s 20ms/step - loss: 0.0039 - val_loss: 0.0020\n",
      "Epoch 36/150\n",
      "291/291 [==============================] - 6s 19ms/step - loss: 0.0039 - val_loss: 0.0020\n",
      "Epoch 37/150\n",
      "291/291 [==============================] - 6s 19ms/step - loss: 0.0035 - val_loss: 0.0019\n",
      "Epoch 38/150\n",
      "291/291 [==============================] - 6s 20ms/step - loss: 0.0037 - val_loss: 0.0017\n",
      "Epoch 39/150\n",
      "291/291 [==============================] - 6s 20ms/step - loss: 0.0039 - val_loss: 0.0019\n",
      "Epoch 40/150\n",
      "291/291 [==============================] - 6s 20ms/step - loss: 0.0036 - val_loss: 0.0024\n",
      "Epoch 41/150\n",
      "291/291 [==============================] - 6s 21ms/step - loss: 0.0034 - val_loss: 0.0021\n",
      "Epoch 42/150\n",
      "291/291 [==============================] - 6s 21ms/step - loss: 0.0035 - val_loss: 0.0020\n",
      "Epoch 43/150\n",
      "291/291 [==============================] - 6s 21ms/step - loss: 0.0036 - val_loss: 0.0017\n",
      "Epoch 44/150\n",
      "291/291 [==============================] - 6s 20ms/step - loss: 0.0033 - val_loss: 0.0020\n",
      "Epoch 45/150\n",
      "291/291 [==============================] - 6s 19ms/step - loss: 0.0033 - val_loss: 0.0015\n",
      "Epoch 46/150\n",
      "291/291 [==============================] - 6s 19ms/step - loss: 0.0032 - val_loss: 0.0018\n",
      "Epoch 47/150\n",
      "291/291 [==============================] - 6s 19ms/step - loss: 0.0034 - val_loss: 0.0017\n",
      "Epoch 48/150\n",
      "291/291 [==============================] - 6s 20ms/step - loss: 0.0032 - val_loss: 0.0016\n",
      "Epoch 49/150\n",
      "291/291 [==============================] - 6s 20ms/step - loss: 0.0033 - val_loss: 0.0025\n",
      "Epoch 50/150\n",
      "291/291 [==============================] - 6s 20ms/step - loss: 0.0032 - val_loss: 0.0014\n",
      "Epoch 51/150\n",
      "291/291 [==============================] - 6s 19ms/step - loss: 0.0031 - val_loss: 0.0021\n",
      "Epoch 52/150\n",
      "291/291 [==============================] - 6s 20ms/step - loss: 0.0031 - val_loss: 0.0021\n",
      "Epoch 53/150\n",
      "291/291 [==============================] - 6s 20ms/step - loss: 0.0031 - val_loss: 0.0015\n",
      "Epoch 54/150\n",
      "291/291 [==============================] - 6s 21ms/step - loss: 0.0031 - val_loss: 0.0013\n",
      "Epoch 55/150\n",
      "291/291 [==============================] - 6s 20ms/step - loss: 0.0029 - val_loss: 0.0016\n",
      "Epoch 56/150\n",
      "291/291 [==============================] - 5s 19ms/step - loss: 0.0031 - val_loss: 0.0017\n",
      "Epoch 57/150\n",
      "291/291 [==============================] - 6s 20ms/step - loss: 0.0030 - val_loss: 0.0016\n",
      "Epoch 58/150\n",
      "291/291 [==============================] - 6s 21ms/step - loss: 0.0030 - val_loss: 0.0012\n",
      "Epoch 59/150\n",
      "291/291 [==============================] - 6s 21ms/step - loss: 0.0030 - val_loss: 0.0017\n",
      "Epoch 60/150\n",
      "291/291 [==============================] - 6s 21ms/step - loss: 0.0026 - val_loss: 0.0017\n",
      "Epoch 61/150\n",
      "291/291 [==============================] - 6s 20ms/step - loss: 0.0028 - val_loss: 0.0023\n",
      "Epoch 62/150\n",
      "291/291 [==============================] - 6s 20ms/step - loss: 0.0027 - val_loss: 0.0012\n",
      "Epoch 63/150\n",
      "291/291 [==============================] - 6s 20ms/step - loss: 0.0025 - val_loss: 0.0012\n",
      "Epoch 64/150\n",
      "291/291 [==============================] - 5s 19ms/step - loss: 0.0027 - val_loss: 0.0015\n",
      "Epoch 65/150\n",
      "291/291 [==============================] - 5s 17ms/step - loss: 0.0027 - val_loss: 0.0015\n",
      "Epoch 66/150\n",
      "291/291 [==============================] - 5s 17ms/step - loss: 0.0026 - val_loss: 0.0014\n",
      "Epoch 67/150\n",
      "291/291 [==============================] - 5s 17ms/step - loss: 0.0024 - val_loss: 0.0015\n",
      "Epoch 68/150\n",
      "291/291 [==============================] - 5s 17ms/step - loss: 0.0029 - val_loss: 0.0012\n",
      "Epoch 69/150\n",
      "291/291 [==============================] - 5s 17ms/step - loss: 0.0027 - val_loss: 0.0012\n",
      "Epoch 70/150\n",
      "291/291 [==============================] - 6s 19ms/step - loss: 0.0027 - val_loss: 0.0011\n",
      "Epoch 71/150\n",
      "291/291 [==============================] - 6s 19ms/step - loss: 0.0026 - val_loss: 0.0013\n",
      "Epoch 72/150\n",
      "291/291 [==============================] - 6s 21ms/step - loss: 0.0026 - val_loss: 0.0013\n",
      "Epoch 73/150\n",
      "291/291 [==============================] - 6s 20ms/step - loss: 0.0025 - val_loss: 0.0012\n",
      "Epoch 74/150\n",
      "291/291 [==============================] - 6s 20ms/step - loss: 0.0025 - val_loss: 0.0013\n",
      "Epoch 75/150\n",
      "291/291 [==============================] - 6s 19ms/step - loss: 0.0026 - val_loss: 0.0010\n",
      "Epoch 76/150\n",
      "291/291 [==============================] - 6s 20ms/step - loss: 0.0023 - val_loss: 0.0011\n",
      "Epoch 77/150\n",
      "291/291 [==============================] - 6s 20ms/step - loss: 0.0024 - val_loss: 0.0011\n",
      "Epoch 78/150\n",
      "291/291 [==============================] - 6s 20ms/step - loss: 0.0023 - val_loss: 0.0014\n",
      "Epoch 79/150\n",
      "291/291 [==============================] - 6s 20ms/step - loss: 0.0022 - val_loss: 0.0013\n",
      "Epoch 80/150\n",
      "291/291 [==============================] - 6s 21ms/step - loss: 0.0023 - val_loss: 0.0010\n",
      "Epoch 81/150\n",
      "291/291 [==============================] - 6s 20ms/step - loss: 0.0023 - val_loss: 0.0011\n",
      "Epoch 82/150\n",
      "291/291 [==============================] - 6s 20ms/step - loss: 0.0026 - val_loss: 0.0014\n",
      "Epoch 83/150\n",
      "291/291 [==============================] - 6s 21ms/step - loss: 0.0023 - val_loss: 0.0013\n",
      "Epoch 84/150\n",
      "291/291 [==============================] - 6s 22ms/step - loss: 0.0024 - val_loss: 0.0012\n",
      "Epoch 85/150\n",
      "291/291 [==============================] - 6s 21ms/step - loss: 0.0023 - val_loss: 9.0283e-04\n",
      "Epoch 86/150\n",
      "291/291 [==============================] - 6s 20ms/step - loss: 0.0021 - val_loss: 0.0010\n",
      "Epoch 87/150\n",
      "291/291 [==============================] - 6s 20ms/step - loss: 0.0021 - val_loss: 8.6123e-04\n",
      "Epoch 88/150\n",
      "291/291 [==============================] - 6s 20ms/step - loss: 0.0023 - val_loss: 0.0011\n",
      "Epoch 89/150\n",
      "291/291 [==============================] - 6s 20ms/step - loss: 0.0022 - val_loss: 0.0013\n",
      "Epoch 90/150\n",
      "291/291 [==============================] - 6s 21ms/step - loss: 0.0022 - val_loss: 0.0010\n",
      "Epoch 91/150\n",
      "291/291 [==============================] - 6s 21ms/step - loss: 0.0023 - val_loss: 0.0010\n",
      "Epoch 92/150\n",
      "291/291 [==============================] - 6s 21ms/step - loss: 0.0023 - val_loss: 8.1478e-04\n",
      "Epoch 93/150\n",
      "291/291 [==============================] - 6s 21ms/step - loss: 0.0022 - val_loss: 8.3498e-04\n",
      "Epoch 94/150\n",
      "291/291 [==============================] - 6s 21ms/step - loss: 0.0024 - val_loss: 8.7393e-04\n",
      "Epoch 95/150\n",
      "291/291 [==============================] - 6s 22ms/step - loss: 0.0022 - val_loss: 7.9810e-04\n",
      "Epoch 96/150\n",
      "291/291 [==============================] - 6s 22ms/step - loss: 0.0022 - val_loss: 0.0022\n",
      "Epoch 97/150\n",
      "291/291 [==============================] - 6s 22ms/step - loss: 0.0024 - val_loss: 0.0015\n",
      "Epoch 98/150\n",
      "291/291 [==============================] - 7s 22ms/step - loss: 0.0023 - val_loss: 0.0010\n",
      "Epoch 99/150\n",
      "291/291 [==============================] - 6s 20ms/step - loss: 0.0023 - val_loss: 7.8614e-04\n",
      "Epoch 100/150\n",
      "291/291 [==============================] - 6s 20ms/step - loss: 0.0023 - val_loss: 0.0019\n",
      "Epoch 101/150\n",
      "291/291 [==============================] - 6s 21ms/step - loss: 0.0025 - val_loss: 8.7790e-04\n",
      "Epoch 102/150\n",
      "291/291 [==============================] - 6s 21ms/step - loss: 0.0025 - val_loss: 9.4796e-04\n",
      "Epoch 103/150\n",
      "291/291 [==============================] - 6s 21ms/step - loss: 0.0025 - val_loss: 7.2120e-04\n",
      "Epoch 104/150\n",
      "291/291 [==============================] - 6s 21ms/step - loss: 0.0023 - val_loss: 0.0013\n",
      "Epoch 105/150\n",
      "291/291 [==============================] - 6s 21ms/step - loss: 0.0023 - val_loss: 7.1835e-04\n",
      "Epoch 106/150\n",
      "291/291 [==============================] - 6s 21ms/step - loss: 0.0022 - val_loss: 9.6678e-04\n",
      "Epoch 107/150\n",
      "291/291 [==============================] - 6s 21ms/step - loss: 0.0024 - val_loss: 8.5912e-04\n",
      "Epoch 108/150\n",
      "291/291 [==============================] - 6s 22ms/step - loss: 0.0024 - val_loss: 8.3887e-04\n",
      "Epoch 109/150\n",
      "291/291 [==============================] - 6s 22ms/step - loss: 0.0022 - val_loss: 9.7461e-04\n",
      "Epoch 110/150\n",
      "291/291 [==============================] - 6s 21ms/step - loss: 0.0021 - val_loss: 8.5818e-04\n",
      "Epoch 111/150\n",
      "291/291 [==============================] - 6s 22ms/step - loss: 0.0019 - val_loss: 6.9312e-04\n",
      "Epoch 112/150\n",
      "291/291 [==============================] - 6s 22ms/step - loss: 0.0019 - val_loss: 9.1764e-04\n",
      "Epoch 113/150\n",
      "291/291 [==============================] - 6s 22ms/step - loss: 0.0018 - val_loss: 6.9332e-04\n",
      "Epoch 114/150\n",
      "291/291 [==============================] - 6s 22ms/step - loss: 0.0019 - val_loss: 0.0012\n",
      "Epoch 115/150\n",
      "291/291 [==============================] - 6s 22ms/step - loss: 0.0019 - val_loss: 6.0775e-04\n",
      "Epoch 116/150\n",
      "291/291 [==============================] - 6s 20ms/step - loss: 0.0020 - val_loss: 7.2133e-04\n",
      "Epoch 117/150\n",
      "291/291 [==============================] - 6s 20ms/step - loss: 0.0019 - val_loss: 7.9528e-04\n",
      "Epoch 118/150\n",
      "291/291 [==============================] - 6s 20ms/step - loss: 0.0018 - val_loss: 9.0777e-04\n",
      "Epoch 119/150\n",
      "291/291 [==============================] - 6s 22ms/step - loss: 0.0022 - val_loss: 5.8159e-04\n",
      "Epoch 120/150\n",
      "291/291 [==============================] - 6s 21ms/step - loss: 0.0017 - val_loss: 9.5918e-04\n",
      "Epoch 121/150\n",
      "291/291 [==============================] - 6s 21ms/step - loss: 0.0018 - val_loss: 7.3665e-04\n",
      "Epoch 122/150\n",
      "291/291 [==============================] - 6s 21ms/step - loss: 0.0018 - val_loss: 7.5010e-04\n",
      "Epoch 123/150\n",
      "291/291 [==============================] - 6s 20ms/step - loss: 0.0018 - val_loss: 6.9858e-04\n",
      "Epoch 124/150\n",
      "291/291 [==============================] - 6s 22ms/step - loss: 0.0021 - val_loss: 6.7199e-04\n",
      "Epoch 125/150\n",
      "291/291 [==============================] - 7s 23ms/step - loss: 0.0018 - val_loss: 7.6838e-04\n",
      "Epoch 126/150\n",
      "291/291 [==============================] - 6s 21ms/step - loss: 0.0018 - val_loss: 5.1219e-04\n",
      "Epoch 127/150\n",
      "291/291 [==============================] - 6s 21ms/step - loss: 0.0018 - val_loss: 5.8077e-04\n",
      "Epoch 128/150\n",
      "291/291 [==============================] - 6s 22ms/step - loss: 0.0018 - val_loss: 8.0889e-04\n",
      "Epoch 129/150\n",
      "291/291 [==============================] - 7s 22ms/step - loss: 0.0017 - val_loss: 5.9668e-04\n",
      "Epoch 130/150\n",
      "291/291 [==============================] - 6s 22ms/step - loss: 0.0020 - val_loss: 0.0011\n",
      "Epoch 131/150\n",
      "291/291 [==============================] - 7s 23ms/step - loss: 0.0021 - val_loss: 0.0016\n",
      "Epoch 132/150\n",
      "291/291 [==============================] - 7s 23ms/step - loss: 0.0019 - val_loss: 5.8510e-04\n",
      "Epoch 133/150\n",
      "291/291 [==============================] - 6s 22ms/step - loss: 0.0017 - val_loss: 7.9365e-04\n",
      "Epoch 134/150\n",
      "291/291 [==============================] - 6s 22ms/step - loss: 0.0018 - val_loss: 0.0015\n",
      "Epoch 135/150\n",
      "291/291 [==============================] - 7s 22ms/step - loss: 0.0019 - val_loss: 5.9926e-04\n",
      "Epoch 136/150\n",
      "291/291 [==============================] - 6s 20ms/step - loss: 0.0018 - val_loss: 6.5683e-04\n",
      "Epoch 137/150\n",
      "291/291 [==============================] - 6s 20ms/step - loss: 0.0018 - val_loss: 6.0993e-04\n",
      "Epoch 138/150\n",
      "291/291 [==============================] - 6s 21ms/step - loss: 0.0017 - val_loss: 8.0676e-04\n",
      "Epoch 139/150\n",
      "291/291 [==============================] - 6s 21ms/step - loss: 0.0017 - val_loss: 7.6499e-04\n",
      "Epoch 140/150\n",
      "291/291 [==============================] - 6s 21ms/step - loss: 0.0017 - val_loss: 0.0013\n",
      "Epoch 141/150\n",
      "291/291 [==============================] - 6s 20ms/step - loss: 0.0017 - val_loss: 7.3749e-04\n",
      "Epoch 142/150\n",
      "291/291 [==============================] - 6s 20ms/step - loss: 0.0017 - val_loss: 0.0017\n",
      "Epoch 143/150\n",
      "291/291 [==============================] - 6s 19ms/step - loss: 0.0018 - val_loss: 6.0799e-04\n",
      "Epoch 144/150\n",
      "291/291 [==============================] - 6s 19ms/step - loss: 0.0017 - val_loss: 4.5134e-04\n",
      "Epoch 145/150\n",
      "291/291 [==============================] - 6s 20ms/step - loss: 0.0016 - val_loss: 7.4226e-04\n",
      "Epoch 146/150\n",
      "291/291 [==============================] - 6s 20ms/step - loss: 0.0015 - val_loss: 5.1848e-04\n",
      "Epoch 147/150\n",
      "291/291 [==============================] - 6s 20ms/step - loss: 0.0015 - val_loss: 5.4541e-04\n",
      "Epoch 148/150\n",
      "291/291 [==============================] - 6s 20ms/step - loss: 0.0016 - val_loss: 7.0366e-04\n",
      "Epoch 149/150\n",
      "291/291 [==============================] - 6s 20ms/step - loss: 0.0016 - val_loss: 4.8204e-04\n",
      "Epoch 150/150\n",
      "291/291 [==============================] - 6s 20ms/step - loss: 0.0015 - val_loss: 6.4142e-04\n",
      "73/73 [==============================] - 1s 5ms/step\n"
     ]
    }
   ],
   "source": [
    "import matplotlib.pyplot as plt\n",
    "import numpy as np\n",
    "import pandas as pd\n",
    "import tensorflow as tf\n",
    "import tensorflow.keras.backend as K\n",
    "from sklearn.preprocessing import MinMaxScaler\n",
    "from tensorflow.keras.callbacks import *\n",
    "from tensorflow.keras.initializers import *\n",
    "from tensorflow.keras.layers import *\n",
    "from tensorflow.keras.models import *\n",
    "from tensorflow.python.keras.layers import Layer\n",
    " \n",
    "\n",
    "BATCH_SIZE = 32\n",
    "EPOCHS = 150\n",
    "FUTURE_PERIOD_PREDICT = 1\n",
    "\n",
    " \n",
    "X_train, y_train = tx,ty\n",
    "print('X_train', X_train.shape,'y_train', y_train.shape)\n",
    "X_test, y_test = vx,vy\n",
    " \n",
    "\n",
    "\n",
    "class Attention(Layer):\n",
    "    def __init__(self, step_dim,\n",
    "                 W_regularizer=None, b_regularizer=None,\n",
    "                 W_constraint=None, b_constraint=None,\n",
    "                 bias=True, **kwargs):\n",
    "        self.supports_masking = True\n",
    "        self.init = tf.keras.initializers.get('glorot_uniform')\n",
    "        # W_regularizer: 权重上的正则化\n",
    "        # b_regularizer: 偏置项的正则化\n",
    "        self.W_regularizer = tf.keras.regularizers.get(W_regularizer)\n",
    "        self.b_regularizer = tf.keras.regularizers.get(b_regularizer)\n",
    "        # W_constraint: 权重上的约束项\n",
    "        # b_constraint: 偏置上的约束项\n",
    "        self.W_constraint = tf.keras.constraints.get(W_constraint)\n",
    "        self.b_constraint = tf.keras.constraints.get(b_constraint)\n",
    " \n",
    "        self.bias = bias\n",
    "        self.step_dim = step_dim\n",
    "        self.features_dim = 0\n",
    "        super(Attention, self).__init__(**kwargs)\n",
    " \n",
    "    def build(self, input_shape):\n",
    "        assert len(input_shape) == 3\n",
    " \n",
    "        self.W = self.add_weight(shape=(input_shape[-1],),\n",
    "                                 initializer=self.init,\n",
    "                                 name='{}_W'.format(self.name),\n",
    "                                 regularizer=self.W_regularizer,\n",
    "                                 constraint=self.W_constraint)\n",
    "        self.features_dim = input_shape[-1]\n",
    " \n",
    "        if self.bias:\n",
    "                    self.b = self.add_weight(shape=(input_shape[1],),\n",
    "                                     initializer='zero',\n",
    "                                     name='{}_b'.format(self.name),\n",
    "                                     regularizer=self.b_regularizer,\n",
    "                                     constraint=self.b_constraint)\n",
    "        else:\n",
    "            self.b = None\n",
    " \n",
    "        self.built = True\n",
    " \n",
    "    def compute_mask(self, input, input_mask=None):\n",
    "        return None\n",
    " \n",
    "    def call(self, x, mask=None):\n",
    "        features_dim = self.features_dim\n",
    "        step_dim = self.step_dim\n",
    " \n",
    "        eij = K.reshape(K.dot(K.reshape(x, (-1, features_dim)),\n",
    "                              K.reshape(self.W, (features_dim, 1))), (-1, step_dim))\n",
    " \n",
    "        if self.bias:\n",
    "            eij += self.b\n",
    " \n",
    "        eij = K.tanh(eij)\n",
    " \n",
    "        a = K.exp(eij)\n",
    " \n",
    "        '''\n",
    "        keras.backend.cast(x, dtype): 将张量转换到不同的 dtype 并返回\n",
    "        '''\n",
    "        if mask is not None:\n",
    "            a *= K.cast(mask, K.floatx())\n",
    " \n",
    "        '''\n",
    "        keras.backend.epsilon(): 返回浮点数\n",
    "        '''\n",
    "        a /= K.cast(K.sum(a, axis=1, keepdims=True) + K.epsilon()   , K.floatx())\n",
    " \n",
    "        a = K.expand_dims(a)\n",
    "        weighted_input = x * a\n",
    " \n",
    "        return K.sum(weighted_input, axis=1)\n",
    " \n",
    "    def compute_output_shape(self, input_shape):\n",
    "        return input_shape[0], self.features_dim\n",
    " \n",
    " \n",
    "inp = Input(shape=(7,1))\n",
    "x = GRU(256, return_sequences=True)(inp)\n",
    "x = Dropout(0.2)(x)\n",
    "x = BatchNormalization()(x)\n",
    "x = Attention(7)(x)\n",
    "x = Dense(32, activation=\"relu\")(x)\n",
    "x = Dropout(0.2)(x)\n",
    "x = Dense(1, activation=\"relu\")(x)\n",
    "model_lstm_attention = tf.keras.Model(inputs=inp, outputs=x)\n",
    "model_lstm_attention.compile(loss='mean_squared_error', optimizer='adam')\n",
    "model_lstm_attention.summary()\n",
    " \n",
    "earlyStopping = tf.keras.callbacks.EarlyStopping(monitor='val_loss', patience=10, verbose=1, mode='auto')\n",
    " \n",
    "tf.keras.utils.plot_model(model_lstm_attention,\n",
    "                          to_file=\"model_lstm_attention.png\",\n",
    "                          show_shapes=True)\n",
    " \n",
    "model_lstm_attention.fit(X_train, y_train,\n",
    "                    batch_size=BATCH_SIZE,\n",
    "                    epochs=EPOCHS,\n",
    "                    validation_data=(X_test, y_test))\n",
    " \n",
    "# model_lstm_attention.save('lstm+gru.h5')\n",
    " \n",
    "predicted_LSTM_Att = model_lstm_attention.predict(X_test)\n",
    " \n"
   ]
  },
  {
   "cell_type": "code",
   "execution_count": 278,
   "id": "f356d933-5f4a-4568-8cf8-8504ddd7f793",
   "metadata": {},
   "outputs": [],
   "source": [
    "yp=predicted_LSTM_Att"
   ]
  },
  {
   "cell_type": "code",
   "execution_count": 279,
   "id": "7894a17e-995d-4639-a9bf-c5cc10a6a948",
   "metadata": {},
   "outputs": [],
   "source": [
    "MSE=mean_squared_error(vy,yp)"
   ]
  },
  {
   "cell_type": "code",
   "execution_count": 280,
   "id": "d62afd87-5f3e-4a91-8025-f379f040cbe8",
   "metadata": {},
   "outputs": [
    {
     "data": {
      "text/plain": [
       "0.0006414249049400916"
      ]
     },
     "execution_count": 280,
     "metadata": {},
     "output_type": "execute_result"
    }
   ],
   "source": [
    "MSE"
   ]
  },
  {
   "cell_type": "code",
   "execution_count": 281,
   "id": "8ad3ab21-e64c-49eb-b1ca-216481c376f5",
   "metadata": {},
   "outputs": [],
   "source": [
    "MAE=mean_absolute_error(vy,yp)"
   ]
  },
  {
   "cell_type": "code",
   "execution_count": 282,
   "id": "bf0cfed9-25bc-42dd-ad48-8691e7e735de",
   "metadata": {},
   "outputs": [
    {
     "data": {
      "text/plain": [
       "0.0167503527571703"
      ]
     },
     "execution_count": 282,
     "metadata": {},
     "output_type": "execute_result"
    }
   ],
   "source": [
    "MAE"
   ]
  },
  {
   "cell_type": "code",
   "execution_count": 283,
   "id": "fa7e38e4-d063-44cb-ae5b-2de7605cfa8f",
   "metadata": {},
   "outputs": [],
   "source": [
    "R2=r2_score(vy,yp)"
   ]
  },
  {
   "cell_type": "code",
   "execution_count": 284,
   "id": "de07e123-e300-4f53-acaf-afacfe12b8b1",
   "metadata": {},
   "outputs": [
    {
     "data": {
      "text/plain": [
       "0.981780434477957"
      ]
     },
     "execution_count": 284,
     "metadata": {},
     "output_type": "execute_result"
    }
   ],
   "source": [
    "R2"
   ]
  },
  {
   "cell_type": "code",
   "execution_count": 285,
   "id": "53e81b03-7eb9-4d28-a9fc-c56959f40a65",
   "metadata": {},
   "outputs": [],
   "source": [
    "ape = np.abs((vy - yp.ravel()) / vy)\n",
    "MAPE = np.mean(ape) * 100"
   ]
  },
  {
   "cell_type": "code",
   "execution_count": 286,
   "id": "42bde833-9be0-4d1d-afb0-e3afb53ed06d",
   "metadata": {},
   "outputs": [
    {
     "data": {
      "text/plain": [
       "48.26919253167238"
      ]
     },
     "execution_count": 286,
     "metadata": {},
     "output_type": "execute_result"
    }
   ],
   "source": [
    "MAPE"
   ]
  },
  {
   "cell_type": "code",
   "execution_count": 287,
   "id": "815d4947-db57-4871-b7a0-7583275cdea7",
   "metadata": {},
   "outputs": [],
   "source": [
    "errors = np.abs(vy - yp.ravel())\n",
    "mean_true = np.mean(vy)\n",
    "RAE = np.mean(errors) / mean_true"
   ]
  },
  {
   "cell_type": "code",
   "execution_count": 288,
   "id": "6bbe83f2-1451-4bb1-88a5-363dca8347ab",
   "metadata": {},
   "outputs": [
    {
     "data": {
      "text/plain": [
       "0.10941471492981956"
      ]
     },
     "execution_count": 288,
     "metadata": {},
     "output_type": "execute_result"
    }
   ],
   "source": [
    "RAE"
   ]
  },
  {
   "cell_type": "code",
   "execution_count": null,
   "id": "ba366510-8ade-43b9-ad15-b3fca23b6940",
   "metadata": {},
   "outputs": [],
   "source": []
  }
 ],
 "metadata": {
  "kernelspec": {
   "display_name": "Python 3 (ipykernel)",
   "language": "python",
   "name": "python3"
  },
  "language_info": {
   "codemirror_mode": {
    "name": "ipython",
    "version": 3
   },
   "file_extension": ".py",
   "mimetype": "text/x-python",
   "name": "python",
   "nbconvert_exporter": "python",
   "pygments_lexer": "ipython3",
   "version": "3.9.5"
  }
 },
 "nbformat": 4,
 "nbformat_minor": 5
}
